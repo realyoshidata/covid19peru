{
 "cells": [
  {
   "cell_type": "code",
   "execution_count": 1,
   "metadata": {},
   "outputs": [
    {
     "data": {
      "text/html": [
       "<script>\n",
       "code_show=true; \n",
       "function code_toggle() {\n",
       " if (code_show){\n",
       " $('div.input').hide();\n",
       " } else {\n",
       " $('div.input').show();\n",
       " }\n",
       " code_show = !code_show\n",
       "} \n",
       "$( document ).ready(code_toggle);\n",
       "</script>\n",
       "<form action=\"javascript:code_toggle()\"><input type=\"submit\" value=\"Click here to toggle on/off the raw code.\"></form>"
      ],
      "text/plain": [
       "<IPython.core.display.HTML object>"
      ]
     },
     "execution_count": 1,
     "metadata": {},
     "output_type": "execute_result"
    }
   ],
   "source": [
    "from IPython.display import HTML\n",
    "\n",
    "HTML('''<script>\n",
    "code_show=true; \n",
    "function code_toggle() {\n",
    " if (code_show){\n",
    " $('div.input').hide();\n",
    " } else {\n",
    " $('div.input').show();\n",
    " }\n",
    " code_show = !code_show\n",
    "} \n",
    "$( document ).ready(code_toggle);\n",
    "</script>\n",
    "<form action=\"javascript:code_toggle()\"><input type=\"submit\" value=\"Click here to toggle on/off the raw code.\"></form>''')"
   ]
  },
  {
   "cell_type": "code",
   "execution_count": 1,
   "metadata": {},
   "outputs": [],
   "source": [
    "import pandas as pd\n",
    "from plotly.offline import init_notebook_mode, iplot\n",
    "import plotly.graph_objects as go\n",
    "from plotly.graph_objs import Scatter,Scatter3d\n",
    "from IPython.display import HTML\n",
    "pd.set_option('display.max_rows', 500)"
   ]
  },
  {
   "cell_type": "code",
   "execution_count": 2,
   "metadata": {},
   "outputs": [
    {
     "data": {
      "text/html": [
       "        <script type=\"text/javascript\">\n",
       "        window.PlotlyConfig = {MathJaxConfig: 'local'};\n",
       "        if (window.MathJax) {MathJax.Hub.Config({SVG: {font: \"STIX-Web\"}});}\n",
       "        if (typeof require !== 'undefined') {\n",
       "        require.undef(\"plotly\");\n",
       "        requirejs.config({\n",
       "            paths: {\n",
       "                'plotly': ['https://cdn.plot.ly/plotly-latest.min']\n",
       "            }\n",
       "        });\n",
       "        require(['plotly'], function(Plotly) {\n",
       "            window._Plotly = Plotly;\n",
       "        });\n",
       "        }\n",
       "        </script>\n",
       "        "
      ]
     },
     "metadata": {},
     "output_type": "display_data"
    }
   ],
   "source": [
    "init_notebook_mode(connected=True)"
   ]
  },
  {
   "cell_type": "markdown",
   "metadata": {},
   "source": [
    "# Fallecidos COVID19 en Perú"
   ]
  },
  {
   "cell_type": "markdown",
   "metadata": {},
   "source": [
    "Fuente de datos: https://www.datosabiertos.gob.pe/dataset/informaci%C3%B3n-de-fallecidos-del-sistema-inform%C3%A1tico-nacional-de-defunciones-sinadef-ministerio"
   ]
  },
  {
   "cell_type": "markdown",
   "metadata": {},
   "source": [
    "## ¿Cuántos fallecidos hay por COVID19 en Perú?"
   ]
  },
  {
   "cell_type": "markdown",
   "metadata": {},
   "source": [
    "Según las cifras oficiales actualmente a **día 15 de agosto de 2020 encontramos 25856 fallecidos por COVID19 en Perú**, probablemente se estén considerando únicamente personas a las que se les diagnosticó la enfermedad mediante los test de COVID19. Sin embargo, otro procedimiento para estimar el número de muertes por COVID19 es calculando el incremento de muertes en los mismos meses respecto a años anteriores. <br>\n",
    "A continuación, se muestra una gráfica de **los fallecimientos por meses para los años 2017, 2018, 2019 y 2020 (lo que llevamos de año hasta el día 15 de agosto de 2020)**. El usuario puede seleccionar los meses que le interese visualizar haciendo click en la leyenda de la derecha."
   ]
  },
  {
   "cell_type": "code",
   "execution_count": 3,
   "metadata": {},
   "outputs": [],
   "source": [
    "df_pe = pd.read_csv(\"fallecidos_sinadef.csv\",sep=\";\",encoding = \"ISO-8859-1\",low_memory=False)"
   ]
  },
  {
   "cell_type": "code",
   "execution_count": 4,
   "metadata": {},
   "outputs": [],
   "source": [
    "muertes_mensuales = df_pe.groupby([\"AÑO\",\"MES\"]).agg({\"Nº\":\"count\"}).rename(columns={\"Nº\":\"Fallecidos\"}).reset_index()"
   ]
  },
  {
   "cell_type": "code",
   "execution_count": 5,
   "metadata": {},
   "outputs": [],
   "source": [
    "m2017 = muertes_mensuales[muertes_mensuales[\"AÑO\"]==2017].reset_index(drop=True)\n",
    "m2018 = muertes_mensuales[muertes_mensuales[\"AÑO\"]==2018].reset_index(drop=True)\n",
    "m2019 = muertes_mensuales[muertes_mensuales[\"AÑO\"]==2019].reset_index(drop=True)\n",
    "m2020 = muertes_mensuales[muertes_mensuales[\"AÑO\"]==2020].reset_index(drop=True)"
   ]
  },
  {
   "cell_type": "code",
   "execution_count": 7,
   "metadata": {},
   "outputs": [
    {
     "data": {
      "application/vnd.plotly.v1+json": {
       "config": {
        "plotlyServerURL": "https://plot.ly"
       },
       "data": [
        {
         "mode": "lines+markers+text",
         "name": "2017",
         "text": [
          "7533",
          "7271",
          "8458",
          "7509",
          "7891",
          "8147",
          "8725",
          "8629",
          "8734",
          "9054",
          "8504",
          "8521"
         ],
         "textfont": {
          "color": "black",
          "size": 10
         },
         "textposition": "top center",
         "type": "scatter",
         "x": [
          1,
          2,
          3,
          4,
          5,
          6,
          7,
          8,
          9,
          10,
          11,
          12
         ],
         "y": [
          7533,
          7271,
          8458,
          7509,
          7891,
          8147,
          8725,
          8629,
          8734,
          9054,
          8504,
          8521
         ]
        },
        {
         "mode": "lines+markers+text",
         "name": "2018",
         "text": [
          "8661",
          "7824",
          "8597",
          "8493",
          "9535",
          "10380",
          "10629",
          "10232",
          "9751",
          "10109",
          "8962",
          "9638"
         ],
         "textfont": {
          "color": "black",
          "size": 10
         },
         "textposition": "top center",
         "type": "scatter",
         "x": [
          1,
          2,
          3,
          4,
          5,
          6,
          7,
          8,
          9,
          10,
          11,
          12
         ],
         "y": [
          8661,
          7824,
          8597,
          8493,
          9535,
          10380,
          10629,
          10232,
          9751,
          10109,
          8962,
          9638
         ]
        },
        {
         "mode": "lines+markers+text",
         "name": "2019",
         "text": [
          "9636",
          "9227",
          "9819",
          "8880",
          "8936",
          "9332",
          "9917",
          "9959",
          "9713",
          "9980",
          "9577",
          "9967"
         ],
         "textfont": {
          "color": "black",
          "size": 10
         },
         "textposition": "top center",
         "type": "scatter",
         "x": [
          1,
          2,
          3,
          4,
          5,
          6,
          7,
          8,
          9,
          10,
          11,
          12
         ],
         "y": [
          9636,
          9227,
          9819,
          8880,
          8936,
          9332,
          9917,
          9959,
          9713,
          9980,
          9577,
          9967
         ]
        },
        {
         "mode": "lines+markers+text",
         "name": "2020",
         "text": [
          "9790",
          "9260",
          "9657",
          "12766",
          "24713",
          "26595",
          "27897",
          "11470"
         ],
         "textfont": {
          "color": "black",
          "size": 10
         },
         "textposition": "top center",
         "type": "scatter",
         "x": [
          1,
          2,
          3,
          4,
          5,
          6,
          7,
          8
         ],
         "y": [
          9790,
          9260,
          9657,
          12766,
          24713,
          26595,
          27897,
          11470
         ]
        }
       ],
       "layout": {
        "legend": {
         "title": {
          "text": "Año"
         }
        },
        "template": {
         "data": {
          "bar": [
           {
            "error_x": {
             "color": "#2a3f5f"
            },
            "error_y": {
             "color": "#2a3f5f"
            },
            "marker": {
             "line": {
              "color": "#E5ECF6",
              "width": 0.5
             }
            },
            "type": "bar"
           }
          ],
          "barpolar": [
           {
            "marker": {
             "line": {
              "color": "#E5ECF6",
              "width": 0.5
             }
            },
            "type": "barpolar"
           }
          ],
          "carpet": [
           {
            "aaxis": {
             "endlinecolor": "#2a3f5f",
             "gridcolor": "white",
             "linecolor": "white",
             "minorgridcolor": "white",
             "startlinecolor": "#2a3f5f"
            },
            "baxis": {
             "endlinecolor": "#2a3f5f",
             "gridcolor": "white",
             "linecolor": "white",
             "minorgridcolor": "white",
             "startlinecolor": "#2a3f5f"
            },
            "type": "carpet"
           }
          ],
          "choropleth": [
           {
            "colorbar": {
             "outlinewidth": 0,
             "ticks": ""
            },
            "type": "choropleth"
           }
          ],
          "contour": [
           {
            "colorbar": {
             "outlinewidth": 0,
             "ticks": ""
            },
            "colorscale": [
             [
              0,
              "#0d0887"
             ],
             [
              0.1111111111111111,
              "#46039f"
             ],
             [
              0.2222222222222222,
              "#7201a8"
             ],
             [
              0.3333333333333333,
              "#9c179e"
             ],
             [
              0.4444444444444444,
              "#bd3786"
             ],
             [
              0.5555555555555556,
              "#d8576b"
             ],
             [
              0.6666666666666666,
              "#ed7953"
             ],
             [
              0.7777777777777778,
              "#fb9f3a"
             ],
             [
              0.8888888888888888,
              "#fdca26"
             ],
             [
              1,
              "#f0f921"
             ]
            ],
            "type": "contour"
           }
          ],
          "contourcarpet": [
           {
            "colorbar": {
             "outlinewidth": 0,
             "ticks": ""
            },
            "type": "contourcarpet"
           }
          ],
          "heatmap": [
           {
            "colorbar": {
             "outlinewidth": 0,
             "ticks": ""
            },
            "colorscale": [
             [
              0,
              "#0d0887"
             ],
             [
              0.1111111111111111,
              "#46039f"
             ],
             [
              0.2222222222222222,
              "#7201a8"
             ],
             [
              0.3333333333333333,
              "#9c179e"
             ],
             [
              0.4444444444444444,
              "#bd3786"
             ],
             [
              0.5555555555555556,
              "#d8576b"
             ],
             [
              0.6666666666666666,
              "#ed7953"
             ],
             [
              0.7777777777777778,
              "#fb9f3a"
             ],
             [
              0.8888888888888888,
              "#fdca26"
             ],
             [
              1,
              "#f0f921"
             ]
            ],
            "type": "heatmap"
           }
          ],
          "heatmapgl": [
           {
            "colorbar": {
             "outlinewidth": 0,
             "ticks": ""
            },
            "colorscale": [
             [
              0,
              "#0d0887"
             ],
             [
              0.1111111111111111,
              "#46039f"
             ],
             [
              0.2222222222222222,
              "#7201a8"
             ],
             [
              0.3333333333333333,
              "#9c179e"
             ],
             [
              0.4444444444444444,
              "#bd3786"
             ],
             [
              0.5555555555555556,
              "#d8576b"
             ],
             [
              0.6666666666666666,
              "#ed7953"
             ],
             [
              0.7777777777777778,
              "#fb9f3a"
             ],
             [
              0.8888888888888888,
              "#fdca26"
             ],
             [
              1,
              "#f0f921"
             ]
            ],
            "type": "heatmapgl"
           }
          ],
          "histogram": [
           {
            "marker": {
             "colorbar": {
              "outlinewidth": 0,
              "ticks": ""
             }
            },
            "type": "histogram"
           }
          ],
          "histogram2d": [
           {
            "colorbar": {
             "outlinewidth": 0,
             "ticks": ""
            },
            "colorscale": [
             [
              0,
              "#0d0887"
             ],
             [
              0.1111111111111111,
              "#46039f"
             ],
             [
              0.2222222222222222,
              "#7201a8"
             ],
             [
              0.3333333333333333,
              "#9c179e"
             ],
             [
              0.4444444444444444,
              "#bd3786"
             ],
             [
              0.5555555555555556,
              "#d8576b"
             ],
             [
              0.6666666666666666,
              "#ed7953"
             ],
             [
              0.7777777777777778,
              "#fb9f3a"
             ],
             [
              0.8888888888888888,
              "#fdca26"
             ],
             [
              1,
              "#f0f921"
             ]
            ],
            "type": "histogram2d"
           }
          ],
          "histogram2dcontour": [
           {
            "colorbar": {
             "outlinewidth": 0,
             "ticks": ""
            },
            "colorscale": [
             [
              0,
              "#0d0887"
             ],
             [
              0.1111111111111111,
              "#46039f"
             ],
             [
              0.2222222222222222,
              "#7201a8"
             ],
             [
              0.3333333333333333,
              "#9c179e"
             ],
             [
              0.4444444444444444,
              "#bd3786"
             ],
             [
              0.5555555555555556,
              "#d8576b"
             ],
             [
              0.6666666666666666,
              "#ed7953"
             ],
             [
              0.7777777777777778,
              "#fb9f3a"
             ],
             [
              0.8888888888888888,
              "#fdca26"
             ],
             [
              1,
              "#f0f921"
             ]
            ],
            "type": "histogram2dcontour"
           }
          ],
          "mesh3d": [
           {
            "colorbar": {
             "outlinewidth": 0,
             "ticks": ""
            },
            "type": "mesh3d"
           }
          ],
          "parcoords": [
           {
            "line": {
             "colorbar": {
              "outlinewidth": 0,
              "ticks": ""
             }
            },
            "type": "parcoords"
           }
          ],
          "pie": [
           {
            "automargin": true,
            "type": "pie"
           }
          ],
          "scatter": [
           {
            "marker": {
             "colorbar": {
              "outlinewidth": 0,
              "ticks": ""
             }
            },
            "type": "scatter"
           }
          ],
          "scatter3d": [
           {
            "line": {
             "colorbar": {
              "outlinewidth": 0,
              "ticks": ""
             }
            },
            "marker": {
             "colorbar": {
              "outlinewidth": 0,
              "ticks": ""
             }
            },
            "type": "scatter3d"
           }
          ],
          "scattercarpet": [
           {
            "marker": {
             "colorbar": {
              "outlinewidth": 0,
              "ticks": ""
             }
            },
            "type": "scattercarpet"
           }
          ],
          "scattergeo": [
           {
            "marker": {
             "colorbar": {
              "outlinewidth": 0,
              "ticks": ""
             }
            },
            "type": "scattergeo"
           }
          ],
          "scattergl": [
           {
            "marker": {
             "colorbar": {
              "outlinewidth": 0,
              "ticks": ""
             }
            },
            "type": "scattergl"
           }
          ],
          "scattermapbox": [
           {
            "marker": {
             "colorbar": {
              "outlinewidth": 0,
              "ticks": ""
             }
            },
            "type": "scattermapbox"
           }
          ],
          "scatterpolar": [
           {
            "marker": {
             "colorbar": {
              "outlinewidth": 0,
              "ticks": ""
             }
            },
            "type": "scatterpolar"
           }
          ],
          "scatterpolargl": [
           {
            "marker": {
             "colorbar": {
              "outlinewidth": 0,
              "ticks": ""
             }
            },
            "type": "scatterpolargl"
           }
          ],
          "scatterternary": [
           {
            "marker": {
             "colorbar": {
              "outlinewidth": 0,
              "ticks": ""
             }
            },
            "type": "scatterternary"
           }
          ],
          "surface": [
           {
            "colorbar": {
             "outlinewidth": 0,
             "ticks": ""
            },
            "colorscale": [
             [
              0,
              "#0d0887"
             ],
             [
              0.1111111111111111,
              "#46039f"
             ],
             [
              0.2222222222222222,
              "#7201a8"
             ],
             [
              0.3333333333333333,
              "#9c179e"
             ],
             [
              0.4444444444444444,
              "#bd3786"
             ],
             [
              0.5555555555555556,
              "#d8576b"
             ],
             [
              0.6666666666666666,
              "#ed7953"
             ],
             [
              0.7777777777777778,
              "#fb9f3a"
             ],
             [
              0.8888888888888888,
              "#fdca26"
             ],
             [
              1,
              "#f0f921"
             ]
            ],
            "type": "surface"
           }
          ],
          "table": [
           {
            "cells": {
             "fill": {
              "color": "#EBF0F8"
             },
             "line": {
              "color": "white"
             }
            },
            "header": {
             "fill": {
              "color": "#C8D4E3"
             },
             "line": {
              "color": "white"
             }
            },
            "type": "table"
           }
          ]
         },
         "layout": {
          "annotationdefaults": {
           "arrowcolor": "#2a3f5f",
           "arrowhead": 0,
           "arrowwidth": 1
          },
          "coloraxis": {
           "colorbar": {
            "outlinewidth": 0,
            "ticks": ""
           }
          },
          "colorscale": {
           "diverging": [
            [
             0,
             "#8e0152"
            ],
            [
             0.1,
             "#c51b7d"
            ],
            [
             0.2,
             "#de77ae"
            ],
            [
             0.3,
             "#f1b6da"
            ],
            [
             0.4,
             "#fde0ef"
            ],
            [
             0.5,
             "#f7f7f7"
            ],
            [
             0.6,
             "#e6f5d0"
            ],
            [
             0.7,
             "#b8e186"
            ],
            [
             0.8,
             "#7fbc41"
            ],
            [
             0.9,
             "#4d9221"
            ],
            [
             1,
             "#276419"
            ]
           ],
           "sequential": [
            [
             0,
             "#0d0887"
            ],
            [
             0.1111111111111111,
             "#46039f"
            ],
            [
             0.2222222222222222,
             "#7201a8"
            ],
            [
             0.3333333333333333,
             "#9c179e"
            ],
            [
             0.4444444444444444,
             "#bd3786"
            ],
            [
             0.5555555555555556,
             "#d8576b"
            ],
            [
             0.6666666666666666,
             "#ed7953"
            ],
            [
             0.7777777777777778,
             "#fb9f3a"
            ],
            [
             0.8888888888888888,
             "#fdca26"
            ],
            [
             1,
             "#f0f921"
            ]
           ],
           "sequentialminus": [
            [
             0,
             "#0d0887"
            ],
            [
             0.1111111111111111,
             "#46039f"
            ],
            [
             0.2222222222222222,
             "#7201a8"
            ],
            [
             0.3333333333333333,
             "#9c179e"
            ],
            [
             0.4444444444444444,
             "#bd3786"
            ],
            [
             0.5555555555555556,
             "#d8576b"
            ],
            [
             0.6666666666666666,
             "#ed7953"
            ],
            [
             0.7777777777777778,
             "#fb9f3a"
            ],
            [
             0.8888888888888888,
             "#fdca26"
            ],
            [
             1,
             "#f0f921"
            ]
           ]
          },
          "colorway": [
           "#636efa",
           "#EF553B",
           "#00cc96",
           "#ab63fa",
           "#FFA15A",
           "#19d3f3",
           "#FF6692",
           "#B6E880",
           "#FF97FF",
           "#FECB52"
          ],
          "font": {
           "color": "#2a3f5f"
          },
          "geo": {
           "bgcolor": "white",
           "lakecolor": "white",
           "landcolor": "#E5ECF6",
           "showlakes": true,
           "showland": true,
           "subunitcolor": "white"
          },
          "hoverlabel": {
           "align": "left"
          },
          "hovermode": "closest",
          "mapbox": {
           "style": "light"
          },
          "paper_bgcolor": "white",
          "plot_bgcolor": "#E5ECF6",
          "polar": {
           "angularaxis": {
            "gridcolor": "white",
            "linecolor": "white",
            "ticks": ""
           },
           "bgcolor": "#E5ECF6",
           "radialaxis": {
            "gridcolor": "white",
            "linecolor": "white",
            "ticks": ""
           }
          },
          "scene": {
           "xaxis": {
            "backgroundcolor": "#E5ECF6",
            "gridcolor": "white",
            "gridwidth": 2,
            "linecolor": "white",
            "showbackground": true,
            "ticks": "",
            "zerolinecolor": "white"
           },
           "yaxis": {
            "backgroundcolor": "#E5ECF6",
            "gridcolor": "white",
            "gridwidth": 2,
            "linecolor": "white",
            "showbackground": true,
            "ticks": "",
            "zerolinecolor": "white"
           },
           "zaxis": {
            "backgroundcolor": "#E5ECF6",
            "gridcolor": "white",
            "gridwidth": 2,
            "linecolor": "white",
            "showbackground": true,
            "ticks": "",
            "zerolinecolor": "white"
           }
          },
          "shapedefaults": {
           "line": {
            "color": "#2a3f5f"
           }
          },
          "ternary": {
           "aaxis": {
            "gridcolor": "white",
            "linecolor": "white",
            "ticks": ""
           },
           "baxis": {
            "gridcolor": "white",
            "linecolor": "white",
            "ticks": ""
           },
           "bgcolor": "#E5ECF6",
           "caxis": {
            "gridcolor": "white",
            "linecolor": "white",
            "ticks": ""
           }
          },
          "title": {
           "x": 0.05
          },
          "xaxis": {
           "automargin": true,
           "gridcolor": "white",
           "linecolor": "white",
           "ticks": "",
           "title": {
            "standoff": 15
           },
           "zerolinecolor": "white",
           "zerolinewidth": 2
          },
          "yaxis": {
           "automargin": true,
           "gridcolor": "white",
           "linecolor": "white",
           "ticks": "",
           "title": {
            "standoff": 15
           },
           "zerolinecolor": "white",
           "zerolinewidth": 2
          }
         }
        },
        "title": {
         "text": "Evoluciones Fallecimientos - Perú"
        },
        "xaxis": {
         "title": {
          "text": "Mes"
         }
        },
        "yaxis": {
         "title": {
          "text": "Fallecidos"
         }
        }
       }
      },
      "text/html": [
       "<div>\n",
       "        \n",
       "        \n",
       "            <div id=\"13612919-954f-496b-92d7-94255e2ebeae\" class=\"plotly-graph-div\" style=\"height:525px; width:100%;\"></div>\n",
       "            <script type=\"text/javascript\">\n",
       "                require([\"plotly\"], function(Plotly) {\n",
       "                    window.PLOTLYENV=window.PLOTLYENV || {};\n",
       "                    \n",
       "                if (document.getElementById(\"13612919-954f-496b-92d7-94255e2ebeae\")) {\n",
       "                    Plotly.newPlot(\n",
       "                        '13612919-954f-496b-92d7-94255e2ebeae',\n",
       "                        [{\"mode\": \"lines+markers+text\", \"name\": \"2017\", \"text\": [\"7533\", \"7271\", \"8458\", \"7509\", \"7891\", \"8147\", \"8725\", \"8629\", \"8734\", \"9054\", \"8504\", \"8521\"], \"textfont\": {\"color\": \"black\", \"size\": 10}, \"textposition\": \"top center\", \"type\": \"scatter\", \"x\": [1, 2, 3, 4, 5, 6, 7, 8, 9, 10, 11, 12], \"y\": [7533, 7271, 8458, 7509, 7891, 8147, 8725, 8629, 8734, 9054, 8504, 8521]}, {\"mode\": \"lines+markers+text\", \"name\": \"2018\", \"text\": [\"8661\", \"7824\", \"8597\", \"8493\", \"9535\", \"10380\", \"10629\", \"10232\", \"9751\", \"10109\", \"8962\", \"9638\"], \"textfont\": {\"color\": \"black\", \"size\": 10}, \"textposition\": \"top center\", \"type\": \"scatter\", \"x\": [1, 2, 3, 4, 5, 6, 7, 8, 9, 10, 11, 12], \"y\": [8661, 7824, 8597, 8493, 9535, 10380, 10629, 10232, 9751, 10109, 8962, 9638]}, {\"mode\": \"lines+markers+text\", \"name\": \"2019\", \"text\": [\"9636\", \"9227\", \"9819\", \"8880\", \"8936\", \"9332\", \"9917\", \"9959\", \"9713\", \"9980\", \"9577\", \"9967\"], \"textfont\": {\"color\": \"black\", \"size\": 10}, \"textposition\": \"top center\", \"type\": \"scatter\", \"x\": [1, 2, 3, 4, 5, 6, 7, 8, 9, 10, 11, 12], \"y\": [9636, 9227, 9819, 8880, 8936, 9332, 9917, 9959, 9713, 9980, 9577, 9967]}, {\"mode\": \"lines+markers+text\", \"name\": \"2020\", \"text\": [\"9790\", \"9260\", \"9657\", \"12766\", \"24713\", \"26595\", \"27897\", \"11470\"], \"textfont\": {\"color\": \"black\", \"size\": 10}, \"textposition\": \"top center\", \"type\": \"scatter\", \"x\": [1, 2, 3, 4, 5, 6, 7, 8], \"y\": [9790, 9260, 9657, 12766, 24713, 26595, 27897, 11470]}],\n",
       "                        {\"legend\": {\"title\": {\"text\": \"A\\u00f1o\"}}, \"template\": {\"data\": {\"bar\": [{\"error_x\": {\"color\": \"#2a3f5f\"}, \"error_y\": {\"color\": \"#2a3f5f\"}, \"marker\": {\"line\": {\"color\": \"#E5ECF6\", \"width\": 0.5}}, \"type\": \"bar\"}], \"barpolar\": [{\"marker\": {\"line\": {\"color\": \"#E5ECF6\", \"width\": 0.5}}, \"type\": \"barpolar\"}], \"carpet\": [{\"aaxis\": {\"endlinecolor\": \"#2a3f5f\", \"gridcolor\": \"white\", \"linecolor\": \"white\", \"minorgridcolor\": \"white\", \"startlinecolor\": \"#2a3f5f\"}, \"baxis\": {\"endlinecolor\": \"#2a3f5f\", \"gridcolor\": \"white\", \"linecolor\": \"white\", \"minorgridcolor\": \"white\", \"startlinecolor\": \"#2a3f5f\"}, \"type\": \"carpet\"}], \"choropleth\": [{\"colorbar\": {\"outlinewidth\": 0, \"ticks\": \"\"}, \"type\": \"choropleth\"}], \"contour\": [{\"colorbar\": {\"outlinewidth\": 0, \"ticks\": \"\"}, \"colorscale\": [[0.0, \"#0d0887\"], [0.1111111111111111, \"#46039f\"], [0.2222222222222222, \"#7201a8\"], [0.3333333333333333, \"#9c179e\"], [0.4444444444444444, \"#bd3786\"], [0.5555555555555556, \"#d8576b\"], [0.6666666666666666, \"#ed7953\"], [0.7777777777777778, \"#fb9f3a\"], [0.8888888888888888, \"#fdca26\"], [1.0, \"#f0f921\"]], \"type\": \"contour\"}], \"contourcarpet\": [{\"colorbar\": {\"outlinewidth\": 0, \"ticks\": \"\"}, \"type\": \"contourcarpet\"}], \"heatmap\": [{\"colorbar\": {\"outlinewidth\": 0, \"ticks\": \"\"}, \"colorscale\": [[0.0, \"#0d0887\"], [0.1111111111111111, \"#46039f\"], [0.2222222222222222, \"#7201a8\"], [0.3333333333333333, \"#9c179e\"], [0.4444444444444444, \"#bd3786\"], [0.5555555555555556, \"#d8576b\"], [0.6666666666666666, \"#ed7953\"], [0.7777777777777778, \"#fb9f3a\"], [0.8888888888888888, \"#fdca26\"], [1.0, \"#f0f921\"]], \"type\": \"heatmap\"}], \"heatmapgl\": [{\"colorbar\": {\"outlinewidth\": 0, \"ticks\": \"\"}, \"colorscale\": [[0.0, \"#0d0887\"], [0.1111111111111111, \"#46039f\"], [0.2222222222222222, \"#7201a8\"], [0.3333333333333333, \"#9c179e\"], [0.4444444444444444, \"#bd3786\"], [0.5555555555555556, \"#d8576b\"], [0.6666666666666666, \"#ed7953\"], [0.7777777777777778, \"#fb9f3a\"], [0.8888888888888888, \"#fdca26\"], [1.0, \"#f0f921\"]], \"type\": \"heatmapgl\"}], \"histogram\": [{\"marker\": {\"colorbar\": {\"outlinewidth\": 0, \"ticks\": \"\"}}, \"type\": \"histogram\"}], \"histogram2d\": [{\"colorbar\": {\"outlinewidth\": 0, \"ticks\": \"\"}, \"colorscale\": [[0.0, \"#0d0887\"], [0.1111111111111111, \"#46039f\"], [0.2222222222222222, \"#7201a8\"], [0.3333333333333333, \"#9c179e\"], [0.4444444444444444, \"#bd3786\"], [0.5555555555555556, \"#d8576b\"], [0.6666666666666666, \"#ed7953\"], [0.7777777777777778, \"#fb9f3a\"], [0.8888888888888888, \"#fdca26\"], [1.0, \"#f0f921\"]], \"type\": \"histogram2d\"}], \"histogram2dcontour\": [{\"colorbar\": {\"outlinewidth\": 0, \"ticks\": \"\"}, \"colorscale\": [[0.0, \"#0d0887\"], [0.1111111111111111, \"#46039f\"], [0.2222222222222222, \"#7201a8\"], [0.3333333333333333, \"#9c179e\"], [0.4444444444444444, \"#bd3786\"], [0.5555555555555556, \"#d8576b\"], [0.6666666666666666, \"#ed7953\"], [0.7777777777777778, \"#fb9f3a\"], [0.8888888888888888, \"#fdca26\"], [1.0, \"#f0f921\"]], \"type\": \"histogram2dcontour\"}], \"mesh3d\": [{\"colorbar\": {\"outlinewidth\": 0, \"ticks\": \"\"}, \"type\": \"mesh3d\"}], \"parcoords\": [{\"line\": {\"colorbar\": {\"outlinewidth\": 0, \"ticks\": \"\"}}, \"type\": \"parcoords\"}], \"pie\": [{\"automargin\": true, \"type\": \"pie\"}], \"scatter\": [{\"marker\": {\"colorbar\": {\"outlinewidth\": 0, \"ticks\": \"\"}}, \"type\": \"scatter\"}], \"scatter3d\": [{\"line\": {\"colorbar\": {\"outlinewidth\": 0, \"ticks\": \"\"}}, \"marker\": {\"colorbar\": {\"outlinewidth\": 0, \"ticks\": \"\"}}, \"type\": \"scatter3d\"}], \"scattercarpet\": [{\"marker\": {\"colorbar\": {\"outlinewidth\": 0, \"ticks\": \"\"}}, \"type\": \"scattercarpet\"}], \"scattergeo\": [{\"marker\": {\"colorbar\": {\"outlinewidth\": 0, \"ticks\": \"\"}}, \"type\": \"scattergeo\"}], \"scattergl\": [{\"marker\": {\"colorbar\": {\"outlinewidth\": 0, \"ticks\": \"\"}}, \"type\": \"scattergl\"}], \"scattermapbox\": [{\"marker\": {\"colorbar\": {\"outlinewidth\": 0, \"ticks\": \"\"}}, \"type\": \"scattermapbox\"}], \"scatterpolar\": [{\"marker\": {\"colorbar\": {\"outlinewidth\": 0, \"ticks\": \"\"}}, \"type\": \"scatterpolar\"}], \"scatterpolargl\": [{\"marker\": {\"colorbar\": {\"outlinewidth\": 0, \"ticks\": \"\"}}, \"type\": \"scatterpolargl\"}], \"scatterternary\": [{\"marker\": {\"colorbar\": {\"outlinewidth\": 0, \"ticks\": \"\"}}, \"type\": \"scatterternary\"}], \"surface\": [{\"colorbar\": {\"outlinewidth\": 0, \"ticks\": \"\"}, \"colorscale\": [[0.0, \"#0d0887\"], [0.1111111111111111, \"#46039f\"], [0.2222222222222222, \"#7201a8\"], [0.3333333333333333, \"#9c179e\"], [0.4444444444444444, \"#bd3786\"], [0.5555555555555556, \"#d8576b\"], [0.6666666666666666, \"#ed7953\"], [0.7777777777777778, \"#fb9f3a\"], [0.8888888888888888, \"#fdca26\"], [1.0, \"#f0f921\"]], \"type\": \"surface\"}], \"table\": [{\"cells\": {\"fill\": {\"color\": \"#EBF0F8\"}, \"line\": {\"color\": \"white\"}}, \"header\": {\"fill\": {\"color\": \"#C8D4E3\"}, \"line\": {\"color\": \"white\"}}, \"type\": \"table\"}]}, \"layout\": {\"annotationdefaults\": {\"arrowcolor\": \"#2a3f5f\", \"arrowhead\": 0, \"arrowwidth\": 1}, \"coloraxis\": {\"colorbar\": {\"outlinewidth\": 0, \"ticks\": \"\"}}, \"colorscale\": {\"diverging\": [[0, \"#8e0152\"], [0.1, \"#c51b7d\"], [0.2, \"#de77ae\"], [0.3, \"#f1b6da\"], [0.4, \"#fde0ef\"], [0.5, \"#f7f7f7\"], [0.6, \"#e6f5d0\"], [0.7, \"#b8e186\"], [0.8, \"#7fbc41\"], [0.9, \"#4d9221\"], [1, \"#276419\"]], \"sequential\": [[0.0, \"#0d0887\"], [0.1111111111111111, \"#46039f\"], [0.2222222222222222, \"#7201a8\"], [0.3333333333333333, \"#9c179e\"], [0.4444444444444444, \"#bd3786\"], [0.5555555555555556, \"#d8576b\"], [0.6666666666666666, \"#ed7953\"], [0.7777777777777778, \"#fb9f3a\"], [0.8888888888888888, \"#fdca26\"], [1.0, \"#f0f921\"]], \"sequentialminus\": [[0.0, \"#0d0887\"], [0.1111111111111111, \"#46039f\"], [0.2222222222222222, \"#7201a8\"], [0.3333333333333333, \"#9c179e\"], [0.4444444444444444, \"#bd3786\"], [0.5555555555555556, \"#d8576b\"], [0.6666666666666666, \"#ed7953\"], [0.7777777777777778, \"#fb9f3a\"], [0.8888888888888888, \"#fdca26\"], [1.0, \"#f0f921\"]]}, \"colorway\": [\"#636efa\", \"#EF553B\", \"#00cc96\", \"#ab63fa\", \"#FFA15A\", \"#19d3f3\", \"#FF6692\", \"#B6E880\", \"#FF97FF\", \"#FECB52\"], \"font\": {\"color\": \"#2a3f5f\"}, \"geo\": {\"bgcolor\": \"white\", \"lakecolor\": \"white\", \"landcolor\": \"#E5ECF6\", \"showlakes\": true, \"showland\": true, \"subunitcolor\": \"white\"}, \"hoverlabel\": {\"align\": \"left\"}, \"hovermode\": \"closest\", \"mapbox\": {\"style\": \"light\"}, \"paper_bgcolor\": \"white\", \"plot_bgcolor\": \"#E5ECF6\", \"polar\": {\"angularaxis\": {\"gridcolor\": \"white\", \"linecolor\": \"white\", \"ticks\": \"\"}, \"bgcolor\": \"#E5ECF6\", \"radialaxis\": {\"gridcolor\": \"white\", \"linecolor\": \"white\", \"ticks\": \"\"}}, \"scene\": {\"xaxis\": {\"backgroundcolor\": \"#E5ECF6\", \"gridcolor\": \"white\", \"gridwidth\": 2, \"linecolor\": \"white\", \"showbackground\": true, \"ticks\": \"\", \"zerolinecolor\": \"white\"}, \"yaxis\": {\"backgroundcolor\": \"#E5ECF6\", \"gridcolor\": \"white\", \"gridwidth\": 2, \"linecolor\": \"white\", \"showbackground\": true, \"ticks\": \"\", \"zerolinecolor\": \"white\"}, \"zaxis\": {\"backgroundcolor\": \"#E5ECF6\", \"gridcolor\": \"white\", \"gridwidth\": 2, \"linecolor\": \"white\", \"showbackground\": true, \"ticks\": \"\", \"zerolinecolor\": \"white\"}}, \"shapedefaults\": {\"line\": {\"color\": \"#2a3f5f\"}}, \"ternary\": {\"aaxis\": {\"gridcolor\": \"white\", \"linecolor\": \"white\", \"ticks\": \"\"}, \"baxis\": {\"gridcolor\": \"white\", \"linecolor\": \"white\", \"ticks\": \"\"}, \"bgcolor\": \"#E5ECF6\", \"caxis\": {\"gridcolor\": \"white\", \"linecolor\": \"white\", \"ticks\": \"\"}}, \"title\": {\"x\": 0.05}, \"xaxis\": {\"automargin\": true, \"gridcolor\": \"white\", \"linecolor\": \"white\", \"ticks\": \"\", \"title\": {\"standoff\": 15}, \"zerolinecolor\": \"white\", \"zerolinewidth\": 2}, \"yaxis\": {\"automargin\": true, \"gridcolor\": \"white\", \"linecolor\": \"white\", \"ticks\": \"\", \"title\": {\"standoff\": 15}, \"zerolinecolor\": \"white\", \"zerolinewidth\": 2}}}, \"title\": {\"text\": \"Evoluciones Fallecimientos - Per\\u00fa\"}, \"xaxis\": {\"title\": {\"text\": \"Mes\"}}, \"yaxis\": {\"title\": {\"text\": \"Fallecidos\"}}},\n",
       "                        {\"responsive\": true}\n",
       "                    ).then(function(){\n",
       "                            \n",
       "var gd = document.getElementById('13612919-954f-496b-92d7-94255e2ebeae');\n",
       "var x = new MutationObserver(function (mutations, observer) {{\n",
       "        var display = window.getComputedStyle(gd).display;\n",
       "        if (!display || display === 'none') {{\n",
       "            console.log([gd, 'removed!']);\n",
       "            Plotly.purge(gd);\n",
       "            observer.disconnect();\n",
       "        }}\n",
       "}});\n",
       "\n",
       "// Listen for the removal of the full notebook cells\n",
       "var notebookContainer = gd.closest('#notebook-container');\n",
       "if (notebookContainer) {{\n",
       "    x.observe(notebookContainer, {childList: true});\n",
       "}}\n",
       "\n",
       "// Listen for the clearing of the current output cell\n",
       "var outputEl = gd.closest('.output');\n",
       "if (outputEl) {{\n",
       "    x.observe(outputEl, {childList: true});\n",
       "}}\n",
       "\n",
       "                        })\n",
       "                };\n",
       "                });\n",
       "            </script>\n",
       "        </div>"
      ]
     },
     "metadata": {},
     "output_type": "display_data"
    }
   ],
   "source": [
    "traza_2017 = Scatter(\n",
    "  x=m2017[\"MES\"],\n",
    "  y=m2017[\"Fallecidos\"],\n",
    "  text=m2017[\"Fallecidos\"].astype(str),\n",
    "  textposition=\"top center\",\n",
    "  textfont=dict(\n",
    "                color=\"black\",\n",
    "                size=10\n",
    "            ),\n",
    "  mode='lines+markers+text',\n",
    "  name= '2017'\n",
    ")\n",
    "traza_2018 = Scatter(\n",
    "  x=m2018[\"MES\"],\n",
    "  y=m2018[\"Fallecidos\"],\n",
    "  text=m2018[\"Fallecidos\"].astype(str),\n",
    "  textposition=\"top center\",\n",
    "  textfont=dict(\n",
    "                color=\"black\",\n",
    "                size=10\n",
    "            ),\n",
    "  mode='lines+markers+text',\n",
    "  name= '2018'\n",
    ")\n",
    "\n",
    "traza_2019 = Scatter(\n",
    "  x=m2019[\"MES\"],\n",
    "  y=m2019[\"Fallecidos\"],\n",
    "  text=m2019[\"Fallecidos\"].astype(str),\n",
    "  textposition=\"top center\",\n",
    "  textfont=dict(\n",
    "                color=\"black\",\n",
    "                size=10\n",
    "            ),\n",
    "  mode='lines+markers+text',\n",
    "  name= '2019'\n",
    ")\n",
    "\n",
    "traza_2020 = Scatter(\n",
    "  x=m2020[\"MES\"],\n",
    "  y=m2020[\"Fallecidos\"],\n",
    "  text=m2020[\"Fallecidos\"].astype(str),\n",
    "  textposition=\"top center\",\n",
    "  textfont=dict(\n",
    "                color=\"black\",\n",
    "                size=10\n",
    "            ),\n",
    "  mode='lines+markers+text',\n",
    "name= '2020'\n",
    ")\n",
    "data = [traza_2017,traza_2018,traza_2019,traza_2020]\n",
    "fig = go.Figure(data=data)\n",
    "fig.update_layout(\n",
    "    title=\"Evoluciones Fallecimientos - Perú\",\n",
    "    xaxis_title=\"Mes\",\n",
    "    yaxis_title=\"Fallecidos\",\n",
    "    legend_title=\"Año\"\n",
    ")\n",
    "\n",
    "fig.show()"
   ]
  },
  {
   "cell_type": "markdown",
   "metadata": {},
   "source": [
    "**Podemos ver que más o menos el número de muertes es muy similiar para los meses de 2017,2018 y 2019. Sin embargo, esto cambia para 2020, ya que se puede observar que hasta marzo el número de muertes cuadra con años anteriores, pero a partir de abril la diferencia incrementa muchísimo. Podríamos pensar que ese exceso de fallecimientos sean producidos por COVID19.**"
   ]
  },
  {
   "cell_type": "markdown",
   "metadata": {},
   "source": [
    "**Si comparamos los fallecimientos de 2020 contra los de 2019 durante los meses de abril-agosto, podemos observar que hay 56417 fallecimientos más  (hay que tener en cuenta que recién vamos por mediados de agosto por lo que el mes aún no está completo)**"
   ]
  },
  {
   "cell_type": "markdown",
   "metadata": {},
   "source": [
    "## ¿Cómo ha afectado el COVID19 a las diferentes provincias peruanas?"
   ]
  },
  {
   "cell_type": "code",
   "execution_count": 10,
   "metadata": {},
   "outputs": [],
   "source": [
    "# 2020\n",
    "bool_anyo = df_pe[\"AÑO\"] == 2020\n",
    "bool_meses = df_pe[\"MES\"].isin([4,5,6,7])\n",
    "df_peru_2020_covid = df_pe[bool_anyo & bool_meses].reset_index(drop=True)\n",
    "df_peru_2020_covid_dom = df_peru_2020_covid.groupby(\"PROVINCIA DOMICILIO\").agg({\"Nº\":\"count\"}).rename(columns={\"Nº\":\"Fallecidos2020\"}).reset_index()\n",
    "#df_peru_2020_covid_dom = df_peru_2020_covid_dom[df_peru_2020_covid_dom[\"Fallecidos2020\"] >= 30].reset_index(drop=True)\n",
    "\n",
    "# 2019\n",
    "bool_anyo = df_pe[\"AÑO\"] == 2019\n",
    "bool_meses = df_pe[\"MES\"].isin([4,5,6,7])\n",
    "df_peru_2019_covid = df_pe[bool_anyo & bool_meses].reset_index(drop=True)\n",
    "df_peru_2019_covid_dom = df_peru_2019_covid.groupby(\"PROVINCIA DOMICILIO\").agg({\"Nº\":\"count\"}).rename(columns={\"Nº\":\"Fallecidos2019\"}).reset_index()\n",
    "#df_peru_2019_covid_dom = df_peru_2019_covid_dom[df_peru_2019_covid_dom[\"Fallecidos2019\"] >= 30].reset_index(drop=True)\n",
    "\n",
    "# 2018\n",
    "bool_anyo = df_pe[\"AÑO\"] == 2018\n",
    "bool_meses = df_pe[\"MES\"].isin([4,5,6,7])\n",
    "df_peru_2018_covid = df_pe[bool_anyo & bool_meses].reset_index(drop=True)\n",
    "df_peru_2018_covid_dom = df_peru_2018_covid.groupby(\"PROVINCIA DOMICILIO\").agg({\"Nº\":\"count\"}).rename(columns={\"Nº\":\"Fallecidos2018\"}).reset_index()\n",
    "#df_peru_2018_covid_dom = df_peru_2018_covid_dom[df_peru_2018_covid_dom[\"Fallecidos2018\"] >= 30].reset_index(drop=True)\n",
    "\n",
    "#Incrementos\n",
    "muertes_provincia = pd.merge(df_peru_2020_covid_dom,df_peru_2019_covid_dom,on=\"PROVINCIA DOMICILIO\",how=\"outer\").fillna(0.0)\n",
    "muertes_provincia = pd.merge(muertes_provincia,df_peru_2018_covid_dom,on=\"PROVINCIA DOMICILIO\",how=\"outer\").fillna(0.0)\n",
    "muertes_provincia[\"incremento\"] = muertes_provincia[\"Fallecidos2020\"]-muertes_provincia[\"Fallecidos2019\"]\n",
    "muertes_provincia[\"incremento_relativo\"] = muertes_provincia[\"incremento\"]/muertes_provincia[\"Fallecidos2019\"]\n",
    "muertes_provincia[\"incremento_relativo%\"] = muertes_provincia[\"incremento_relativo\"]*100\n",
    "muertes_provincia = muertes_provincia.sort_values(\"incremento_relativo%\",ascending=False).reset_index(drop=True)\n",
    "final_provincia = muertes_provincia.rename(columns={\"PROVINCIA DOMICILIO\":\"Provincia\", \n",
    "                                 \"Fallecidos2020\": \"Fallecidos - 2020\",\n",
    "                                \"Fallecidos2019\": \"Fallecidos - 2019\",\n",
    "                                \"Fallecidos2018\": \"Fallecidos - 2018\",\n",
    "                                 \"incremento\": \"Incremento Absoluto (2020-2019)\",\n",
    "                                 \"incremento_relativo\": \"Incremento Relativo  (2020-2019)\",\n",
    "                                 \"incremento_relativo%\": \"Incremento Relativo  (2020-2019)(%)\",\n",
    "                                })"
   ]
  },
  {
   "cell_type": "markdown",
   "metadata": {},
   "source": [
    "Para realizar este análisis tendremos en cuenta los fallecimientos en los meses: abril,mayo,junio y julio (periodo covid con meses completos)."
   ]
  },
  {
   "cell_type": "markdown",
   "metadata": {},
   "source": [
    "Uno de los puntos a destacar en el ámbito provincial es que los datos pueden variar bastante de un año a otro, por ejemplo, en la tabla que se muestra a continuación vemos que hay provincias que tienen un número bastante diferente de muertes para 2018 y 2019, un claro ejemplo es Chiclayo, en 2019 hubo 156 fallecimientos mientras que en 2018 hubo 1016 (abril,mayo,junio y julio), **¿se trata de un error de medición o hubo algún factor que influyera en el número de fallecimientos?**. <br>\n",
    "En la tabla inferior también se puede observar que hay provincias que durante el periodo COVID19 (abril,mayo,junio y julio) de este año ha habido menos muertes que otros años, **¿puede que en general los fallecimientos no se estén notificando correctamente por el problema que hay actualmente con la pandemia?**<br>\n",
    "Algunos ejemplos para este último caso:\n",
    "- Pataz: 31 muertes en abril,mayo,junio y julio de 2020, mientras que en 2019 y 2018 había en total 81 y 85 muertes respectivamente.\n",
    "- Azamayo: 86 muertes en abril,mayo,junio y julio de 2020, mientras que en 2019 y 2018 había en total 218 y 231 muertes respectivamente.\n",
    "- Acomayo: 35 muertes en abril,mayo,junio y julio de 2020, mientras que en 2019 y 2018 había en total 65 y 67 muertes respectivamente. \n",
    "\n",
    "La tabla inferior está ordenada de mayor a menor incremento relativo de muertes de 2019 a 2020 en los meses de abril, mayo, junio y julio, curiosamente hay 60 provincias (30.30% sobre las 198) con un incremento relativo negativo, es decir, que se han reducido el número de muertes en plena pandemia."
   ]
  },
  {
   "cell_type": "code",
   "execution_count": 11,
   "metadata": {
    "scrolled": false
   },
   "outputs": [
    {
     "data": {
      "text/html": [
       "<div>\n",
       "<style scoped>\n",
       "    .dataframe tbody tr th:only-of-type {\n",
       "        vertical-align: middle;\n",
       "    }\n",
       "\n",
       "    .dataframe tbody tr th {\n",
       "        vertical-align: top;\n",
       "    }\n",
       "\n",
       "    .dataframe thead th {\n",
       "        text-align: right;\n",
       "    }\n",
       "</style>\n",
       "<table border=\"1\" class=\"dataframe\">\n",
       "  <thead>\n",
       "    <tr style=\"text-align: right;\">\n",
       "      <th></th>\n",
       "      <th>Provincia</th>\n",
       "      <th>Fallecidos - 2020</th>\n",
       "      <th>Fallecidos - 2019</th>\n",
       "      <th>Fallecidos - 2018</th>\n",
       "      <th>Incremento Absoluto (2020-2019)</th>\n",
       "      <th>Incremento Relativo  (2020-2019)</th>\n",
       "      <th>Incremento Relativo  (2020-2019)(%)</th>\n",
       "    </tr>\n",
       "  </thead>\n",
       "  <tbody>\n",
       "    <tr>\n",
       "      <th>0</th>\n",
       "      <td>CHICLAYO</td>\n",
       "      <td>1299</td>\n",
       "      <td>156</td>\n",
       "      <td>1016</td>\n",
       "      <td>1143</td>\n",
       "      <td>7.326923</td>\n",
       "      <td>732.692308</td>\n",
       "    </tr>\n",
       "    <tr>\n",
       "      <th>1</th>\n",
       "      <td>LAMBAYEQUE</td>\n",
       "      <td>384</td>\n",
       "      <td>49</td>\n",
       "      <td>323</td>\n",
       "      <td>335</td>\n",
       "      <td>6.836735</td>\n",
       "      <td>683.673469</td>\n",
       "    </tr>\n",
       "    <tr>\n",
       "      <th>2</th>\n",
       "      <td>FERREÑAFE</td>\n",
       "      <td>104</td>\n",
       "      <td>17</td>\n",
       "      <td>106</td>\n",
       "      <td>87</td>\n",
       "      <td>5.117647</td>\n",
       "      <td>511.764706</td>\n",
       "    </tr>\n",
       "    <tr>\n",
       "      <th>3</th>\n",
       "      <td>CONDORCANQUI</td>\n",
       "      <td>23</td>\n",
       "      <td>4</td>\n",
       "      <td>12</td>\n",
       "      <td>19</td>\n",
       "      <td>4.750000</td>\n",
       "      <td>475.000000</td>\n",
       "    </tr>\n",
       "    <tr>\n",
       "      <th>4</th>\n",
       "      <td>PAITA</td>\n",
       "      <td>436</td>\n",
       "      <td>88</td>\n",
       "      <td>131</td>\n",
       "      <td>348</td>\n",
       "      <td>3.954545</td>\n",
       "      <td>395.454545</td>\n",
       "    </tr>\n",
       "    <tr>\n",
       "      <th>5</th>\n",
       "      <td>DATEM DEL MARAÑON</td>\n",
       "      <td>54</td>\n",
       "      <td>11</td>\n",
       "      <td>15</td>\n",
       "      <td>43</td>\n",
       "      <td>3.909091</td>\n",
       "      <td>390.909091</td>\n",
       "    </tr>\n",
       "    <tr>\n",
       "      <th>6</th>\n",
       "      <td>JAEN</td>\n",
       "      <td>256</td>\n",
       "      <td>59</td>\n",
       "      <td>82</td>\n",
       "      <td>197</td>\n",
       "      <td>3.338983</td>\n",
       "      <td>333.898305</td>\n",
       "    </tr>\n",
       "    <tr>\n",
       "      <th>7</th>\n",
       "      <td>LORETO</td>\n",
       "      <td>112</td>\n",
       "      <td>27</td>\n",
       "      <td>42</td>\n",
       "      <td>85</td>\n",
       "      <td>3.148148</td>\n",
       "      <td>314.814815</td>\n",
       "    </tr>\n",
       "    <tr>\n",
       "      <th>8</th>\n",
       "      <td>MARISCAL CACERES</td>\n",
       "      <td>187</td>\n",
       "      <td>47</td>\n",
       "      <td>25</td>\n",
       "      <td>140</td>\n",
       "      <td>2.978723</td>\n",
       "      <td>297.872340</td>\n",
       "    </tr>\n",
       "    <tr>\n",
       "      <th>9</th>\n",
       "      <td>LIMA</td>\n",
       "      <td>38195</td>\n",
       "      <td>9821</td>\n",
       "      <td>10113</td>\n",
       "      <td>28374</td>\n",
       "      <td>2.889115</td>\n",
       "      <td>288.911516</td>\n",
       "    </tr>\n",
       "    <tr>\n",
       "      <th>10</th>\n",
       "      <td>PIURA</td>\n",
       "      <td>2323</td>\n",
       "      <td>614</td>\n",
       "      <td>646</td>\n",
       "      <td>1709</td>\n",
       "      <td>2.783388</td>\n",
       "      <td>278.338762</td>\n",
       "    </tr>\n",
       "    <tr>\n",
       "      <th>11</th>\n",
       "      <td>PASCO</td>\n",
       "      <td>241</td>\n",
       "      <td>67</td>\n",
       "      <td>99</td>\n",
       "      <td>174</td>\n",
       "      <td>2.597015</td>\n",
       "      <td>259.701493</td>\n",
       "    </tr>\n",
       "    <tr>\n",
       "      <th>12</th>\n",
       "      <td>CALLAO</td>\n",
       "      <td>5107</td>\n",
       "      <td>1442</td>\n",
       "      <td>1566</td>\n",
       "      <td>3665</td>\n",
       "      <td>2.541609</td>\n",
       "      <td>254.160888</td>\n",
       "    </tr>\n",
       "    <tr>\n",
       "      <th>13</th>\n",
       "      <td>PUTUMAYO</td>\n",
       "      <td>7</td>\n",
       "      <td>2</td>\n",
       "      <td>4</td>\n",
       "      <td>5</td>\n",
       "      <td>2.500000</td>\n",
       "      <td>250.000000</td>\n",
       "    </tr>\n",
       "    <tr>\n",
       "      <th>14</th>\n",
       "      <td>MAYNAS</td>\n",
       "      <td>1504</td>\n",
       "      <td>432</td>\n",
       "      <td>393</td>\n",
       "      <td>1072</td>\n",
       "      <td>2.481481</td>\n",
       "      <td>248.148148</td>\n",
       "    </tr>\n",
       "    <tr>\n",
       "      <th>15</th>\n",
       "      <td>SULLANA</td>\n",
       "      <td>1348</td>\n",
       "      <td>395</td>\n",
       "      <td>454</td>\n",
       "      <td>953</td>\n",
       "      <td>2.412658</td>\n",
       "      <td>241.265823</td>\n",
       "    </tr>\n",
       "    <tr>\n",
       "      <th>16</th>\n",
       "      <td>ZARUMILLA</td>\n",
       "      <td>155</td>\n",
       "      <td>46</td>\n",
       "      <td>66</td>\n",
       "      <td>109</td>\n",
       "      <td>2.369565</td>\n",
       "      <td>236.956522</td>\n",
       "    </tr>\n",
       "    <tr>\n",
       "      <th>17</th>\n",
       "      <td>CHINCHA</td>\n",
       "      <td>1348</td>\n",
       "      <td>404</td>\n",
       "      <td>348</td>\n",
       "      <td>944</td>\n",
       "      <td>2.336634</td>\n",
       "      <td>233.663366</td>\n",
       "    </tr>\n",
       "    <tr>\n",
       "      <th>18</th>\n",
       "      <td>CASMA</td>\n",
       "      <td>202</td>\n",
       "      <td>61</td>\n",
       "      <td>79</td>\n",
       "      <td>141</td>\n",
       "      <td>2.311475</td>\n",
       "      <td>231.147541</td>\n",
       "    </tr>\n",
       "    <tr>\n",
       "      <th>19</th>\n",
       "      <td>SECHURA</td>\n",
       "      <td>137</td>\n",
       "      <td>44</td>\n",
       "      <td>54</td>\n",
       "      <td>93</td>\n",
       "      <td>2.113636</td>\n",
       "      <td>211.363636</td>\n",
       "    </tr>\n",
       "    <tr>\n",
       "      <th>20</th>\n",
       "      <td>TUMBES</td>\n",
       "      <td>681</td>\n",
       "      <td>224</td>\n",
       "      <td>192</td>\n",
       "      <td>457</td>\n",
       "      <td>2.040179</td>\n",
       "      <td>204.017857</td>\n",
       "    </tr>\n",
       "    <tr>\n",
       "      <th>21</th>\n",
       "      <td>SANTA</td>\n",
       "      <td>2114</td>\n",
       "      <td>696</td>\n",
       "      <td>757</td>\n",
       "      <td>1418</td>\n",
       "      <td>2.037356</td>\n",
       "      <td>203.735632</td>\n",
       "    </tr>\n",
       "    <tr>\n",
       "      <th>22</th>\n",
       "      <td>SAN MARTIN</td>\n",
       "      <td>646</td>\n",
       "      <td>222</td>\n",
       "      <td>239</td>\n",
       "      <td>424</td>\n",
       "      <td>1.909910</td>\n",
       "      <td>190.990991</td>\n",
       "    </tr>\n",
       "    <tr>\n",
       "      <th>23</th>\n",
       "      <td>HUAURA</td>\n",
       "      <td>597</td>\n",
       "      <td>211</td>\n",
       "      <td>263</td>\n",
       "      <td>386</td>\n",
       "      <td>1.829384</td>\n",
       "      <td>182.938389</td>\n",
       "    </tr>\n",
       "    <tr>\n",
       "      <th>24</th>\n",
       "      <td>TRUJILLO</td>\n",
       "      <td>4289</td>\n",
       "      <td>1537</td>\n",
       "      <td>1534</td>\n",
       "      <td>2752</td>\n",
       "      <td>1.790501</td>\n",
       "      <td>179.050098</td>\n",
       "    </tr>\n",
       "    <tr>\n",
       "      <th>25</th>\n",
       "      <td>VIRU</td>\n",
       "      <td>346</td>\n",
       "      <td>128</td>\n",
       "      <td>100</td>\n",
       "      <td>218</td>\n",
       "      <td>1.703125</td>\n",
       "      <td>170.312500</td>\n",
       "    </tr>\n",
       "    <tr>\n",
       "      <th>26</th>\n",
       "      <td>CORONEL PORTILLO</td>\n",
       "      <td>1544</td>\n",
       "      <td>583</td>\n",
       "      <td>529</td>\n",
       "      <td>961</td>\n",
       "      <td>1.648370</td>\n",
       "      <td>164.837050</td>\n",
       "    </tr>\n",
       "    <tr>\n",
       "      <th>27</th>\n",
       "      <td>PISCO</td>\n",
       "      <td>597</td>\n",
       "      <td>245</td>\n",
       "      <td>271</td>\n",
       "      <td>352</td>\n",
       "      <td>1.436735</td>\n",
       "      <td>143.673469</td>\n",
       "    </tr>\n",
       "    <tr>\n",
       "      <th>28</th>\n",
       "      <td>HUAROCHIRI</td>\n",
       "      <td>264</td>\n",
       "      <td>109</td>\n",
       "      <td>116</td>\n",
       "      <td>155</td>\n",
       "      <td>1.422018</td>\n",
       "      <td>142.201835</td>\n",
       "    </tr>\n",
       "    <tr>\n",
       "      <th>29</th>\n",
       "      <td>CAJAMARCA</td>\n",
       "      <td>617</td>\n",
       "      <td>260</td>\n",
       "      <td>321</td>\n",
       "      <td>357</td>\n",
       "      <td>1.373077</td>\n",
       "      <td>137.307692</td>\n",
       "    </tr>\n",
       "    <tr>\n",
       "      <th>30</th>\n",
       "      <td>ALTO AMAZONAS</td>\n",
       "      <td>303</td>\n",
       "      <td>130</td>\n",
       "      <td>120</td>\n",
       "      <td>173</td>\n",
       "      <td>1.330769</td>\n",
       "      <td>133.076923</td>\n",
       "    </tr>\n",
       "    <tr>\n",
       "      <th>31</th>\n",
       "      <td>AREQUIPA</td>\n",
       "      <td>4448</td>\n",
       "      <td>1927</td>\n",
       "      <td>1576</td>\n",
       "      <td>2521</td>\n",
       "      <td>1.308251</td>\n",
       "      <td>130.825117</td>\n",
       "    </tr>\n",
       "    <tr>\n",
       "      <th>32</th>\n",
       "      <td>ICA</td>\n",
       "      <td>1514</td>\n",
       "      <td>668</td>\n",
       "      <td>661</td>\n",
       "      <td>846</td>\n",
       "      <td>1.266467</td>\n",
       "      <td>126.646707</td>\n",
       "    </tr>\n",
       "    <tr>\n",
       "      <th>33</th>\n",
       "      <td>DANIEL ALCIDES CARRION</td>\n",
       "      <td>58</td>\n",
       "      <td>26</td>\n",
       "      <td>25</td>\n",
       "      <td>32</td>\n",
       "      <td>1.230769</td>\n",
       "      <td>123.076923</td>\n",
       "    </tr>\n",
       "    <tr>\n",
       "      <th>34</th>\n",
       "      <td>LEONCIO PRADO</td>\n",
       "      <td>337</td>\n",
       "      <td>152</td>\n",
       "      <td>117</td>\n",
       "      <td>185</td>\n",
       "      <td>1.217105</td>\n",
       "      <td>121.710526</td>\n",
       "    </tr>\n",
       "    <tr>\n",
       "      <th>35</th>\n",
       "      <td>TAMBOPATA</td>\n",
       "      <td>453</td>\n",
       "      <td>205</td>\n",
       "      <td>162</td>\n",
       "      <td>248</td>\n",
       "      <td>1.209756</td>\n",
       "      <td>120.975610</td>\n",
       "    </tr>\n",
       "    <tr>\n",
       "      <th>36</th>\n",
       "      <td>CONTRALMIRANTE VILLAR</td>\n",
       "      <td>75</td>\n",
       "      <td>34</td>\n",
       "      <td>24</td>\n",
       "      <td>41</td>\n",
       "      <td>1.205882</td>\n",
       "      <td>120.588235</td>\n",
       "    </tr>\n",
       "    <tr>\n",
       "      <th>37</th>\n",
       "      <td>REQUENA</td>\n",
       "      <td>135</td>\n",
       "      <td>62</td>\n",
       "      <td>32</td>\n",
       "      <td>73</td>\n",
       "      <td>1.177419</td>\n",
       "      <td>117.741935</td>\n",
       "    </tr>\n",
       "    <tr>\n",
       "      <th>38</th>\n",
       "      <td>TOCACHE</td>\n",
       "      <td>116</td>\n",
       "      <td>54</td>\n",
       "      <td>56</td>\n",
       "      <td>62</td>\n",
       "      <td>1.148148</td>\n",
       "      <td>114.814815</td>\n",
       "    </tr>\n",
       "    <tr>\n",
       "      <th>39</th>\n",
       "      <td>EL DORADO</td>\n",
       "      <td>73</td>\n",
       "      <td>34</td>\n",
       "      <td>33</td>\n",
       "      <td>39</td>\n",
       "      <td>1.147059</td>\n",
       "      <td>114.705882</td>\n",
       "    </tr>\n",
       "    <tr>\n",
       "      <th>40</th>\n",
       "      <td>ASCOPE</td>\n",
       "      <td>492</td>\n",
       "      <td>235</td>\n",
       "      <td>249</td>\n",
       "      <td>257</td>\n",
       "      <td>1.093617</td>\n",
       "      <td>109.361702</td>\n",
       "    </tr>\n",
       "    <tr>\n",
       "      <th>41</th>\n",
       "      <td>HUARAL</td>\n",
       "      <td>643</td>\n",
       "      <td>321</td>\n",
       "      <td>329</td>\n",
       "      <td>322</td>\n",
       "      <td>1.003115</td>\n",
       "      <td>100.311526</td>\n",
       "    </tr>\n",
       "    <tr>\n",
       "      <th>42</th>\n",
       "      <td>TAHUAMANU</td>\n",
       "      <td>20</td>\n",
       "      <td>10</td>\n",
       "      <td>14</td>\n",
       "      <td>10</td>\n",
       "      <td>1.000000</td>\n",
       "      <td>100.000000</td>\n",
       "    </tr>\n",
       "    <tr>\n",
       "      <th>43</th>\n",
       "      <td>UCAYALI</td>\n",
       "      <td>80</td>\n",
       "      <td>40</td>\n",
       "      <td>30</td>\n",
       "      <td>40</td>\n",
       "      <td>1.000000</td>\n",
       "      <td>100.000000</td>\n",
       "    </tr>\n",
       "    <tr>\n",
       "      <th>44</th>\n",
       "      <td>CAJATAMBO</td>\n",
       "      <td>6</td>\n",
       "      <td>3</td>\n",
       "      <td>12</td>\n",
       "      <td>3</td>\n",
       "      <td>1.000000</td>\n",
       "      <td>100.000000</td>\n",
       "    </tr>\n",
       "    <tr>\n",
       "      <th>45</th>\n",
       "      <td>ANGARAES</td>\n",
       "      <td>123</td>\n",
       "      <td>62</td>\n",
       "      <td>82</td>\n",
       "      <td>61</td>\n",
       "      <td>0.983871</td>\n",
       "      <td>98.387097</td>\n",
       "    </tr>\n",
       "    <tr>\n",
       "      <th>46</th>\n",
       "      <td>HUARAZ</td>\n",
       "      <td>548</td>\n",
       "      <td>279</td>\n",
       "      <td>252</td>\n",
       "      <td>269</td>\n",
       "      <td>0.964158</td>\n",
       "      <td>96.415771</td>\n",
       "    </tr>\n",
       "    <tr>\n",
       "      <th>47</th>\n",
       "      <td>ILO</td>\n",
       "      <td>227</td>\n",
       "      <td>116</td>\n",
       "      <td>121</td>\n",
       "      <td>111</td>\n",
       "      <td>0.956897</td>\n",
       "      <td>95.689655</td>\n",
       "    </tr>\n",
       "    <tr>\n",
       "      <th>48</th>\n",
       "      <td>BAGUA</td>\n",
       "      <td>123</td>\n",
       "      <td>63</td>\n",
       "      <td>17</td>\n",
       "      <td>60</td>\n",
       "      <td>0.952381</td>\n",
       "      <td>95.238095</td>\n",
       "    </tr>\n",
       "    <tr>\n",
       "      <th>49</th>\n",
       "      <td>YAUYOS</td>\n",
       "      <td>46</td>\n",
       "      <td>24</td>\n",
       "      <td>23</td>\n",
       "      <td>22</td>\n",
       "      <td>0.916667</td>\n",
       "      <td>91.666667</td>\n",
       "    </tr>\n",
       "    <tr>\n",
       "      <th>50</th>\n",
       "      <td>CAYLLOMA</td>\n",
       "      <td>183</td>\n",
       "      <td>97</td>\n",
       "      <td>66</td>\n",
       "      <td>86</td>\n",
       "      <td>0.886598</td>\n",
       "      <td>88.659794</td>\n",
       "    </tr>\n",
       "    <tr>\n",
       "      <th>51</th>\n",
       "      <td>BARRANCA</td>\n",
       "      <td>283</td>\n",
       "      <td>154</td>\n",
       "      <td>283</td>\n",
       "      <td>129</td>\n",
       "      <td>0.837662</td>\n",
       "      <td>83.766234</td>\n",
       "    </tr>\n",
       "    <tr>\n",
       "      <th>52</th>\n",
       "      <td>HUANCAYO</td>\n",
       "      <td>1571</td>\n",
       "      <td>858</td>\n",
       "      <td>891</td>\n",
       "      <td>713</td>\n",
       "      <td>0.831002</td>\n",
       "      <td>83.100233</td>\n",
       "    </tr>\n",
       "    <tr>\n",
       "      <th>53</th>\n",
       "      <td>CANTA</td>\n",
       "      <td>40</td>\n",
       "      <td>22</td>\n",
       "      <td>25</td>\n",
       "      <td>18</td>\n",
       "      <td>0.818182</td>\n",
       "      <td>81.818182</td>\n",
       "    </tr>\n",
       "    <tr>\n",
       "      <th>54</th>\n",
       "      <td>NAZCA</td>\n",
       "      <td>222</td>\n",
       "      <td>124</td>\n",
       "      <td>103</td>\n",
       "      <td>98</td>\n",
       "      <td>0.790323</td>\n",
       "      <td>79.032258</td>\n",
       "    </tr>\n",
       "    <tr>\n",
       "      <th>55</th>\n",
       "      <td>SAN MIGUEL</td>\n",
       "      <td>45</td>\n",
       "      <td>26</td>\n",
       "      <td>35</td>\n",
       "      <td>19</td>\n",
       "      <td>0.730769</td>\n",
       "      <td>73.076923</td>\n",
       "    </tr>\n",
       "    <tr>\n",
       "      <th>56</th>\n",
       "      <td>HUALLAGA</td>\n",
       "      <td>54</td>\n",
       "      <td>32</td>\n",
       "      <td>39</td>\n",
       "      <td>22</td>\n",
       "      <td>0.687500</td>\n",
       "      <td>68.750000</td>\n",
       "    </tr>\n",
       "    <tr>\n",
       "      <th>57</th>\n",
       "      <td>CAÑETE</td>\n",
       "      <td>514</td>\n",
       "      <td>308</td>\n",
       "      <td>350</td>\n",
       "      <td>206</td>\n",
       "      <td>0.668831</td>\n",
       "      <td>66.883117</td>\n",
       "    </tr>\n",
       "    <tr>\n",
       "      <th>58</th>\n",
       "      <td>OCROS</td>\n",
       "      <td>15</td>\n",
       "      <td>9</td>\n",
       "      <td>7</td>\n",
       "      <td>6</td>\n",
       "      <td>0.666667</td>\n",
       "      <td>66.666667</td>\n",
       "    </tr>\n",
       "    <tr>\n",
       "      <th>59</th>\n",
       "      <td>GENERAL SANCHEZ CERRO</td>\n",
       "      <td>40</td>\n",
       "      <td>24</td>\n",
       "      <td>31</td>\n",
       "      <td>16</td>\n",
       "      <td>0.666667</td>\n",
       "      <td>66.666667</td>\n",
       "    </tr>\n",
       "    <tr>\n",
       "      <th>60</th>\n",
       "      <td>PACASMAYO</td>\n",
       "      <td>246</td>\n",
       "      <td>150</td>\n",
       "      <td>158</td>\n",
       "      <td>96</td>\n",
       "      <td>0.640000</td>\n",
       "      <td>64.000000</td>\n",
       "    </tr>\n",
       "    <tr>\n",
       "      <th>61</th>\n",
       "      <td>MORROPON</td>\n",
       "      <td>497</td>\n",
       "      <td>307</td>\n",
       "      <td>300</td>\n",
       "      <td>190</td>\n",
       "      <td>0.618893</td>\n",
       "      <td>61.889251</td>\n",
       "    </tr>\n",
       "    <tr>\n",
       "      <th>62</th>\n",
       "      <td>CHANCHAMAYO</td>\n",
       "      <td>391</td>\n",
       "      <td>245</td>\n",
       "      <td>273</td>\n",
       "      <td>146</td>\n",
       "      <td>0.595918</td>\n",
       "      <td>59.591837</td>\n",
       "    </tr>\n",
       "    <tr>\n",
       "      <th>63</th>\n",
       "      <td>BELLAVISTA</td>\n",
       "      <td>73</td>\n",
       "      <td>47</td>\n",
       "      <td>51</td>\n",
       "      <td>26</td>\n",
       "      <td>0.553191</td>\n",
       "      <td>55.319149</td>\n",
       "    </tr>\n",
       "    <tr>\n",
       "      <th>64</th>\n",
       "      <td>PACHITEA</td>\n",
       "      <td>48</td>\n",
       "      <td>31</td>\n",
       "      <td>74</td>\n",
       "      <td>17</td>\n",
       "      <td>0.548387</td>\n",
       "      <td>54.838710</td>\n",
       "    </tr>\n",
       "    <tr>\n",
       "      <th>65</th>\n",
       "      <td>AYMARAES</td>\n",
       "      <td>60</td>\n",
       "      <td>39</td>\n",
       "      <td>43</td>\n",
       "      <td>21</td>\n",
       "      <td>0.538462</td>\n",
       "      <td>53.846154</td>\n",
       "    </tr>\n",
       "    <tr>\n",
       "      <th>66</th>\n",
       "      <td>CHUPACA</td>\n",
       "      <td>154</td>\n",
       "      <td>101</td>\n",
       "      <td>112</td>\n",
       "      <td>53</td>\n",
       "      <td>0.524752</td>\n",
       "      <td>52.475248</td>\n",
       "    </tr>\n",
       "    <tr>\n",
       "      <th>67</th>\n",
       "      <td>HUANUCO</td>\n",
       "      <td>656</td>\n",
       "      <td>433</td>\n",
       "      <td>513</td>\n",
       "      <td>223</td>\n",
       "      <td>0.515012</td>\n",
       "      <td>51.501155</td>\n",
       "    </tr>\n",
       "    <tr>\n",
       "      <th>68</th>\n",
       "      <td>ANDAHUAYLAS</td>\n",
       "      <td>239</td>\n",
       "      <td>158</td>\n",
       "      <td>128</td>\n",
       "      <td>81</td>\n",
       "      <td>0.512658</td>\n",
       "      <td>51.265823</td>\n",
       "    </tr>\n",
       "    <tr>\n",
       "      <th>69</th>\n",
       "      <td>PICOTA</td>\n",
       "      <td>60</td>\n",
       "      <td>40</td>\n",
       "      <td>28</td>\n",
       "      <td>20</td>\n",
       "      <td>0.500000</td>\n",
       "      <td>50.000000</td>\n",
       "    </tr>\n",
       "    <tr>\n",
       "      <th>70</th>\n",
       "      <td>MARISCAL RAMON CASTILLA</td>\n",
       "      <td>54</td>\n",
       "      <td>36</td>\n",
       "      <td>15</td>\n",
       "      <td>18</td>\n",
       "      <td>0.500000</td>\n",
       "      <td>50.000000</td>\n",
       "    </tr>\n",
       "    <tr>\n",
       "      <th>71</th>\n",
       "      <td>OYON</td>\n",
       "      <td>18</td>\n",
       "      <td>12</td>\n",
       "      <td>14</td>\n",
       "      <td>6</td>\n",
       "      <td>0.500000</td>\n",
       "      <td>50.000000</td>\n",
       "    </tr>\n",
       "    <tr>\n",
       "      <th>72</th>\n",
       "      <td>MARISCAL NIETO</td>\n",
       "      <td>235</td>\n",
       "      <td>159</td>\n",
       "      <td>112</td>\n",
       "      <td>76</td>\n",
       "      <td>0.477987</td>\n",
       "      <td>47.798742</td>\n",
       "    </tr>\n",
       "    <tr>\n",
       "      <th>73</th>\n",
       "      <td>MOYOBAMBA</td>\n",
       "      <td>215</td>\n",
       "      <td>146</td>\n",
       "      <td>148</td>\n",
       "      <td>69</td>\n",
       "      <td>0.472603</td>\n",
       "      <td>47.260274</td>\n",
       "    </tr>\n",
       "    <tr>\n",
       "      <th>74</th>\n",
       "      <td>CASTROVIRREYNA</td>\n",
       "      <td>38</td>\n",
       "      <td>26</td>\n",
       "      <td>25</td>\n",
       "      <td>12</td>\n",
       "      <td>0.461538</td>\n",
       "      <td>46.153846</td>\n",
       "    </tr>\n",
       "    <tr>\n",
       "      <th>75</th>\n",
       "      <td>YAULI</td>\n",
       "      <td>95</td>\n",
       "      <td>65</td>\n",
       "      <td>52</td>\n",
       "      <td>30</td>\n",
       "      <td>0.461538</td>\n",
       "      <td>46.153846</td>\n",
       "    </tr>\n",
       "    <tr>\n",
       "      <th>76</th>\n",
       "      <td>PALPA</td>\n",
       "      <td>42</td>\n",
       "      <td>29</td>\n",
       "      <td>29</td>\n",
       "      <td>13</td>\n",
       "      <td>0.448276</td>\n",
       "      <td>44.827586</td>\n",
       "    </tr>\n",
       "    <tr>\n",
       "      <th>77</th>\n",
       "      <td>HUARMEY</td>\n",
       "      <td>82</td>\n",
       "      <td>57</td>\n",
       "      <td>49</td>\n",
       "      <td>25</td>\n",
       "      <td>0.438596</td>\n",
       "      <td>43.859649</td>\n",
       "    </tr>\n",
       "    <tr>\n",
       "      <th>78</th>\n",
       "      <td>HUAYLAS</td>\n",
       "      <td>135</td>\n",
       "      <td>95</td>\n",
       "      <td>92</td>\n",
       "      <td>40</td>\n",
       "      <td>0.421053</td>\n",
       "      <td>42.105263</td>\n",
       "    </tr>\n",
       "    <tr>\n",
       "      <th>79</th>\n",
       "      <td>AIJA</td>\n",
       "      <td>14</td>\n",
       "      <td>10</td>\n",
       "      <td>15</td>\n",
       "      <td>4</td>\n",
       "      <td>0.400000</td>\n",
       "      <td>40.000000</td>\n",
       "    </tr>\n",
       "    <tr>\n",
       "      <th>80</th>\n",
       "      <td>HUANTA</td>\n",
       "      <td>53</td>\n",
       "      <td>38</td>\n",
       "      <td>42</td>\n",
       "      <td>15</td>\n",
       "      <td>0.394737</td>\n",
       "      <td>39.473684</td>\n",
       "    </tr>\n",
       "    <tr>\n",
       "      <th>81</th>\n",
       "      <td>PADRE ABAD</td>\n",
       "      <td>53</td>\n",
       "      <td>38</td>\n",
       "      <td>32</td>\n",
       "      <td>15</td>\n",
       "      <td>0.394737</td>\n",
       "      <td>39.473684</td>\n",
       "    </tr>\n",
       "    <tr>\n",
       "      <th>82</th>\n",
       "      <td>PALLASCA</td>\n",
       "      <td>50</td>\n",
       "      <td>36</td>\n",
       "      <td>43</td>\n",
       "      <td>14</td>\n",
       "      <td>0.388889</td>\n",
       "      <td>38.888889</td>\n",
       "    </tr>\n",
       "    <tr>\n",
       "      <th>83</th>\n",
       "      <td>TALARA</td>\n",
       "      <td>277</td>\n",
       "      <td>201</td>\n",
       "      <td>198</td>\n",
       "      <td>76</td>\n",
       "      <td>0.378109</td>\n",
       "      <td>37.810945</td>\n",
       "    </tr>\n",
       "    <tr>\n",
       "      <th>84</th>\n",
       "      <td>CONTUMAZA</td>\n",
       "      <td>37</td>\n",
       "      <td>27</td>\n",
       "      <td>33</td>\n",
       "      <td>10</td>\n",
       "      <td>0.370370</td>\n",
       "      <td>37.037037</td>\n",
       "    </tr>\n",
       "    <tr>\n",
       "      <th>85</th>\n",
       "      <td>YUNGUYO</td>\n",
       "      <td>88</td>\n",
       "      <td>65</td>\n",
       "      <td>75</td>\n",
       "      <td>23</td>\n",
       "      <td>0.353846</td>\n",
       "      <td>35.384615</td>\n",
       "    </tr>\n",
       "    <tr>\n",
       "      <th>86</th>\n",
       "      <td>HUANCAVELICA</td>\n",
       "      <td>287</td>\n",
       "      <td>212</td>\n",
       "      <td>228</td>\n",
       "      <td>75</td>\n",
       "      <td>0.353774</td>\n",
       "      <td>35.377358</td>\n",
       "    </tr>\n",
       "    <tr>\n",
       "      <th>87</th>\n",
       "      <td>SUCRE</td>\n",
       "      <td>23</td>\n",
       "      <td>17</td>\n",
       "      <td>20</td>\n",
       "      <td>6</td>\n",
       "      <td>0.352941</td>\n",
       "      <td>35.294118</td>\n",
       "    </tr>\n",
       "    <tr>\n",
       "      <th>88</th>\n",
       "      <td>ISLAY</td>\n",
       "      <td>147</td>\n",
       "      <td>109</td>\n",
       "      <td>83</td>\n",
       "      <td>38</td>\n",
       "      <td>0.348624</td>\n",
       "      <td>34.862385</td>\n",
       "    </tr>\n",
       "    <tr>\n",
       "      <th>89</th>\n",
       "      <td>CHEPEN</td>\n",
       "      <td>143</td>\n",
       "      <td>107</td>\n",
       "      <td>123</td>\n",
       "      <td>36</td>\n",
       "      <td>0.336449</td>\n",
       "      <td>33.644860</td>\n",
       "    </tr>\n",
       "    <tr>\n",
       "      <th>90</th>\n",
       "      <td>CONCEPCION</td>\n",
       "      <td>136</td>\n",
       "      <td>102</td>\n",
       "      <td>99</td>\n",
       "      <td>34</td>\n",
       "      <td>0.333333</td>\n",
       "      <td>33.333333</td>\n",
       "    </tr>\n",
       "    <tr>\n",
       "      <th>91</th>\n",
       "      <td>HUANCA SANCOS</td>\n",
       "      <td>8</td>\n",
       "      <td>6</td>\n",
       "      <td>8</td>\n",
       "      <td>2</td>\n",
       "      <td>0.333333</td>\n",
       "      <td>33.333333</td>\n",
       "    </tr>\n",
       "    <tr>\n",
       "      <th>92</th>\n",
       "      <td>JUNIN</td>\n",
       "      <td>75</td>\n",
       "      <td>57</td>\n",
       "      <td>35</td>\n",
       "      <td>18</td>\n",
       "      <td>0.315789</td>\n",
       "      <td>31.578947</td>\n",
       "    </tr>\n",
       "    <tr>\n",
       "      <th>93</th>\n",
       "      <td>CHUCUITO</td>\n",
       "      <td>42</td>\n",
       "      <td>32</td>\n",
       "      <td>21</td>\n",
       "      <td>10</td>\n",
       "      <td>0.312500</td>\n",
       "      <td>31.250000</td>\n",
       "    </tr>\n",
       "    <tr>\n",
       "      <th>94</th>\n",
       "      <td>CALCA</td>\n",
       "      <td>122</td>\n",
       "      <td>93</td>\n",
       "      <td>117</td>\n",
       "      <td>29</td>\n",
       "      <td>0.311828</td>\n",
       "      <td>31.182796</td>\n",
       "    </tr>\n",
       "    <tr>\n",
       "      <th>95</th>\n",
       "      <td>TARMA</td>\n",
       "      <td>246</td>\n",
       "      <td>189</td>\n",
       "      <td>201</td>\n",
       "      <td>57</td>\n",
       "      <td>0.301587</td>\n",
       "      <td>30.158730</td>\n",
       "    </tr>\n",
       "    <tr>\n",
       "      <th>96</th>\n",
       "      <td>LAMAS</td>\n",
       "      <td>157</td>\n",
       "      <td>121</td>\n",
       "      <td>133</td>\n",
       "      <td>36</td>\n",
       "      <td>0.297521</td>\n",
       "      <td>29.752066</td>\n",
       "    </tr>\n",
       "    <tr>\n",
       "      <th>97</th>\n",
       "      <td>CUSCO</td>\n",
       "      <td>828</td>\n",
       "      <td>654</td>\n",
       "      <td>693</td>\n",
       "      <td>174</td>\n",
       "      <td>0.266055</td>\n",
       "      <td>26.605505</td>\n",
       "    </tr>\n",
       "    <tr>\n",
       "      <th>98</th>\n",
       "      <td>CARLOS FERMIN FITZCARRALD</td>\n",
       "      <td>31</td>\n",
       "      <td>25</td>\n",
       "      <td>31</td>\n",
       "      <td>6</td>\n",
       "      <td>0.240000</td>\n",
       "      <td>24.000000</td>\n",
       "    </tr>\n",
       "    <tr>\n",
       "      <th>99</th>\n",
       "      <td>CAMANA</td>\n",
       "      <td>128</td>\n",
       "      <td>104</td>\n",
       "      <td>85</td>\n",
       "      <td>24</td>\n",
       "      <td>0.230769</td>\n",
       "      <td>23.076923</td>\n",
       "    </tr>\n",
       "    <tr>\n",
       "      <th>100</th>\n",
       "      <td>RECUAY</td>\n",
       "      <td>43</td>\n",
       "      <td>35</td>\n",
       "      <td>37</td>\n",
       "      <td>8</td>\n",
       "      <td>0.228571</td>\n",
       "      <td>22.857143</td>\n",
       "    </tr>\n",
       "    <tr>\n",
       "      <th>101</th>\n",
       "      <td>YAROWILCA</td>\n",
       "      <td>44</td>\n",
       "      <td>36</td>\n",
       "      <td>35</td>\n",
       "      <td>8</td>\n",
       "      <td>0.222222</td>\n",
       "      <td>22.222222</td>\n",
       "    </tr>\n",
       "    <tr>\n",
       "      <th>102</th>\n",
       "      <td>COTABAMBAS</td>\n",
       "      <td>66</td>\n",
       "      <td>54</td>\n",
       "      <td>53</td>\n",
       "      <td>12</td>\n",
       "      <td>0.222222</td>\n",
       "      <td>22.222222</td>\n",
       "    </tr>\n",
       "    <tr>\n",
       "      <th>103</th>\n",
       "      <td>ATALAYA</td>\n",
       "      <td>29</td>\n",
       "      <td>24</td>\n",
       "      <td>30</td>\n",
       "      <td>5</td>\n",
       "      <td>0.208333</td>\n",
       "      <td>20.833333</td>\n",
       "    </tr>\n",
       "    <tr>\n",
       "      <th>104</th>\n",
       "      <td>OTUZCO</td>\n",
       "      <td>154</td>\n",
       "      <td>128</td>\n",
       "      <td>120</td>\n",
       "      <td>26</td>\n",
       "      <td>0.203125</td>\n",
       "      <td>20.312500</td>\n",
       "    </tr>\n",
       "    <tr>\n",
       "      <th>105</th>\n",
       "      <td>JAUJA</td>\n",
       "      <td>253</td>\n",
       "      <td>212</td>\n",
       "      <td>190</td>\n",
       "      <td>41</td>\n",
       "      <td>0.193396</td>\n",
       "      <td>19.339623</td>\n",
       "    </tr>\n",
       "    <tr>\n",
       "      <th>106</th>\n",
       "      <td>UTCUBAMBA</td>\n",
       "      <td>93</td>\n",
       "      <td>78</td>\n",
       "      <td>111</td>\n",
       "      <td>15</td>\n",
       "      <td>0.192308</td>\n",
       "      <td>19.230769</td>\n",
       "    </tr>\n",
       "    <tr>\n",
       "      <th>107</th>\n",
       "      <td>HUACAYBAMBA</td>\n",
       "      <td>19</td>\n",
       "      <td>16</td>\n",
       "      <td>26</td>\n",
       "      <td>3</td>\n",
       "      <td>0.187500</td>\n",
       "      <td>18.750000</td>\n",
       "    </tr>\n",
       "    <tr>\n",
       "      <th>108</th>\n",
       "      <td>PUERTO INCA</td>\n",
       "      <td>19</td>\n",
       "      <td>16</td>\n",
       "      <td>25</td>\n",
       "      <td>3</td>\n",
       "      <td>0.187500</td>\n",
       "      <td>18.750000</td>\n",
       "    </tr>\n",
       "    <tr>\n",
       "      <th>109</th>\n",
       "      <td>CHINCHEROS</td>\n",
       "      <td>51</td>\n",
       "      <td>43</td>\n",
       "      <td>69</td>\n",
       "      <td>8</td>\n",
       "      <td>0.186047</td>\n",
       "      <td>18.604651</td>\n",
       "    </tr>\n",
       "    <tr>\n",
       "      <th>110</th>\n",
       "      <td>RIOJA</td>\n",
       "      <td>169</td>\n",
       "      <td>144</td>\n",
       "      <td>152</td>\n",
       "      <td>25</td>\n",
       "      <td>0.173611</td>\n",
       "      <td>17.361111</td>\n",
       "    </tr>\n",
       "    <tr>\n",
       "      <th>111</th>\n",
       "      <td>HUARI</td>\n",
       "      <td>118</td>\n",
       "      <td>101</td>\n",
       "      <td>133</td>\n",
       "      <td>17</td>\n",
       "      <td>0.168317</td>\n",
       "      <td>16.831683</td>\n",
       "    </tr>\n",
       "    <tr>\n",
       "      <th>112</th>\n",
       "      <td>TAYACAJA</td>\n",
       "      <td>185</td>\n",
       "      <td>159</td>\n",
       "      <td>165</td>\n",
       "      <td>26</td>\n",
       "      <td>0.163522</td>\n",
       "      <td>16.352201</td>\n",
       "    </tr>\n",
       "    <tr>\n",
       "      <th>113</th>\n",
       "      <td>EL COLLAO</td>\n",
       "      <td>96</td>\n",
       "      <td>83</td>\n",
       "      <td>93</td>\n",
       "      <td>13</td>\n",
       "      <td>0.156627</td>\n",
       "      <td>15.662651</td>\n",
       "    </tr>\n",
       "    <tr>\n",
       "      <th>114</th>\n",
       "      <td>POMABAMBA</td>\n",
       "      <td>42</td>\n",
       "      <td>37</td>\n",
       "      <td>30</td>\n",
       "      <td>5</td>\n",
       "      <td>0.135135</td>\n",
       "      <td>13.513514</td>\n",
       "    </tr>\n",
       "    <tr>\n",
       "      <th>115</th>\n",
       "      <td>ABANCAY</td>\n",
       "      <td>177</td>\n",
       "      <td>156</td>\n",
       "      <td>165</td>\n",
       "      <td>21</td>\n",
       "      <td>0.134615</td>\n",
       "      <td>13.461538</td>\n",
       "    </tr>\n",
       "    <tr>\n",
       "      <th>116</th>\n",
       "      <td>TACNA</td>\n",
       "      <td>476</td>\n",
       "      <td>423</td>\n",
       "      <td>446</td>\n",
       "      <td>53</td>\n",
       "      <td>0.125296</td>\n",
       "      <td>12.529551</td>\n",
       "    </tr>\n",
       "    <tr>\n",
       "      <th>117</th>\n",
       "      <td>LAURICOCHA</td>\n",
       "      <td>18</td>\n",
       "      <td>16</td>\n",
       "      <td>23</td>\n",
       "      <td>2</td>\n",
       "      <td>0.125000</td>\n",
       "      <td>12.500000</td>\n",
       "    </tr>\n",
       "    <tr>\n",
       "      <th>118</th>\n",
       "      <td>URUBAMBA</td>\n",
       "      <td>111</td>\n",
       "      <td>99</td>\n",
       "      <td>121</td>\n",
       "      <td>12</td>\n",
       "      <td>0.121212</td>\n",
       "      <td>12.121212</td>\n",
       "    </tr>\n",
       "    <tr>\n",
       "      <th>119</th>\n",
       "      <td>VICTOR FAJARDO</td>\n",
       "      <td>43</td>\n",
       "      <td>39</td>\n",
       "      <td>30</td>\n",
       "      <td>4</td>\n",
       "      <td>0.102564</td>\n",
       "      <td>10.256410</td>\n",
       "    </tr>\n",
       "    <tr>\n",
       "      <th>120</th>\n",
       "      <td>EXTRANJERO</td>\n",
       "      <td>122</td>\n",
       "      <td>111</td>\n",
       "      <td>102</td>\n",
       "      <td>11</td>\n",
       "      <td>0.099099</td>\n",
       "      <td>9.909910</td>\n",
       "    </tr>\n",
       "    <tr>\n",
       "      <th>121</th>\n",
       "      <td>SIHUAS</td>\n",
       "      <td>57</td>\n",
       "      <td>52</td>\n",
       "      <td>61</td>\n",
       "      <td>5</td>\n",
       "      <td>0.096154</td>\n",
       "      <td>9.615385</td>\n",
       "    </tr>\n",
       "    <tr>\n",
       "      <th>122</th>\n",
       "      <td>CONDESUYOS</td>\n",
       "      <td>25</td>\n",
       "      <td>23</td>\n",
       "      <td>24</td>\n",
       "      <td>2</td>\n",
       "      <td>0.086957</td>\n",
       "      <td>8.695652</td>\n",
       "    </tr>\n",
       "    <tr>\n",
       "      <th>123</th>\n",
       "      <td>GRAU</td>\n",
       "      <td>38</td>\n",
       "      <td>35</td>\n",
       "      <td>26</td>\n",
       "      <td>3</td>\n",
       "      <td>0.085714</td>\n",
       "      <td>8.571429</td>\n",
       "    </tr>\n",
       "    <tr>\n",
       "      <th>124</th>\n",
       "      <td>CHURCAMPA</td>\n",
       "      <td>66</td>\n",
       "      <td>61</td>\n",
       "      <td>72</td>\n",
       "      <td>5</td>\n",
       "      <td>0.081967</td>\n",
       "      <td>8.196721</td>\n",
       "    </tr>\n",
       "    <tr>\n",
       "      <th>125</th>\n",
       "      <td>SANDIA</td>\n",
       "      <td>45</td>\n",
       "      <td>42</td>\n",
       "      <td>57</td>\n",
       "      <td>3</td>\n",
       "      <td>0.071429</td>\n",
       "      <td>7.142857</td>\n",
       "    </tr>\n",
       "    <tr>\n",
       "      <th>126</th>\n",
       "      <td>CARHUAZ</td>\n",
       "      <td>106</td>\n",
       "      <td>99</td>\n",
       "      <td>75</td>\n",
       "      <td>7</td>\n",
       "      <td>0.070707</td>\n",
       "      <td>7.070707</td>\n",
       "    </tr>\n",
       "    <tr>\n",
       "      <th>127</th>\n",
       "      <td>MANU</td>\n",
       "      <td>19</td>\n",
       "      <td>18</td>\n",
       "      <td>8</td>\n",
       "      <td>1</td>\n",
       "      <td>0.055556</td>\n",
       "      <td>5.555556</td>\n",
       "    </tr>\n",
       "    <tr>\n",
       "      <th>128</th>\n",
       "      <td>HUAMALIES</td>\n",
       "      <td>77</td>\n",
       "      <td>74</td>\n",
       "      <td>95</td>\n",
       "      <td>3</td>\n",
       "      <td>0.040541</td>\n",
       "      <td>4.054054</td>\n",
       "    </tr>\n",
       "    <tr>\n",
       "      <th>129</th>\n",
       "      <td>OXAPAMPA</td>\n",
       "      <td>99</td>\n",
       "      <td>96</td>\n",
       "      <td>63</td>\n",
       "      <td>3</td>\n",
       "      <td>0.031250</td>\n",
       "      <td>3.125000</td>\n",
       "    </tr>\n",
       "    <tr>\n",
       "      <th>130</th>\n",
       "      <td>MARAÑON</td>\n",
       "      <td>37</td>\n",
       "      <td>36</td>\n",
       "      <td>31</td>\n",
       "      <td>1</td>\n",
       "      <td>0.027778</td>\n",
       "      <td>2.777778</td>\n",
       "    </tr>\n",
       "    <tr>\n",
       "      <th>131</th>\n",
       "      <td>CANCHIS</td>\n",
       "      <td>185</td>\n",
       "      <td>180</td>\n",
       "      <td>198</td>\n",
       "      <td>5</td>\n",
       "      <td>0.027778</td>\n",
       "      <td>2.777778</td>\n",
       "    </tr>\n",
       "    <tr>\n",
       "      <th>132</th>\n",
       "      <td>LA CONVENCION</td>\n",
       "      <td>257</td>\n",
       "      <td>251</td>\n",
       "      <td>318</td>\n",
       "      <td>6</td>\n",
       "      <td>0.023904</td>\n",
       "      <td>2.390438</td>\n",
       "    </tr>\n",
       "    <tr>\n",
       "      <th>133</th>\n",
       "      <td>CARABAYA</td>\n",
       "      <td>50</td>\n",
       "      <td>49</td>\n",
       "      <td>79</td>\n",
       "      <td>1</td>\n",
       "      <td>0.020408</td>\n",
       "      <td>2.040816</td>\n",
       "    </tr>\n",
       "    <tr>\n",
       "      <th>134</th>\n",
       "      <td>CANGALLO</td>\n",
       "      <td>53</td>\n",
       "      <td>52</td>\n",
       "      <td>41</td>\n",
       "      <td>1</td>\n",
       "      <td>0.019231</td>\n",
       "      <td>1.923077</td>\n",
       "    </tr>\n",
       "    <tr>\n",
       "      <th>135</th>\n",
       "      <td>PUNO</td>\n",
       "      <td>335</td>\n",
       "      <td>334</td>\n",
       "      <td>284</td>\n",
       "      <td>1</td>\n",
       "      <td>0.002994</td>\n",
       "      <td>0.299401</td>\n",
       "    </tr>\n",
       "    <tr>\n",
       "      <th>136</th>\n",
       "      <td>LA UNION</td>\n",
       "      <td>27</td>\n",
       "      <td>27</td>\n",
       "      <td>11</td>\n",
       "      <td>0</td>\n",
       "      <td>0.000000</td>\n",
       "      <td>0.000000</td>\n",
       "    </tr>\n",
       "    <tr>\n",
       "      <th>137</th>\n",
       "      <td>CHUMBIVILCAS</td>\n",
       "      <td>97</td>\n",
       "      <td>97</td>\n",
       "      <td>134</td>\n",
       "      <td>0</td>\n",
       "      <td>0.000000</td>\n",
       "      <td>0.000000</td>\n",
       "    </tr>\n",
       "    <tr>\n",
       "      <th>138</th>\n",
       "      <td>AMBO</td>\n",
       "      <td>71</td>\n",
       "      <td>72</td>\n",
       "      <td>76</td>\n",
       "      <td>-1</td>\n",
       "      <td>-0.013889</td>\n",
       "      <td>-1.388889</td>\n",
       "    </tr>\n",
       "    <tr>\n",
       "      <th>139</th>\n",
       "      <td>SATIPO</td>\n",
       "      <td>172</td>\n",
       "      <td>176</td>\n",
       "      <td>180</td>\n",
       "      <td>-4</td>\n",
       "      <td>-0.022727</td>\n",
       "      <td>-2.272727</td>\n",
       "    </tr>\n",
       "    <tr>\n",
       "      <th>140</th>\n",
       "      <td>BOLOGNESI</td>\n",
       "      <td>43</td>\n",
       "      <td>44</td>\n",
       "      <td>45</td>\n",
       "      <td>-1</td>\n",
       "      <td>-0.022727</td>\n",
       "      <td>-2.272727</td>\n",
       "    </tr>\n",
       "    <tr>\n",
       "      <th>141</th>\n",
       "      <td>HUAYTARA</td>\n",
       "      <td>39</td>\n",
       "      <td>40</td>\n",
       "      <td>27</td>\n",
       "      <td>-1</td>\n",
       "      <td>-0.025000</td>\n",
       "      <td>-2.500000</td>\n",
       "    </tr>\n",
       "    <tr>\n",
       "      <th>142</th>\n",
       "      <td>SAN ROMAN</td>\n",
       "      <td>509</td>\n",
       "      <td>524</td>\n",
       "      <td>490</td>\n",
       "      <td>-15</td>\n",
       "      <td>-0.028626</td>\n",
       "      <td>-2.862595</td>\n",
       "    </tr>\n",
       "    <tr>\n",
       "      <th>143</th>\n",
       "      <td>SAN ANTONIO DE PUTINA</td>\n",
       "      <td>67</td>\n",
       "      <td>70</td>\n",
       "      <td>52</td>\n",
       "      <td>-3</td>\n",
       "      <td>-0.042857</td>\n",
       "      <td>-4.285714</td>\n",
       "    </tr>\n",
       "    <tr>\n",
       "      <th>144</th>\n",
       "      <td>VILCAS HUAMAN</td>\n",
       "      <td>34</td>\n",
       "      <td>36</td>\n",
       "      <td>21</td>\n",
       "      <td>-2</td>\n",
       "      <td>-0.055556</td>\n",
       "      <td>-5.555556</td>\n",
       "    </tr>\n",
       "    <tr>\n",
       "      <th>145</th>\n",
       "      <td>JULCAN</td>\n",
       "      <td>29</td>\n",
       "      <td>31</td>\n",
       "      <td>28</td>\n",
       "      <td>-2</td>\n",
       "      <td>-0.064516</td>\n",
       "      <td>-6.451613</td>\n",
       "    </tr>\n",
       "    <tr>\n",
       "      <th>146</th>\n",
       "      <td>SIN REGISTRO</td>\n",
       "      <td>57</td>\n",
       "      <td>61</td>\n",
       "      <td>188</td>\n",
       "      <td>-4</td>\n",
       "      <td>-0.065574</td>\n",
       "      <td>-6.557377</td>\n",
       "    </tr>\n",
       "    <tr>\n",
       "      <th>147</th>\n",
       "      <td>HUANCANE</td>\n",
       "      <td>175</td>\n",
       "      <td>189</td>\n",
       "      <td>189</td>\n",
       "      <td>-14</td>\n",
       "      <td>-0.074074</td>\n",
       "      <td>-7.407407</td>\n",
       "    </tr>\n",
       "    <tr>\n",
       "      <th>148</th>\n",
       "      <td>DOS DE MAYO</td>\n",
       "      <td>48</td>\n",
       "      <td>52</td>\n",
       "      <td>47</td>\n",
       "      <td>-4</td>\n",
       "      <td>-0.076923</td>\n",
       "      <td>-7.692308</td>\n",
       "    </tr>\n",
       "    <tr>\n",
       "      <th>149</th>\n",
       "      <td>PARINACOCHAS</td>\n",
       "      <td>34</td>\n",
       "      <td>37</td>\n",
       "      <td>30</td>\n",
       "      <td>-3</td>\n",
       "      <td>-0.081081</td>\n",
       "      <td>-8.108108</td>\n",
       "    </tr>\n",
       "    <tr>\n",
       "      <th>150</th>\n",
       "      <td>ESPINAR</td>\n",
       "      <td>104</td>\n",
       "      <td>114</td>\n",
       "      <td>124</td>\n",
       "      <td>-10</td>\n",
       "      <td>-0.087719</td>\n",
       "      <td>-8.771930</td>\n",
       "    </tr>\n",
       "    <tr>\n",
       "      <th>151</th>\n",
       "      <td>MOHO</td>\n",
       "      <td>68</td>\n",
       "      <td>75</td>\n",
       "      <td>79</td>\n",
       "      <td>-7</td>\n",
       "      <td>-0.093333</td>\n",
       "      <td>-9.333333</td>\n",
       "    </tr>\n",
       "    <tr>\n",
       "      <th>152</th>\n",
       "      <td>SAN IGNACIO</td>\n",
       "      <td>48</td>\n",
       "      <td>53</td>\n",
       "      <td>73</td>\n",
       "      <td>-5</td>\n",
       "      <td>-0.094340</td>\n",
       "      <td>-9.433962</td>\n",
       "    </tr>\n",
       "    <tr>\n",
       "      <th>153</th>\n",
       "      <td>LAMPA</td>\n",
       "      <td>59</td>\n",
       "      <td>66</td>\n",
       "      <td>81</td>\n",
       "      <td>-7</td>\n",
       "      <td>-0.106061</td>\n",
       "      <td>-10.606061</td>\n",
       "    </tr>\n",
       "    <tr>\n",
       "      <th>154</th>\n",
       "      <td>CELENDIN</td>\n",
       "      <td>86</td>\n",
       "      <td>97</td>\n",
       "      <td>106</td>\n",
       "      <td>-11</td>\n",
       "      <td>-0.113402</td>\n",
       "      <td>-11.340206</td>\n",
       "    </tr>\n",
       "    <tr>\n",
       "      <th>155</th>\n",
       "      <td>CARAVELI</td>\n",
       "      <td>45</td>\n",
       "      <td>51</td>\n",
       "      <td>20</td>\n",
       "      <td>-6</td>\n",
       "      <td>-0.117647</td>\n",
       "      <td>-11.764706</td>\n",
       "    </tr>\n",
       "    <tr>\n",
       "      <th>156</th>\n",
       "      <td>YUNGAY</td>\n",
       "      <td>87</td>\n",
       "      <td>99</td>\n",
       "      <td>100</td>\n",
       "      <td>-12</td>\n",
       "      <td>-0.121212</td>\n",
       "      <td>-12.121212</td>\n",
       "    </tr>\n",
       "    <tr>\n",
       "      <th>157</th>\n",
       "      <td>SANTIAGO DE CHUCO</td>\n",
       "      <td>50</td>\n",
       "      <td>57</td>\n",
       "      <td>82</td>\n",
       "      <td>-7</td>\n",
       "      <td>-0.122807</td>\n",
       "      <td>-12.280702</td>\n",
       "    </tr>\n",
       "    <tr>\n",
       "      <th>158</th>\n",
       "      <td>ACOBAMBA</td>\n",
       "      <td>67</td>\n",
       "      <td>78</td>\n",
       "      <td>87</td>\n",
       "      <td>-11</td>\n",
       "      <td>-0.141026</td>\n",
       "      <td>-14.102564</td>\n",
       "    </tr>\n",
       "    <tr>\n",
       "      <th>159</th>\n",
       "      <td>CHACHAPOYAS</td>\n",
       "      <td>59</td>\n",
       "      <td>69</td>\n",
       "      <td>69</td>\n",
       "      <td>-10</td>\n",
       "      <td>-0.144928</td>\n",
       "      <td>-14.492754</td>\n",
       "    </tr>\n",
       "    <tr>\n",
       "      <th>160</th>\n",
       "      <td>ANTA</td>\n",
       "      <td>94</td>\n",
       "      <td>111</td>\n",
       "      <td>134</td>\n",
       "      <td>-17</td>\n",
       "      <td>-0.153153</td>\n",
       "      <td>-15.315315</td>\n",
       "    </tr>\n",
       "    <tr>\n",
       "      <th>161</th>\n",
       "      <td>JORGE BASADRE</td>\n",
       "      <td>8</td>\n",
       "      <td>10</td>\n",
       "      <td>8</td>\n",
       "      <td>-2</td>\n",
       "      <td>-0.200000</td>\n",
       "      <td>-20.000000</td>\n",
       "    </tr>\n",
       "    <tr>\n",
       "      <th>162</th>\n",
       "      <td>CASTILLA</td>\n",
       "      <td>48</td>\n",
       "      <td>60</td>\n",
       "      <td>41</td>\n",
       "      <td>-12</td>\n",
       "      <td>-0.200000</td>\n",
       "      <td>-20.000000</td>\n",
       "    </tr>\n",
       "    <tr>\n",
       "      <th>163</th>\n",
       "      <td>HUANCABAMBA</td>\n",
       "      <td>107</td>\n",
       "      <td>134</td>\n",
       "      <td>145</td>\n",
       "      <td>-27</td>\n",
       "      <td>-0.201493</td>\n",
       "      <td>-20.149254</td>\n",
       "    </tr>\n",
       "    <tr>\n",
       "      <th>164</th>\n",
       "      <td>QUISPICANCHI</td>\n",
       "      <td>133</td>\n",
       "      <td>167</td>\n",
       "      <td>184</td>\n",
       "      <td>-34</td>\n",
       "      <td>-0.203593</td>\n",
       "      <td>-20.359281</td>\n",
       "    </tr>\n",
       "    <tr>\n",
       "      <th>165</th>\n",
       "      <td>AYABACA</td>\n",
       "      <td>115</td>\n",
       "      <td>146</td>\n",
       "      <td>141</td>\n",
       "      <td>-31</td>\n",
       "      <td>-0.212329</td>\n",
       "      <td>-21.232877</td>\n",
       "    </tr>\n",
       "    <tr>\n",
       "      <th>166</th>\n",
       "      <td>ASUNCION</td>\n",
       "      <td>14</td>\n",
       "      <td>18</td>\n",
       "      <td>24</td>\n",
       "      <td>-4</td>\n",
       "      <td>-0.222222</td>\n",
       "      <td>-22.222222</td>\n",
       "    </tr>\n",
       "    <tr>\n",
       "      <th>167</th>\n",
       "      <td>LA MAR</td>\n",
       "      <td>66</td>\n",
       "      <td>85</td>\n",
       "      <td>78</td>\n",
       "      <td>-19</td>\n",
       "      <td>-0.223529</td>\n",
       "      <td>-22.352941</td>\n",
       "    </tr>\n",
       "    <tr>\n",
       "      <th>168</th>\n",
       "      <td>SAN MARCOS</td>\n",
       "      <td>60</td>\n",
       "      <td>79</td>\n",
       "      <td>76</td>\n",
       "      <td>-19</td>\n",
       "      <td>-0.240506</td>\n",
       "      <td>-24.050633</td>\n",
       "    </tr>\n",
       "    <tr>\n",
       "      <th>169</th>\n",
       "      <td>SANTA CRUZ</td>\n",
       "      <td>30</td>\n",
       "      <td>40</td>\n",
       "      <td>70</td>\n",
       "      <td>-10</td>\n",
       "      <td>-0.250000</td>\n",
       "      <td>-25.000000</td>\n",
       "    </tr>\n",
       "    <tr>\n",
       "      <th>170</th>\n",
       "      <td>SANCHEZ CARRION</td>\n",
       "      <td>97</td>\n",
       "      <td>130</td>\n",
       "      <td>135</td>\n",
       "      <td>-33</td>\n",
       "      <td>-0.253846</td>\n",
       "      <td>-25.384615</td>\n",
       "    </tr>\n",
       "    <tr>\n",
       "      <th>171</th>\n",
       "      <td>MELGAR</td>\n",
       "      <td>97</td>\n",
       "      <td>131</td>\n",
       "      <td>128</td>\n",
       "      <td>-34</td>\n",
       "      <td>-0.259542</td>\n",
       "      <td>-25.954198</td>\n",
       "    </tr>\n",
       "    <tr>\n",
       "      <th>172</th>\n",
       "      <td>CHOTA</td>\n",
       "      <td>94</td>\n",
       "      <td>128</td>\n",
       "      <td>136</td>\n",
       "      <td>-34</td>\n",
       "      <td>-0.265625</td>\n",
       "      <td>-26.562500</td>\n",
       "    </tr>\n",
       "    <tr>\n",
       "      <th>173</th>\n",
       "      <td>CAJABAMBA</td>\n",
       "      <td>86</td>\n",
       "      <td>119</td>\n",
       "      <td>99</td>\n",
       "      <td>-33</td>\n",
       "      <td>-0.277311</td>\n",
       "      <td>-27.731092</td>\n",
       "    </tr>\n",
       "    <tr>\n",
       "      <th>174</th>\n",
       "      <td>TARATA</td>\n",
       "      <td>13</td>\n",
       "      <td>18</td>\n",
       "      <td>12</td>\n",
       "      <td>-5</td>\n",
       "      <td>-0.277778</td>\n",
       "      <td>-27.777778</td>\n",
       "    </tr>\n",
       "    <tr>\n",
       "      <th>175</th>\n",
       "      <td>HUALGAYOC</td>\n",
       "      <td>49</td>\n",
       "      <td>71</td>\n",
       "      <td>100</td>\n",
       "      <td>-22</td>\n",
       "      <td>-0.309859</td>\n",
       "      <td>-30.985915</td>\n",
       "    </tr>\n",
       "    <tr>\n",
       "      <th>176</th>\n",
       "      <td>LUYA</td>\n",
       "      <td>33</td>\n",
       "      <td>48</td>\n",
       "      <td>57</td>\n",
       "      <td>-15</td>\n",
       "      <td>-0.312500</td>\n",
       "      <td>-31.250000</td>\n",
       "    </tr>\n",
       "    <tr>\n",
       "      <th>177</th>\n",
       "      <td>ANTABAMBA</td>\n",
       "      <td>20</td>\n",
       "      <td>30</td>\n",
       "      <td>24</td>\n",
       "      <td>-10</td>\n",
       "      <td>-0.333333</td>\n",
       "      <td>-33.333333</td>\n",
       "    </tr>\n",
       "    <tr>\n",
       "      <th>178</th>\n",
       "      <td>MARISCAL LUZURIAGA</td>\n",
       "      <td>28</td>\n",
       "      <td>42</td>\n",
       "      <td>37</td>\n",
       "      <td>-14</td>\n",
       "      <td>-0.333333</td>\n",
       "      <td>-33.333333</td>\n",
       "    </tr>\n",
       "    <tr>\n",
       "      <th>179</th>\n",
       "      <td>ANTONIO RAIMONDI</td>\n",
       "      <td>14</td>\n",
       "      <td>21</td>\n",
       "      <td>24</td>\n",
       "      <td>-7</td>\n",
       "      <td>-0.333333</td>\n",
       "      <td>-33.333333</td>\n",
       "    </tr>\n",
       "    <tr>\n",
       "      <th>180</th>\n",
       "      <td>CORONGO</td>\n",
       "      <td>6</td>\n",
       "      <td>9</td>\n",
       "      <td>13</td>\n",
       "      <td>-3</td>\n",
       "      <td>-0.333333</td>\n",
       "      <td>-33.333333</td>\n",
       "    </tr>\n",
       "    <tr>\n",
       "      <th>181</th>\n",
       "      <td>CANAS</td>\n",
       "      <td>55</td>\n",
       "      <td>83</td>\n",
       "      <td>76</td>\n",
       "      <td>-28</td>\n",
       "      <td>-0.337349</td>\n",
       "      <td>-33.734940</td>\n",
       "    </tr>\n",
       "    <tr>\n",
       "      <th>182</th>\n",
       "      <td>BONGARA</td>\n",
       "      <td>17</td>\n",
       "      <td>26</td>\n",
       "      <td>17</td>\n",
       "      <td>-9</td>\n",
       "      <td>-0.346154</td>\n",
       "      <td>-34.615385</td>\n",
       "    </tr>\n",
       "    <tr>\n",
       "      <th>183</th>\n",
       "      <td>HUAMANGA</td>\n",
       "      <td>214</td>\n",
       "      <td>329</td>\n",
       "      <td>321</td>\n",
       "      <td>-115</td>\n",
       "      <td>-0.349544</td>\n",
       "      <td>-34.954407</td>\n",
       "    </tr>\n",
       "    <tr>\n",
       "      <th>184</th>\n",
       "      <td>CUTERVO</td>\n",
       "      <td>69</td>\n",
       "      <td>110</td>\n",
       "      <td>73</td>\n",
       "      <td>-41</td>\n",
       "      <td>-0.372727</td>\n",
       "      <td>-37.272727</td>\n",
       "    </tr>\n",
       "    <tr>\n",
       "      <th>185</th>\n",
       "      <td>LUCANAS</td>\n",
       "      <td>49</td>\n",
       "      <td>81</td>\n",
       "      <td>71</td>\n",
       "      <td>-32</td>\n",
       "      <td>-0.395062</td>\n",
       "      <td>-39.506173</td>\n",
       "    </tr>\n",
       "    <tr>\n",
       "      <th>186</th>\n",
       "      <td>CANDARAVE</td>\n",
       "      <td>6</td>\n",
       "      <td>10</td>\n",
       "      <td>10</td>\n",
       "      <td>-4</td>\n",
       "      <td>-0.400000</td>\n",
       "      <td>-40.000000</td>\n",
       "    </tr>\n",
       "    <tr>\n",
       "      <th>187</th>\n",
       "      <td>PARURO</td>\n",
       "      <td>42</td>\n",
       "      <td>71</td>\n",
       "      <td>68</td>\n",
       "      <td>-29</td>\n",
       "      <td>-0.408451</td>\n",
       "      <td>-40.845070</td>\n",
       "    </tr>\n",
       "    <tr>\n",
       "      <th>188</th>\n",
       "      <td>PAUCARTAMBO</td>\n",
       "      <td>50</td>\n",
       "      <td>87</td>\n",
       "      <td>74</td>\n",
       "      <td>-37</td>\n",
       "      <td>-0.425287</td>\n",
       "      <td>-42.528736</td>\n",
       "    </tr>\n",
       "    <tr>\n",
       "      <th>189</th>\n",
       "      <td>ACOMAYO</td>\n",
       "      <td>35</td>\n",
       "      <td>65</td>\n",
       "      <td>67</td>\n",
       "      <td>-30</td>\n",
       "      <td>-0.461538</td>\n",
       "      <td>-46.153846</td>\n",
       "    </tr>\n",
       "    <tr>\n",
       "      <th>190</th>\n",
       "      <td>PAUCAR DEL SARA SARA</td>\n",
       "      <td>10</td>\n",
       "      <td>19</td>\n",
       "      <td>18</td>\n",
       "      <td>-9</td>\n",
       "      <td>-0.473684</td>\n",
       "      <td>-47.368421</td>\n",
       "    </tr>\n",
       "    <tr>\n",
       "      <th>191</th>\n",
       "      <td>GRAN CHIMU</td>\n",
       "      <td>27</td>\n",
       "      <td>52</td>\n",
       "      <td>36</td>\n",
       "      <td>-25</td>\n",
       "      <td>-0.480769</td>\n",
       "      <td>-48.076923</td>\n",
       "    </tr>\n",
       "    <tr>\n",
       "      <th>192</th>\n",
       "      <td>RODRIGUEZ DE MENDOZA</td>\n",
       "      <td>10</td>\n",
       "      <td>21</td>\n",
       "      <td>37</td>\n",
       "      <td>-11</td>\n",
       "      <td>-0.523810</td>\n",
       "      <td>-52.380952</td>\n",
       "    </tr>\n",
       "    <tr>\n",
       "      <th>193</th>\n",
       "      <td>BOLIVAR</td>\n",
       "      <td>9</td>\n",
       "      <td>19</td>\n",
       "      <td>19</td>\n",
       "      <td>-10</td>\n",
       "      <td>-0.526316</td>\n",
       "      <td>-52.631579</td>\n",
       "    </tr>\n",
       "    <tr>\n",
       "      <th>194</th>\n",
       "      <td>AZANGARO</td>\n",
       "      <td>86</td>\n",
       "      <td>218</td>\n",
       "      <td>231</td>\n",
       "      <td>-132</td>\n",
       "      <td>-0.605505</td>\n",
       "      <td>-60.550459</td>\n",
       "    </tr>\n",
       "    <tr>\n",
       "      <th>195</th>\n",
       "      <td>PATAZ</td>\n",
       "      <td>31</td>\n",
       "      <td>81</td>\n",
       "      <td>85</td>\n",
       "      <td>-50</td>\n",
       "      <td>-0.617284</td>\n",
       "      <td>-61.728395</td>\n",
       "    </tr>\n",
       "    <tr>\n",
       "      <th>196</th>\n",
       "      <td>SAN PABLO</td>\n",
       "      <td>9</td>\n",
       "      <td>45</td>\n",
       "      <td>42</td>\n",
       "      <td>-36</td>\n",
       "      <td>-0.800000</td>\n",
       "      <td>-80.000000</td>\n",
       "    </tr>\n",
       "    <tr>\n",
       "      <th>197</th>\n",
       "      <td>PURUS</td>\n",
       "      <td>1</td>\n",
       "      <td>5</td>\n",
       "      <td>7</td>\n",
       "      <td>-4</td>\n",
       "      <td>-0.800000</td>\n",
       "      <td>-80.000000</td>\n",
       "    </tr>\n",
       "  </tbody>\n",
       "</table>\n",
       "</div>"
      ],
      "text/plain": [
       "                     Provincia  Fallecidos - 2020  Fallecidos - 2019  \\\n",
       "0                     CHICLAYO               1299                156   \n",
       "1                   LAMBAYEQUE                384                 49   \n",
       "2                    FERREÑAFE                104                 17   \n",
       "3                 CONDORCANQUI                 23                  4   \n",
       "4                        PAITA                436                 88   \n",
       "5            DATEM DEL MARAÑON                 54                 11   \n",
       "6                         JAEN                256                 59   \n",
       "7                       LORETO                112                 27   \n",
       "8             MARISCAL CACERES                187                 47   \n",
       "9                         LIMA              38195               9821   \n",
       "10                       PIURA               2323                614   \n",
       "11                       PASCO                241                 67   \n",
       "12                      CALLAO               5107               1442   \n",
       "13                    PUTUMAYO                  7                  2   \n",
       "14                      MAYNAS               1504                432   \n",
       "15                     SULLANA               1348                395   \n",
       "16                   ZARUMILLA                155                 46   \n",
       "17                     CHINCHA               1348                404   \n",
       "18                       CASMA                202                 61   \n",
       "19                     SECHURA                137                 44   \n",
       "20                      TUMBES                681                224   \n",
       "21                       SANTA               2114                696   \n",
       "22                  SAN MARTIN                646                222   \n",
       "23                      HUAURA                597                211   \n",
       "24                    TRUJILLO               4289               1537   \n",
       "25                        VIRU                346                128   \n",
       "26            CORONEL PORTILLO               1544                583   \n",
       "27                       PISCO                597                245   \n",
       "28                  HUAROCHIRI                264                109   \n",
       "29                   CAJAMARCA                617                260   \n",
       "30               ALTO AMAZONAS                303                130   \n",
       "31                    AREQUIPA               4448               1927   \n",
       "32                         ICA               1514                668   \n",
       "33      DANIEL ALCIDES CARRION                 58                 26   \n",
       "34               LEONCIO PRADO                337                152   \n",
       "35                   TAMBOPATA                453                205   \n",
       "36       CONTRALMIRANTE VILLAR                 75                 34   \n",
       "37                     REQUENA                135                 62   \n",
       "38                     TOCACHE                116                 54   \n",
       "39                   EL DORADO                 73                 34   \n",
       "40                      ASCOPE                492                235   \n",
       "41                      HUARAL                643                321   \n",
       "42                   TAHUAMANU                 20                 10   \n",
       "43                     UCAYALI                 80                 40   \n",
       "44                   CAJATAMBO                  6                  3   \n",
       "45                    ANGARAES                123                 62   \n",
       "46                      HUARAZ                548                279   \n",
       "47                         ILO                227                116   \n",
       "48                       BAGUA                123                 63   \n",
       "49                      YAUYOS                 46                 24   \n",
       "50                    CAYLLOMA                183                 97   \n",
       "51                    BARRANCA                283                154   \n",
       "52                    HUANCAYO               1571                858   \n",
       "53                       CANTA                 40                 22   \n",
       "54                       NAZCA                222                124   \n",
       "55                  SAN MIGUEL                 45                 26   \n",
       "56                    HUALLAGA                 54                 32   \n",
       "57                      CAÑETE                514                308   \n",
       "58                       OCROS                 15                  9   \n",
       "59       GENERAL SANCHEZ CERRO                 40                 24   \n",
       "60                   PACASMAYO                246                150   \n",
       "61                    MORROPON                497                307   \n",
       "62                 CHANCHAMAYO                391                245   \n",
       "63                  BELLAVISTA                 73                 47   \n",
       "64                    PACHITEA                 48                 31   \n",
       "65                    AYMARAES                 60                 39   \n",
       "66                     CHUPACA                154                101   \n",
       "67                     HUANUCO                656                433   \n",
       "68                 ANDAHUAYLAS                239                158   \n",
       "69                      PICOTA                 60                 40   \n",
       "70     MARISCAL RAMON CASTILLA                 54                 36   \n",
       "71                        OYON                 18                 12   \n",
       "72              MARISCAL NIETO                235                159   \n",
       "73                   MOYOBAMBA                215                146   \n",
       "74              CASTROVIRREYNA                 38                 26   \n",
       "75                       YAULI                 95                 65   \n",
       "76                       PALPA                 42                 29   \n",
       "77                     HUARMEY                 82                 57   \n",
       "78                     HUAYLAS                135                 95   \n",
       "79                        AIJA                 14                 10   \n",
       "80                      HUANTA                 53                 38   \n",
       "81                  PADRE ABAD                 53                 38   \n",
       "82                    PALLASCA                 50                 36   \n",
       "83                      TALARA                277                201   \n",
       "84                   CONTUMAZA                 37                 27   \n",
       "85                     YUNGUYO                 88                 65   \n",
       "86                HUANCAVELICA                287                212   \n",
       "87                       SUCRE                 23                 17   \n",
       "88                       ISLAY                147                109   \n",
       "89                      CHEPEN                143                107   \n",
       "90                  CONCEPCION                136                102   \n",
       "91               HUANCA SANCOS                  8                  6   \n",
       "92                       JUNIN                 75                 57   \n",
       "93                    CHUCUITO                 42                 32   \n",
       "94                       CALCA                122                 93   \n",
       "95                       TARMA                246                189   \n",
       "96                       LAMAS                157                121   \n",
       "97                       CUSCO                828                654   \n",
       "98   CARLOS FERMIN FITZCARRALD                 31                 25   \n",
       "99                      CAMANA                128                104   \n",
       "100                     RECUAY                 43                 35   \n",
       "101                  YAROWILCA                 44                 36   \n",
       "102                 COTABAMBAS                 66                 54   \n",
       "103                    ATALAYA                 29                 24   \n",
       "104                     OTUZCO                154                128   \n",
       "105                      JAUJA                253                212   \n",
       "106                  UTCUBAMBA                 93                 78   \n",
       "107                HUACAYBAMBA                 19                 16   \n",
       "108                PUERTO INCA                 19                 16   \n",
       "109                 CHINCHEROS                 51                 43   \n",
       "110                      RIOJA                169                144   \n",
       "111                      HUARI                118                101   \n",
       "112                   TAYACAJA                185                159   \n",
       "113                  EL COLLAO                 96                 83   \n",
       "114                  POMABAMBA                 42                 37   \n",
       "115                    ABANCAY                177                156   \n",
       "116                      TACNA                476                423   \n",
       "117                 LAURICOCHA                 18                 16   \n",
       "118                   URUBAMBA                111                 99   \n",
       "119             VICTOR FAJARDO                 43                 39   \n",
       "120                 EXTRANJERO                122                111   \n",
       "121                     SIHUAS                 57                 52   \n",
       "122                 CONDESUYOS                 25                 23   \n",
       "123                       GRAU                 38                 35   \n",
       "124                  CHURCAMPA                 66                 61   \n",
       "125                     SANDIA                 45                 42   \n",
       "126                    CARHUAZ                106                 99   \n",
       "127                       MANU                 19                 18   \n",
       "128                  HUAMALIES                 77                 74   \n",
       "129                   OXAPAMPA                 99                 96   \n",
       "130                    MARAÑON                 37                 36   \n",
       "131                    CANCHIS                185                180   \n",
       "132              LA CONVENCION                257                251   \n",
       "133                   CARABAYA                 50                 49   \n",
       "134                   CANGALLO                 53                 52   \n",
       "135                       PUNO                335                334   \n",
       "136                   LA UNION                 27                 27   \n",
       "137               CHUMBIVILCAS                 97                 97   \n",
       "138                       AMBO                 71                 72   \n",
       "139                     SATIPO                172                176   \n",
       "140                  BOLOGNESI                 43                 44   \n",
       "141                   HUAYTARA                 39                 40   \n",
       "142                  SAN ROMAN                509                524   \n",
       "143      SAN ANTONIO DE PUTINA                 67                 70   \n",
       "144              VILCAS HUAMAN                 34                 36   \n",
       "145                     JULCAN                 29                 31   \n",
       "146               SIN REGISTRO                 57                 61   \n",
       "147                   HUANCANE                175                189   \n",
       "148                DOS DE MAYO                 48                 52   \n",
       "149               PARINACOCHAS                 34                 37   \n",
       "150                    ESPINAR                104                114   \n",
       "151                       MOHO                 68                 75   \n",
       "152                SAN IGNACIO                 48                 53   \n",
       "153                      LAMPA                 59                 66   \n",
       "154                   CELENDIN                 86                 97   \n",
       "155                   CARAVELI                 45                 51   \n",
       "156                     YUNGAY                 87                 99   \n",
       "157          SANTIAGO DE CHUCO                 50                 57   \n",
       "158                   ACOBAMBA                 67                 78   \n",
       "159                CHACHAPOYAS                 59                 69   \n",
       "160                       ANTA                 94                111   \n",
       "161              JORGE BASADRE                  8                 10   \n",
       "162                   CASTILLA                 48                 60   \n",
       "163                HUANCABAMBA                107                134   \n",
       "164               QUISPICANCHI                133                167   \n",
       "165                    AYABACA                115                146   \n",
       "166                   ASUNCION                 14                 18   \n",
       "167                     LA MAR                 66                 85   \n",
       "168                 SAN MARCOS                 60                 79   \n",
       "169                 SANTA CRUZ                 30                 40   \n",
       "170            SANCHEZ CARRION                 97                130   \n",
       "171                     MELGAR                 97                131   \n",
       "172                      CHOTA                 94                128   \n",
       "173                  CAJABAMBA                 86                119   \n",
       "174                     TARATA                 13                 18   \n",
       "175                  HUALGAYOC                 49                 71   \n",
       "176                       LUYA                 33                 48   \n",
       "177                  ANTABAMBA                 20                 30   \n",
       "178         MARISCAL LUZURIAGA                 28                 42   \n",
       "179           ANTONIO RAIMONDI                 14                 21   \n",
       "180                    CORONGO                  6                  9   \n",
       "181                      CANAS                 55                 83   \n",
       "182                    BONGARA                 17                 26   \n",
       "183                   HUAMANGA                214                329   \n",
       "184                    CUTERVO                 69                110   \n",
       "185                    LUCANAS                 49                 81   \n",
       "186                  CANDARAVE                  6                 10   \n",
       "187                     PARURO                 42                 71   \n",
       "188                PAUCARTAMBO                 50                 87   \n",
       "189                    ACOMAYO                 35                 65   \n",
       "190       PAUCAR DEL SARA SARA                 10                 19   \n",
       "191                 GRAN CHIMU                 27                 52   \n",
       "192       RODRIGUEZ DE MENDOZA                 10                 21   \n",
       "193                    BOLIVAR                  9                 19   \n",
       "194                   AZANGARO                 86                218   \n",
       "195                      PATAZ                 31                 81   \n",
       "196                  SAN PABLO                  9                 45   \n",
       "197                      PURUS                  1                  5   \n",
       "\n",
       "     Fallecidos - 2018  Incremento Absoluto (2020-2019)  \\\n",
       "0                 1016                             1143   \n",
       "1                  323                              335   \n",
       "2                  106                               87   \n",
       "3                   12                               19   \n",
       "4                  131                              348   \n",
       "5                   15                               43   \n",
       "6                   82                              197   \n",
       "7                   42                               85   \n",
       "8                   25                              140   \n",
       "9                10113                            28374   \n",
       "10                 646                             1709   \n",
       "11                  99                              174   \n",
       "12                1566                             3665   \n",
       "13                   4                                5   \n",
       "14                 393                             1072   \n",
       "15                 454                              953   \n",
       "16                  66                              109   \n",
       "17                 348                              944   \n",
       "18                  79                              141   \n",
       "19                  54                               93   \n",
       "20                 192                              457   \n",
       "21                 757                             1418   \n",
       "22                 239                              424   \n",
       "23                 263                              386   \n",
       "24                1534                             2752   \n",
       "25                 100                              218   \n",
       "26                 529                              961   \n",
       "27                 271                              352   \n",
       "28                 116                              155   \n",
       "29                 321                              357   \n",
       "30                 120                              173   \n",
       "31                1576                             2521   \n",
       "32                 661                              846   \n",
       "33                  25                               32   \n",
       "34                 117                              185   \n",
       "35                 162                              248   \n",
       "36                  24                               41   \n",
       "37                  32                               73   \n",
       "38                  56                               62   \n",
       "39                  33                               39   \n",
       "40                 249                              257   \n",
       "41                 329                              322   \n",
       "42                  14                               10   \n",
       "43                  30                               40   \n",
       "44                  12                                3   \n",
       "45                  82                               61   \n",
       "46                 252                              269   \n",
       "47                 121                              111   \n",
       "48                  17                               60   \n",
       "49                  23                               22   \n",
       "50                  66                               86   \n",
       "51                 283                              129   \n",
       "52                 891                              713   \n",
       "53                  25                               18   \n",
       "54                 103                               98   \n",
       "55                  35                               19   \n",
       "56                  39                               22   \n",
       "57                 350                              206   \n",
       "58                   7                                6   \n",
       "59                  31                               16   \n",
       "60                 158                               96   \n",
       "61                 300                              190   \n",
       "62                 273                              146   \n",
       "63                  51                               26   \n",
       "64                  74                               17   \n",
       "65                  43                               21   \n",
       "66                 112                               53   \n",
       "67                 513                              223   \n",
       "68                 128                               81   \n",
       "69                  28                               20   \n",
       "70                  15                               18   \n",
       "71                  14                                6   \n",
       "72                 112                               76   \n",
       "73                 148                               69   \n",
       "74                  25                               12   \n",
       "75                  52                               30   \n",
       "76                  29                               13   \n",
       "77                  49                               25   \n",
       "78                  92                               40   \n",
       "79                  15                                4   \n",
       "80                  42                               15   \n",
       "81                  32                               15   \n",
       "82                  43                               14   \n",
       "83                 198                               76   \n",
       "84                  33                               10   \n",
       "85                  75                               23   \n",
       "86                 228                               75   \n",
       "87                  20                                6   \n",
       "88                  83                               38   \n",
       "89                 123                               36   \n",
       "90                  99                               34   \n",
       "91                   8                                2   \n",
       "92                  35                               18   \n",
       "93                  21                               10   \n",
       "94                 117                               29   \n",
       "95                 201                               57   \n",
       "96                 133                               36   \n",
       "97                 693                              174   \n",
       "98                  31                                6   \n",
       "99                  85                               24   \n",
       "100                 37                                8   \n",
       "101                 35                                8   \n",
       "102                 53                               12   \n",
       "103                 30                                5   \n",
       "104                120                               26   \n",
       "105                190                               41   \n",
       "106                111                               15   \n",
       "107                 26                                3   \n",
       "108                 25                                3   \n",
       "109                 69                                8   \n",
       "110                152                               25   \n",
       "111                133                               17   \n",
       "112                165                               26   \n",
       "113                 93                               13   \n",
       "114                 30                                5   \n",
       "115                165                               21   \n",
       "116                446                               53   \n",
       "117                 23                                2   \n",
       "118                121                               12   \n",
       "119                 30                                4   \n",
       "120                102                               11   \n",
       "121                 61                                5   \n",
       "122                 24                                2   \n",
       "123                 26                                3   \n",
       "124                 72                                5   \n",
       "125                 57                                3   \n",
       "126                 75                                7   \n",
       "127                  8                                1   \n",
       "128                 95                                3   \n",
       "129                 63                                3   \n",
       "130                 31                                1   \n",
       "131                198                                5   \n",
       "132                318                                6   \n",
       "133                 79                                1   \n",
       "134                 41                                1   \n",
       "135                284                                1   \n",
       "136                 11                                0   \n",
       "137                134                                0   \n",
       "138                 76                               -1   \n",
       "139                180                               -4   \n",
       "140                 45                               -1   \n",
       "141                 27                               -1   \n",
       "142                490                              -15   \n",
       "143                 52                               -3   \n",
       "144                 21                               -2   \n",
       "145                 28                               -2   \n",
       "146                188                               -4   \n",
       "147                189                              -14   \n",
       "148                 47                               -4   \n",
       "149                 30                               -3   \n",
       "150                124                              -10   \n",
       "151                 79                               -7   \n",
       "152                 73                               -5   \n",
       "153                 81                               -7   \n",
       "154                106                              -11   \n",
       "155                 20                               -6   \n",
       "156                100                              -12   \n",
       "157                 82                               -7   \n",
       "158                 87                              -11   \n",
       "159                 69                              -10   \n",
       "160                134                              -17   \n",
       "161                  8                               -2   \n",
       "162                 41                              -12   \n",
       "163                145                              -27   \n",
       "164                184                              -34   \n",
       "165                141                              -31   \n",
       "166                 24                               -4   \n",
       "167                 78                              -19   \n",
       "168                 76                              -19   \n",
       "169                 70                              -10   \n",
       "170                135                              -33   \n",
       "171                128                              -34   \n",
       "172                136                              -34   \n",
       "173                 99                              -33   \n",
       "174                 12                               -5   \n",
       "175                100                              -22   \n",
       "176                 57                              -15   \n",
       "177                 24                              -10   \n",
       "178                 37                              -14   \n",
       "179                 24                               -7   \n",
       "180                 13                               -3   \n",
       "181                 76                              -28   \n",
       "182                 17                               -9   \n",
       "183                321                             -115   \n",
       "184                 73                              -41   \n",
       "185                 71                              -32   \n",
       "186                 10                               -4   \n",
       "187                 68                              -29   \n",
       "188                 74                              -37   \n",
       "189                 67                              -30   \n",
       "190                 18                               -9   \n",
       "191                 36                              -25   \n",
       "192                 37                              -11   \n",
       "193                 19                              -10   \n",
       "194                231                             -132   \n",
       "195                 85                              -50   \n",
       "196                 42                              -36   \n",
       "197                  7                               -4   \n",
       "\n",
       "     Incremento Relativo  (2020-2019)  Incremento Relativo  (2020-2019)(%)  \n",
       "0                            7.326923                           732.692308  \n",
       "1                            6.836735                           683.673469  \n",
       "2                            5.117647                           511.764706  \n",
       "3                            4.750000                           475.000000  \n",
       "4                            3.954545                           395.454545  \n",
       "5                            3.909091                           390.909091  \n",
       "6                            3.338983                           333.898305  \n",
       "7                            3.148148                           314.814815  \n",
       "8                            2.978723                           297.872340  \n",
       "9                            2.889115                           288.911516  \n",
       "10                           2.783388                           278.338762  \n",
       "11                           2.597015                           259.701493  \n",
       "12                           2.541609                           254.160888  \n",
       "13                           2.500000                           250.000000  \n",
       "14                           2.481481                           248.148148  \n",
       "15                           2.412658                           241.265823  \n",
       "16                           2.369565                           236.956522  \n",
       "17                           2.336634                           233.663366  \n",
       "18                           2.311475                           231.147541  \n",
       "19                           2.113636                           211.363636  \n",
       "20                           2.040179                           204.017857  \n",
       "21                           2.037356                           203.735632  \n",
       "22                           1.909910                           190.990991  \n",
       "23                           1.829384                           182.938389  \n",
       "24                           1.790501                           179.050098  \n",
       "25                           1.703125                           170.312500  \n",
       "26                           1.648370                           164.837050  \n",
       "27                           1.436735                           143.673469  \n",
       "28                           1.422018                           142.201835  \n",
       "29                           1.373077                           137.307692  \n",
       "30                           1.330769                           133.076923  \n",
       "31                           1.308251                           130.825117  \n",
       "32                           1.266467                           126.646707  \n",
       "33                           1.230769                           123.076923  \n",
       "34                           1.217105                           121.710526  \n",
       "35                           1.209756                           120.975610  \n",
       "36                           1.205882                           120.588235  \n",
       "37                           1.177419                           117.741935  \n",
       "38                           1.148148                           114.814815  \n",
       "39                           1.147059                           114.705882  \n",
       "40                           1.093617                           109.361702  \n",
       "41                           1.003115                           100.311526  \n",
       "42                           1.000000                           100.000000  \n",
       "43                           1.000000                           100.000000  \n",
       "44                           1.000000                           100.000000  \n",
       "45                           0.983871                            98.387097  \n",
       "46                           0.964158                            96.415771  \n",
       "47                           0.956897                            95.689655  \n",
       "48                           0.952381                            95.238095  \n",
       "49                           0.916667                            91.666667  \n",
       "50                           0.886598                            88.659794  \n",
       "51                           0.837662                            83.766234  \n",
       "52                           0.831002                            83.100233  \n",
       "53                           0.818182                            81.818182  \n",
       "54                           0.790323                            79.032258  \n",
       "55                           0.730769                            73.076923  \n",
       "56                           0.687500                            68.750000  \n",
       "57                           0.668831                            66.883117  \n",
       "58                           0.666667                            66.666667  \n",
       "59                           0.666667                            66.666667  \n",
       "60                           0.640000                            64.000000  \n",
       "61                           0.618893                            61.889251  \n",
       "62                           0.595918                            59.591837  \n",
       "63                           0.553191                            55.319149  \n",
       "64                           0.548387                            54.838710  \n",
       "65                           0.538462                            53.846154  \n",
       "66                           0.524752                            52.475248  \n",
       "67                           0.515012                            51.501155  \n",
       "68                           0.512658                            51.265823  \n",
       "69                           0.500000                            50.000000  \n",
       "70                           0.500000                            50.000000  \n",
       "71                           0.500000                            50.000000  \n",
       "72                           0.477987                            47.798742  \n",
       "73                           0.472603                            47.260274  \n",
       "74                           0.461538                            46.153846  \n",
       "75                           0.461538                            46.153846  \n",
       "76                           0.448276                            44.827586  \n",
       "77                           0.438596                            43.859649  \n",
       "78                           0.421053                            42.105263  \n",
       "79                           0.400000                            40.000000  \n",
       "80                           0.394737                            39.473684  \n",
       "81                           0.394737                            39.473684  \n",
       "82                           0.388889                            38.888889  \n",
       "83                           0.378109                            37.810945  \n",
       "84                           0.370370                            37.037037  \n",
       "85                           0.353846                            35.384615  \n",
       "86                           0.353774                            35.377358  \n",
       "87                           0.352941                            35.294118  \n",
       "88                           0.348624                            34.862385  \n",
       "89                           0.336449                            33.644860  \n",
       "90                           0.333333                            33.333333  \n",
       "91                           0.333333                            33.333333  \n",
       "92                           0.315789                            31.578947  \n",
       "93                           0.312500                            31.250000  \n",
       "94                           0.311828                            31.182796  \n",
       "95                           0.301587                            30.158730  \n",
       "96                           0.297521                            29.752066  \n",
       "97                           0.266055                            26.605505  \n",
       "98                           0.240000                            24.000000  \n",
       "99                           0.230769                            23.076923  \n",
       "100                          0.228571                            22.857143  \n",
       "101                          0.222222                            22.222222  \n",
       "102                          0.222222                            22.222222  \n",
       "103                          0.208333                            20.833333  \n",
       "104                          0.203125                            20.312500  \n",
       "105                          0.193396                            19.339623  \n",
       "106                          0.192308                            19.230769  \n",
       "107                          0.187500                            18.750000  \n",
       "108                          0.187500                            18.750000  \n",
       "109                          0.186047                            18.604651  \n",
       "110                          0.173611                            17.361111  \n",
       "111                          0.168317                            16.831683  \n",
       "112                          0.163522                            16.352201  \n",
       "113                          0.156627                            15.662651  \n",
       "114                          0.135135                            13.513514  \n",
       "115                          0.134615                            13.461538  \n",
       "116                          0.125296                            12.529551  \n",
       "117                          0.125000                            12.500000  \n",
       "118                          0.121212                            12.121212  \n",
       "119                          0.102564                            10.256410  \n",
       "120                          0.099099                             9.909910  \n",
       "121                          0.096154                             9.615385  \n",
       "122                          0.086957                             8.695652  \n",
       "123                          0.085714                             8.571429  \n",
       "124                          0.081967                             8.196721  \n",
       "125                          0.071429                             7.142857  \n",
       "126                          0.070707                             7.070707  \n",
       "127                          0.055556                             5.555556  \n",
       "128                          0.040541                             4.054054  \n",
       "129                          0.031250                             3.125000  \n",
       "130                          0.027778                             2.777778  \n",
       "131                          0.027778                             2.777778  \n",
       "132                          0.023904                             2.390438  \n",
       "133                          0.020408                             2.040816  \n",
       "134                          0.019231                             1.923077  \n",
       "135                          0.002994                             0.299401  \n",
       "136                          0.000000                             0.000000  \n",
       "137                          0.000000                             0.000000  \n",
       "138                         -0.013889                            -1.388889  \n",
       "139                         -0.022727                            -2.272727  \n",
       "140                         -0.022727                            -2.272727  \n",
       "141                         -0.025000                            -2.500000  \n",
       "142                         -0.028626                            -2.862595  \n",
       "143                         -0.042857                            -4.285714  \n",
       "144                         -0.055556                            -5.555556  \n",
       "145                         -0.064516                            -6.451613  \n",
       "146                         -0.065574                            -6.557377  \n",
       "147                         -0.074074                            -7.407407  \n",
       "148                         -0.076923                            -7.692308  \n",
       "149                         -0.081081                            -8.108108  \n",
       "150                         -0.087719                            -8.771930  \n",
       "151                         -0.093333                            -9.333333  \n",
       "152                         -0.094340                            -9.433962  \n",
       "153                         -0.106061                           -10.606061  \n",
       "154                         -0.113402                           -11.340206  \n",
       "155                         -0.117647                           -11.764706  \n",
       "156                         -0.121212                           -12.121212  \n",
       "157                         -0.122807                           -12.280702  \n",
       "158                         -0.141026                           -14.102564  \n",
       "159                         -0.144928                           -14.492754  \n",
       "160                         -0.153153                           -15.315315  \n",
       "161                         -0.200000                           -20.000000  \n",
       "162                         -0.200000                           -20.000000  \n",
       "163                         -0.201493                           -20.149254  \n",
       "164                         -0.203593                           -20.359281  \n",
       "165                         -0.212329                           -21.232877  \n",
       "166                         -0.222222                           -22.222222  \n",
       "167                         -0.223529                           -22.352941  \n",
       "168                         -0.240506                           -24.050633  \n",
       "169                         -0.250000                           -25.000000  \n",
       "170                         -0.253846                           -25.384615  \n",
       "171                         -0.259542                           -25.954198  \n",
       "172                         -0.265625                           -26.562500  \n",
       "173                         -0.277311                           -27.731092  \n",
       "174                         -0.277778                           -27.777778  \n",
       "175                         -0.309859                           -30.985915  \n",
       "176                         -0.312500                           -31.250000  \n",
       "177                         -0.333333                           -33.333333  \n",
       "178                         -0.333333                           -33.333333  \n",
       "179                         -0.333333                           -33.333333  \n",
       "180                         -0.333333                           -33.333333  \n",
       "181                         -0.337349                           -33.734940  \n",
       "182                         -0.346154                           -34.615385  \n",
       "183                         -0.349544                           -34.954407  \n",
       "184                         -0.372727                           -37.272727  \n",
       "185                         -0.395062                           -39.506173  \n",
       "186                         -0.400000                           -40.000000  \n",
       "187                         -0.408451                           -40.845070  \n",
       "188                         -0.425287                           -42.528736  \n",
       "189                         -0.461538                           -46.153846  \n",
       "190                         -0.473684                           -47.368421  \n",
       "191                         -0.480769                           -48.076923  \n",
       "192                         -0.523810                           -52.380952  \n",
       "193                         -0.526316                           -52.631579  \n",
       "194                         -0.605505                           -60.550459  \n",
       "195                         -0.617284                           -61.728395  \n",
       "196                         -0.800000                           -80.000000  \n",
       "197                         -0.800000                           -80.000000  "
      ]
     },
     "metadata": {},
     "output_type": "display_data"
    }
   ],
   "source": [
    "display(final_provincia)"
   ]
  },
  {
   "cell_type": "markdown",
   "metadata": {},
   "source": [
    "## ¿Cómo ha afectado el COVID19 a los diferentes distritos (domicilio) limeños?"
   ]
  },
  {
   "cell_type": "markdown",
   "metadata": {},
   "source": [
    "Para ver el grado de impacto de COVID19 podríamos analizar el número de muertes por distrinto, sin embargo, el número absoluto no sería suficiente puesto que en cada distrito morirá más o menos gente dependiendo de diferentes condiciones (población, situación social, edad...), para hacer frente a este problema una aproximación es obtener el incremento porcentual de muertes para los diferentes distritos. <br>\n",
    "Utilizaremos los fallecimientos en los meses: abril,mayo,junio y julio (periodo covid con meses completos) y aquellos distritos de Lima en los que haya habido en 2020 al menos 30 muertos durante este periodo."
   ]
  },
  {
   "cell_type": "markdown",
   "metadata": {},
   "source": [
    "A continuación, se muestra una tabla con los distritos limeños ordenados de mayor a menor incremento de fallencimientos durante el periódo COVID para los años 2019 y 2020. <br>"
   ]
  },
  {
   "cell_type": "code",
   "execution_count": 20,
   "metadata": {},
   "outputs": [],
   "source": [
    "# 2020\n",
    "bool_departamento = df_pe[\"PROVINCIA DOMICILIO\"] == 'LIMA'\n",
    "bool_anyo = df_pe[\"AÑO\"] == 2020\n",
    "bool_meses = df_pe[\"MES\"].isin([4,5,6,7])\n",
    "df_lima_2020_covid = df_pe[bool_departamento & bool_anyo & bool_meses].reset_index(drop=True)\n",
    "df_lima_2020_covid_dom = df_lima_2020_covid.groupby(\"DISTRITO DOMICILIO\").agg({\"Nº\":\"count\"}).rename(columns={\"Nº\":\"Fallecidos2020\"}).reset_index()\n",
    "df_lima_2020_covid_dom = df_lima_2020_covid_dom[df_lima_2020_covid_dom[\"Fallecidos2020\"] >= 30].reset_index(drop=True)\n",
    "\n",
    "# 2019\n",
    "bool_departamento = df_pe[\"PROVINCIA DOMICILIO\"] == 'LIMA'\n",
    "bool_anyo = df_pe[\"AÑO\"] == 2019\n",
    "bool_meses = df_pe[\"MES\"].isin([4,5,6,7])\n",
    "df_lima_2019_covid = df_pe[bool_departamento & bool_anyo & bool_meses].reset_index(drop=True)\n",
    "df_lima_2019_covid_dom = df_lima_2019_covid.groupby(\"DISTRITO DOMICILIO\").agg({\"Nº\":\"count\"}).rename(columns={\"Nº\":\"Fallecidos2019\"}).reset_index()\n",
    "\n",
    "# 2018\n",
    "bool_departamento = df_pe[\"PROVINCIA DOMICILIO\"] == 'LIMA'\n",
    "bool_anyo = df_pe[\"AÑO\"] == 2018\n",
    "bool_meses = df_pe[\"MES\"].isin([4,5,6,7])\n",
    "df_lima_2018_covid = df_pe[bool_departamento & bool_anyo & bool_meses].reset_index(drop=True)\n",
    "df_lima_2018_covid_dom = df_lima_2018_covid.groupby(\"DISTRITO DOMICILIO\").agg({\"Nº\":\"count\"}).rename(columns={\"Nº\":\"Fallecidos2018\"}).reset_index()\n",
    "\n",
    "#Incrementos\n",
    "muertes_distrito = pd.merge(df_lima_2020_covid_dom,df_lima_2019_covid_dom,on=\"DISTRITO DOMICILIO\",how=\"left\")\n",
    "muertes_distrito = pd.merge(muertes_distrito,df_lima_2018_covid_dom,on=\"DISTRITO DOMICILIO\",how=\"left\")\n",
    "muertes_distrito[\"incremento\"] = muertes_distrito[\"Fallecidos2020\"]-muertes_distrito[\"Fallecidos2019\"]\n",
    "muertes_distrito[\"incremento_relativo\"] = muertes_distrito[\"incremento\"]/muertes_distrito[\"Fallecidos2019\"]\n",
    "muertes_distrito[\"incremento_relativo%\"] = muertes_distrito[\"incremento_relativo\"]*100\n",
    "muertes_distrito = muertes_distrito.sort_values(\"incremento_relativo%\",ascending=False).reset_index(drop=True)\n",
    "final_distrito = muertes_distrito.rename(columns={\"DISTRITO DOMICILIO\":\"Distrito\", \n",
    "                                 \"Fallecidos2020\": \"Fallecidos - 2020\",\n",
    "                                \"Fallecidos2019\": \"Fallecidos - 2019\",\n",
    "                                \"Fallecidos2018\": \"Fallecidos - 2018\",\n",
    "                                 \"incremento\": \"Incremento Absoluto  (2020-2019)\",\n",
    "                                 \"incremento_relativo\": \"Incremento Relativo (2020-2019)\",\n",
    "                                 \"incremento_relativo%\": \"Incremento Relativo (2020-2019) (%)\",\n",
    "                                })"
   ]
  },
  {
   "cell_type": "code",
   "execution_count": 21,
   "metadata": {},
   "outputs": [
    {
     "data": {
      "text/html": [
       "<div>\n",
       "<style scoped>\n",
       "    .dataframe tbody tr th:only-of-type {\n",
       "        vertical-align: middle;\n",
       "    }\n",
       "\n",
       "    .dataframe tbody tr th {\n",
       "        vertical-align: top;\n",
       "    }\n",
       "\n",
       "    .dataframe thead th {\n",
       "        text-align: right;\n",
       "    }\n",
       "</style>\n",
       "<table border=\"1\" class=\"dataframe\">\n",
       "  <thead>\n",
       "    <tr style=\"text-align: right;\">\n",
       "      <th></th>\n",
       "      <th>Distrito</th>\n",
       "      <th>Fallecidos - 2020</th>\n",
       "      <th>Fallecidos - 2019</th>\n",
       "      <th>Fallecidos - 2018</th>\n",
       "      <th>Incremento Absoluto  (2020-2019)</th>\n",
       "      <th>Incremento Relativo (2020-2019)</th>\n",
       "      <th>Incremento Relativo (2020-2019) (%)</th>\n",
       "    </tr>\n",
       "  </thead>\n",
       "  <tbody>\n",
       "    <tr>\n",
       "      <th>0</th>\n",
       "      <td>SAN JUAN DE LURIGANCHO</td>\n",
       "      <td>4130</td>\n",
       "      <td>737</td>\n",
       "      <td>690</td>\n",
       "      <td>3393</td>\n",
       "      <td>4.603799</td>\n",
       "      <td>460.379919</td>\n",
       "    </tr>\n",
       "    <tr>\n",
       "      <th>1</th>\n",
       "      <td>ANCON</td>\n",
       "      <td>189</td>\n",
       "      <td>34</td>\n",
       "      <td>61</td>\n",
       "      <td>155</td>\n",
       "      <td>4.558824</td>\n",
       "      <td>455.882353</td>\n",
       "    </tr>\n",
       "    <tr>\n",
       "      <th>2</th>\n",
       "      <td>COMAS</td>\n",
       "      <td>2476</td>\n",
       "      <td>463</td>\n",
       "      <td>520</td>\n",
       "      <td>2013</td>\n",
       "      <td>4.347732</td>\n",
       "      <td>434.773218</td>\n",
       "    </tr>\n",
       "    <tr>\n",
       "      <th>3</th>\n",
       "      <td>LURIN</td>\n",
       "      <td>295</td>\n",
       "      <td>60</td>\n",
       "      <td>71</td>\n",
       "      <td>235</td>\n",
       "      <td>3.916667</td>\n",
       "      <td>391.666667</td>\n",
       "    </tr>\n",
       "    <tr>\n",
       "      <th>4</th>\n",
       "      <td>VILLA EL SALVADOR</td>\n",
       "      <td>1831</td>\n",
       "      <td>379</td>\n",
       "      <td>463</td>\n",
       "      <td>1452</td>\n",
       "      <td>3.831135</td>\n",
       "      <td>383.113456</td>\n",
       "    </tr>\n",
       "    <tr>\n",
       "      <th>5</th>\n",
       "      <td>EL AGUSTINO</td>\n",
       "      <td>1114</td>\n",
       "      <td>245</td>\n",
       "      <td>240</td>\n",
       "      <td>869</td>\n",
       "      <td>3.546939</td>\n",
       "      <td>354.693878</td>\n",
       "    </tr>\n",
       "    <tr>\n",
       "      <th>6</th>\n",
       "      <td>ATE</td>\n",
       "      <td>1892</td>\n",
       "      <td>420</td>\n",
       "      <td>412</td>\n",
       "      <td>1472</td>\n",
       "      <td>3.504762</td>\n",
       "      <td>350.476190</td>\n",
       "    </tr>\n",
       "    <tr>\n",
       "      <th>7</th>\n",
       "      <td>SANTA ANITA</td>\n",
       "      <td>974</td>\n",
       "      <td>217</td>\n",
       "      <td>169</td>\n",
       "      <td>757</td>\n",
       "      <td>3.488479</td>\n",
       "      <td>348.847926</td>\n",
       "    </tr>\n",
       "    <tr>\n",
       "      <th>8</th>\n",
       "      <td>VILLA MARIA DEL TRIUNFO</td>\n",
       "      <td>1663</td>\n",
       "      <td>375</td>\n",
       "      <td>534</td>\n",
       "      <td>1288</td>\n",
       "      <td>3.434667</td>\n",
       "      <td>343.466667</td>\n",
       "    </tr>\n",
       "    <tr>\n",
       "      <th>9</th>\n",
       "      <td>SAN JUAN DE MIRAFLORES</td>\n",
       "      <td>1771</td>\n",
       "      <td>404</td>\n",
       "      <td>531</td>\n",
       "      <td>1367</td>\n",
       "      <td>3.383663</td>\n",
       "      <td>338.366337</td>\n",
       "    </tr>\n",
       "    <tr>\n",
       "      <th>10</th>\n",
       "      <td>LOS OLIVOS</td>\n",
       "      <td>1328</td>\n",
       "      <td>303</td>\n",
       "      <td>377</td>\n",
       "      <td>1025</td>\n",
       "      <td>3.382838</td>\n",
       "      <td>338.283828</td>\n",
       "    </tr>\n",
       "    <tr>\n",
       "      <th>11</th>\n",
       "      <td>SAN MARTIN DE PORRES</td>\n",
       "      <td>2981</td>\n",
       "      <td>685</td>\n",
       "      <td>834</td>\n",
       "      <td>2296</td>\n",
       "      <td>3.351825</td>\n",
       "      <td>335.182482</td>\n",
       "    </tr>\n",
       "    <tr>\n",
       "      <th>12</th>\n",
       "      <td>INDEPENDENCIA</td>\n",
       "      <td>1080</td>\n",
       "      <td>250</td>\n",
       "      <td>274</td>\n",
       "      <td>830</td>\n",
       "      <td>3.320000</td>\n",
       "      <td>332.000000</td>\n",
       "    </tr>\n",
       "    <tr>\n",
       "      <th>13</th>\n",
       "      <td>CHORRILLOS</td>\n",
       "      <td>1276</td>\n",
       "      <td>296</td>\n",
       "      <td>349</td>\n",
       "      <td>980</td>\n",
       "      <td>3.310811</td>\n",
       "      <td>331.081081</td>\n",
       "    </tr>\n",
       "    <tr>\n",
       "      <th>14</th>\n",
       "      <td>CARABAYLLO</td>\n",
       "      <td>852</td>\n",
       "      <td>204</td>\n",
       "      <td>214</td>\n",
       "      <td>648</td>\n",
       "      <td>3.176471</td>\n",
       "      <td>317.647059</td>\n",
       "    </tr>\n",
       "    <tr>\n",
       "      <th>15</th>\n",
       "      <td>LA VICTORIA</td>\n",
       "      <td>1509</td>\n",
       "      <td>369</td>\n",
       "      <td>322</td>\n",
       "      <td>1140</td>\n",
       "      <td>3.089431</td>\n",
       "      <td>308.943089</td>\n",
       "    </tr>\n",
       "    <tr>\n",
       "      <th>16</th>\n",
       "      <td>PUENTE PIEDRA</td>\n",
       "      <td>905</td>\n",
       "      <td>228</td>\n",
       "      <td>303</td>\n",
       "      <td>677</td>\n",
       "      <td>2.969298</td>\n",
       "      <td>296.929825</td>\n",
       "    </tr>\n",
       "    <tr>\n",
       "      <th>17</th>\n",
       "      <td>RIMAC</td>\n",
       "      <td>1152</td>\n",
       "      <td>295</td>\n",
       "      <td>222</td>\n",
       "      <td>857</td>\n",
       "      <td>2.905085</td>\n",
       "      <td>290.508475</td>\n",
       "    </tr>\n",
       "    <tr>\n",
       "      <th>18</th>\n",
       "      <td>LIMA</td>\n",
       "      <td>2687</td>\n",
       "      <td>730</td>\n",
       "      <td>677</td>\n",
       "      <td>1957</td>\n",
       "      <td>2.680822</td>\n",
       "      <td>268.082192</td>\n",
       "    </tr>\n",
       "    <tr>\n",
       "      <th>19</th>\n",
       "      <td>PACHACAMAC</td>\n",
       "      <td>217</td>\n",
       "      <td>61</td>\n",
       "      <td>88</td>\n",
       "      <td>156</td>\n",
       "      <td>2.557377</td>\n",
       "      <td>255.737705</td>\n",
       "    </tr>\n",
       "    <tr>\n",
       "      <th>20</th>\n",
       "      <td>PUCUSANA</td>\n",
       "      <td>46</td>\n",
       "      <td>13</td>\n",
       "      <td>16</td>\n",
       "      <td>33</td>\n",
       "      <td>2.538462</td>\n",
       "      <td>253.846154</td>\n",
       "    </tr>\n",
       "    <tr>\n",
       "      <th>21</th>\n",
       "      <td>SANTA ROSA</td>\n",
       "      <td>42</td>\n",
       "      <td>13</td>\n",
       "      <td>15</td>\n",
       "      <td>29</td>\n",
       "      <td>2.230769</td>\n",
       "      <td>223.076923</td>\n",
       "    </tr>\n",
       "    <tr>\n",
       "      <th>22</th>\n",
       "      <td>CHACLACAYO</td>\n",
       "      <td>180</td>\n",
       "      <td>58</td>\n",
       "      <td>69</td>\n",
       "      <td>122</td>\n",
       "      <td>2.103448</td>\n",
       "      <td>210.344828</td>\n",
       "    </tr>\n",
       "    <tr>\n",
       "      <th>23</th>\n",
       "      <td>LURIGANCHO</td>\n",
       "      <td>501</td>\n",
       "      <td>168</td>\n",
       "      <td>169</td>\n",
       "      <td>333</td>\n",
       "      <td>1.982143</td>\n",
       "      <td>198.214286</td>\n",
       "    </tr>\n",
       "    <tr>\n",
       "      <th>24</th>\n",
       "      <td>BARRANCO</td>\n",
       "      <td>204</td>\n",
       "      <td>69</td>\n",
       "      <td>68</td>\n",
       "      <td>135</td>\n",
       "      <td>1.956522</td>\n",
       "      <td>195.652174</td>\n",
       "    </tr>\n",
       "    <tr>\n",
       "      <th>25</th>\n",
       "      <td>SANTIAGO DE SURCO</td>\n",
       "      <td>1267</td>\n",
       "      <td>436</td>\n",
       "      <td>420</td>\n",
       "      <td>831</td>\n",
       "      <td>1.905963</td>\n",
       "      <td>190.596330</td>\n",
       "    </tr>\n",
       "    <tr>\n",
       "      <th>26</th>\n",
       "      <td>SURQUILLO</td>\n",
       "      <td>461</td>\n",
       "      <td>159</td>\n",
       "      <td>148</td>\n",
       "      <td>302</td>\n",
       "      <td>1.899371</td>\n",
       "      <td>189.937107</td>\n",
       "    </tr>\n",
       "    <tr>\n",
       "      <th>27</th>\n",
       "      <td>SAN LUIS</td>\n",
       "      <td>285</td>\n",
       "      <td>100</td>\n",
       "      <td>51</td>\n",
       "      <td>185</td>\n",
       "      <td>1.850000</td>\n",
       "      <td>185.000000</td>\n",
       "    </tr>\n",
       "    <tr>\n",
       "      <th>28</th>\n",
       "      <td>LA MOLINA</td>\n",
       "      <td>473</td>\n",
       "      <td>169</td>\n",
       "      <td>160</td>\n",
       "      <td>304</td>\n",
       "      <td>1.798817</td>\n",
       "      <td>179.881657</td>\n",
       "    </tr>\n",
       "    <tr>\n",
       "      <th>29</th>\n",
       "      <td>BREÑA</td>\n",
       "      <td>635</td>\n",
       "      <td>232</td>\n",
       "      <td>208</td>\n",
       "      <td>403</td>\n",
       "      <td>1.737069</td>\n",
       "      <td>173.706897</td>\n",
       "    </tr>\n",
       "    <tr>\n",
       "      <th>30</th>\n",
       "      <td>PUEBLO LIBRE</td>\n",
       "      <td>471</td>\n",
       "      <td>179</td>\n",
       "      <td>160</td>\n",
       "      <td>292</td>\n",
       "      <td>1.631285</td>\n",
       "      <td>163.128492</td>\n",
       "    </tr>\n",
       "    <tr>\n",
       "      <th>31</th>\n",
       "      <td>LINCE</td>\n",
       "      <td>444</td>\n",
       "      <td>173</td>\n",
       "      <td>167</td>\n",
       "      <td>271</td>\n",
       "      <td>1.566474</td>\n",
       "      <td>156.647399</td>\n",
       "    </tr>\n",
       "    <tr>\n",
       "      <th>32</th>\n",
       "      <td>CIENEGUILLA</td>\n",
       "      <td>52</td>\n",
       "      <td>21</td>\n",
       "      <td>16</td>\n",
       "      <td>31</td>\n",
       "      <td>1.476190</td>\n",
       "      <td>147.619048</td>\n",
       "    </tr>\n",
       "    <tr>\n",
       "      <th>33</th>\n",
       "      <td>SAN MIGUEL</td>\n",
       "      <td>643</td>\n",
       "      <td>262</td>\n",
       "      <td>215</td>\n",
       "      <td>381</td>\n",
       "      <td>1.454198</td>\n",
       "      <td>145.419847</td>\n",
       "    </tr>\n",
       "    <tr>\n",
       "      <th>34</th>\n",
       "      <td>JESUS MARIA</td>\n",
       "      <td>576</td>\n",
       "      <td>244</td>\n",
       "      <td>220</td>\n",
       "      <td>332</td>\n",
       "      <td>1.360656</td>\n",
       "      <td>136.065574</td>\n",
       "    </tr>\n",
       "    <tr>\n",
       "      <th>35</th>\n",
       "      <td>MAGDALENA DEL MAR</td>\n",
       "      <td>312</td>\n",
       "      <td>141</td>\n",
       "      <td>135</td>\n",
       "      <td>171</td>\n",
       "      <td>1.212766</td>\n",
       "      <td>121.276596</td>\n",
       "    </tr>\n",
       "    <tr>\n",
       "      <th>36</th>\n",
       "      <td>SAN BORJA</td>\n",
       "      <td>445</td>\n",
       "      <td>205</td>\n",
       "      <td>130</td>\n",
       "      <td>240</td>\n",
       "      <td>1.170732</td>\n",
       "      <td>117.073171</td>\n",
       "    </tr>\n",
       "    <tr>\n",
       "      <th>37</th>\n",
       "      <td>MIRAFLORES</td>\n",
       "      <td>488</td>\n",
       "      <td>250</td>\n",
       "      <td>190</td>\n",
       "      <td>238</td>\n",
       "      <td>0.952000</td>\n",
       "      <td>95.200000</td>\n",
       "    </tr>\n",
       "    <tr>\n",
       "      <th>38</th>\n",
       "      <td>SAN ISIDRO</td>\n",
       "      <td>292</td>\n",
       "      <td>153</td>\n",
       "      <td>116</td>\n",
       "      <td>139</td>\n",
       "      <td>0.908497</td>\n",
       "      <td>90.849673</td>\n",
       "    </tr>\n",
       "  </tbody>\n",
       "</table>\n",
       "</div>"
      ],
      "text/plain": [
       "                   Distrito  Fallecidos - 2020  Fallecidos - 2019  \\\n",
       "0    SAN JUAN DE LURIGANCHO               4130                737   \n",
       "1                     ANCON                189                 34   \n",
       "2                     COMAS               2476                463   \n",
       "3                     LURIN                295                 60   \n",
       "4         VILLA EL SALVADOR               1831                379   \n",
       "5               EL AGUSTINO               1114                245   \n",
       "6                       ATE               1892                420   \n",
       "7               SANTA ANITA                974                217   \n",
       "8   VILLA MARIA DEL TRIUNFO               1663                375   \n",
       "9    SAN JUAN DE MIRAFLORES               1771                404   \n",
       "10               LOS OLIVOS               1328                303   \n",
       "11     SAN MARTIN DE PORRES               2981                685   \n",
       "12            INDEPENDENCIA               1080                250   \n",
       "13               CHORRILLOS               1276                296   \n",
       "14               CARABAYLLO                852                204   \n",
       "15              LA VICTORIA               1509                369   \n",
       "16            PUENTE PIEDRA                905                228   \n",
       "17                    RIMAC               1152                295   \n",
       "18                     LIMA               2687                730   \n",
       "19               PACHACAMAC                217                 61   \n",
       "20                 PUCUSANA                 46                 13   \n",
       "21               SANTA ROSA                 42                 13   \n",
       "22               CHACLACAYO                180                 58   \n",
       "23               LURIGANCHO                501                168   \n",
       "24                 BARRANCO                204                 69   \n",
       "25        SANTIAGO DE SURCO               1267                436   \n",
       "26                SURQUILLO                461                159   \n",
       "27                 SAN LUIS                285                100   \n",
       "28                LA MOLINA                473                169   \n",
       "29                    BREÑA                635                232   \n",
       "30             PUEBLO LIBRE                471                179   \n",
       "31                    LINCE                444                173   \n",
       "32              CIENEGUILLA                 52                 21   \n",
       "33               SAN MIGUEL                643                262   \n",
       "34              JESUS MARIA                576                244   \n",
       "35        MAGDALENA DEL MAR                312                141   \n",
       "36                SAN BORJA                445                205   \n",
       "37               MIRAFLORES                488                250   \n",
       "38               SAN ISIDRO                292                153   \n",
       "\n",
       "    Fallecidos - 2018  Incremento Absoluto  (2020-2019)  \\\n",
       "0                 690                              3393   \n",
       "1                  61                               155   \n",
       "2                 520                              2013   \n",
       "3                  71                               235   \n",
       "4                 463                              1452   \n",
       "5                 240                               869   \n",
       "6                 412                              1472   \n",
       "7                 169                               757   \n",
       "8                 534                              1288   \n",
       "9                 531                              1367   \n",
       "10                377                              1025   \n",
       "11                834                              2296   \n",
       "12                274                               830   \n",
       "13                349                               980   \n",
       "14                214                               648   \n",
       "15                322                              1140   \n",
       "16                303                               677   \n",
       "17                222                               857   \n",
       "18                677                              1957   \n",
       "19                 88                               156   \n",
       "20                 16                                33   \n",
       "21                 15                                29   \n",
       "22                 69                               122   \n",
       "23                169                               333   \n",
       "24                 68                               135   \n",
       "25                420                               831   \n",
       "26                148                               302   \n",
       "27                 51                               185   \n",
       "28                160                               304   \n",
       "29                208                               403   \n",
       "30                160                               292   \n",
       "31                167                               271   \n",
       "32                 16                                31   \n",
       "33                215                               381   \n",
       "34                220                               332   \n",
       "35                135                               171   \n",
       "36                130                               240   \n",
       "37                190                               238   \n",
       "38                116                               139   \n",
       "\n",
       "    Incremento Relativo (2020-2019)  Incremento Relativo (2020-2019) (%)  \n",
       "0                          4.603799                           460.379919  \n",
       "1                          4.558824                           455.882353  \n",
       "2                          4.347732                           434.773218  \n",
       "3                          3.916667                           391.666667  \n",
       "4                          3.831135                           383.113456  \n",
       "5                          3.546939                           354.693878  \n",
       "6                          3.504762                           350.476190  \n",
       "7                          3.488479                           348.847926  \n",
       "8                          3.434667                           343.466667  \n",
       "9                          3.383663                           338.366337  \n",
       "10                         3.382838                           338.283828  \n",
       "11                         3.351825                           335.182482  \n",
       "12                         3.320000                           332.000000  \n",
       "13                         3.310811                           331.081081  \n",
       "14                         3.176471                           317.647059  \n",
       "15                         3.089431                           308.943089  \n",
       "16                         2.969298                           296.929825  \n",
       "17                         2.905085                           290.508475  \n",
       "18                         2.680822                           268.082192  \n",
       "19                         2.557377                           255.737705  \n",
       "20                         2.538462                           253.846154  \n",
       "21                         2.230769                           223.076923  \n",
       "22                         2.103448                           210.344828  \n",
       "23                         1.982143                           198.214286  \n",
       "24                         1.956522                           195.652174  \n",
       "25                         1.905963                           190.596330  \n",
       "26                         1.899371                           189.937107  \n",
       "27                         1.850000                           185.000000  \n",
       "28                         1.798817                           179.881657  \n",
       "29                         1.737069                           173.706897  \n",
       "30                         1.631285                           163.128492  \n",
       "31                         1.566474                           156.647399  \n",
       "32                         1.476190                           147.619048  \n",
       "33                         1.454198                           145.419847  \n",
       "34                         1.360656                           136.065574  \n",
       "35                         1.212766                           121.276596  \n",
       "36                         1.170732                           117.073171  \n",
       "37                         0.952000                            95.200000  \n",
       "38                         0.908497                            90.849673  "
      ]
     },
     "metadata": {},
     "output_type": "display_data"
    }
   ],
   "source": [
    "display(final_distrito)"
   ]
  },
  {
   "cell_type": "markdown",
   "metadata": {},
   "source": [
    "## ¿Tienen relación las características socio demográficas por distrito con el incremento relativo de fallecimientos?"
   ]
  },
  {
   "cell_type": "markdown",
   "metadata": {},
   "source": [
    "Datos sociodemográficos disponibles en: https://www.pe.undp.org/content/peru/es/home/library/poverty/el-reto-de-la-igualdad.html (2019) <br>\n",
    "Superficie de distritos obtenidas de : https://es.wikipedia.org/wiki/Anexo:Distritos_de_Lima"
   ]
  },
  {
   "cell_type": "markdown",
   "metadata": {},
   "source": [
    "Para poder responder a la pregunta anterior una de las variables a considerar es el Índice de Desarrollo Humano (IDH). A continuación, se presenta una definición para dicha variable.<br>"
   ]
  },
  {
   "cell_type": "markdown",
   "metadata": {},
   "source": [
    "### ¿Qué mide el IDH ( Índice de Desarrollo Humano)?\n",
    "\n",
    "Desde 1990, el Programa de las Naciones Unidas para el Desarrollo (PNUD) publica el Informe sobre Desarrollo Humano que analiza los problemas, tendencias, avances y políticas de desarrollo a nivel mundial. Este informe presenta un indicador denominado “Índice de Desarrollo Humano” (IDH), el cual mide el avance promedio de un país en tres dimensiones básicas de desarrollo: esperanza de vida, acceso a educación y el nivel de ingresos. El IDH pretende ser un indicador más confiable de desarrollo en comparación con el crecimiento PBI ya que considera otras dimensiones además del nivel de ingreso\n",
    "\n",
    "Fuente: https://www.ipe.org.pe/portal/indice-de-desarrollo-humano-idh/"
   ]
  },
  {
   "cell_type": "code",
   "execution_count": 61,
   "metadata": {},
   "outputs": [],
   "source": [
    "#datos_demo = pd.read_csv(\"DatosDistritosLima.csv\")\n",
    "datos_demo = pd.read_excel(\"DatosDistritosLima.xls\")\n",
    "datos_demo[\"Distrito\"] = datos_demo[\"Distrito\"].str.upper()\n",
    "final_distrito_demo = pd.merge(final_distrito,datos_demo, on =\"Distrito\", how=\"left\")\n",
    "final_distrito_demo[\"Densidad\"] = final_distrito_demo[\"Población\"]/final_distrito_demo[\"Área\"]\n",
    "final_distrito_demo = final_distrito_demo[~final_distrito_demo[\"IDH\"].isnull()].reset_index(drop=True)"
   ]
  },
  {
   "cell_type": "markdown",
   "metadata": {},
   "source": [
    "La gráfica que se presenta a continuación muestra la relación entre el IDH y el incremento porcentual de fallecimientos emtre 2020 y 2019 en el periodo COVID para las diferentes provincias de Lima. <br>\n",
    "**Se puede observar cierta correlación negativa, a mayor IDH menor incremento porcentual de fallecimientos. Sin embargo, vemos casos como: Cieneguilla, Pucusana, Pachacamac, Santa Rosa y Lurigancho que teniendo un IDH bajo no tienen un incremento porcentual tan alto en comparación otros distritos.**"
   ]
  },
  {
   "cell_type": "code",
   "execution_count": 62,
   "metadata": {
    "scrolled": false
   },
   "outputs": [
    {
     "data": {
      "application/vnd.plotly.v1+json": {
       "config": {
        "plotlyServerURL": "https://plot.ly"
       },
       "data": [
        {
         "mode": "markers+text",
         "text": [
          "SAN JUAN DE LURIGANCHO",
          "ANCON",
          "COMAS",
          "LURIN",
          "VILLA EL SALVADOR",
          "EL AGUSTINO",
          "ATE",
          "SANTA ANITA",
          "VILLA MARIA DEL TRIUNFO",
          "SAN JUAN DE MIRAFLORES",
          "LOS OLIVOS",
          "SAN MARTIN DE PORRES",
          "INDEPENDENCIA",
          "CHORRILLOS",
          "CARABAYLLO",
          "LA VICTORIA",
          "PUENTE PIEDRA",
          "RIMAC",
          "LIMA",
          "PACHACAMAC",
          "PUCUSANA",
          "SANTA ROSA",
          "CHACLACAYO",
          "LURIGANCHO",
          "BARRANCO",
          "SANTIAGO DE SURCO",
          "SURQUILLO",
          "SAN LUIS",
          "LA MOLINA",
          "BREÑA",
          "PUEBLO LIBRE",
          "LINCE",
          "CIENEGUILLA",
          "SAN MIGUEL",
          "JESUS MARIA",
          "MAGDALENA DEL MAR",
          "SAN BORJA",
          "MIRAFLORES",
          "SAN ISIDRO"
         ],
         "textfont": {
          "color": "black",
          "size": 10
         },
         "textposition": "top center",
         "type": "scatter",
         "x": [
          0.7011,
          0.6689,
          0.7219,
          0.6909,
          0.699,
          0.6971,
          0.6869,
          0.7347,
          0.6898,
          0.729,
          0.7585,
          0.742,
          0.6853,
          0.7584,
          0.6499,
          0.7142,
          0.6633,
          0.73,
          0.7647,
          0.6463,
          0.5989,
          0.6606,
          0.7411,
          0.6832,
          0.8206,
          0.8018,
          0.8171,
          0.7933,
          0.8452,
          0.8121,
          0.8337,
          0.8424,
          0.6372,
          0.8224,
          0.8372,
          0.8339,
          0.8236,
          0.8326,
          0.7888
         ],
         "y": [
          460.37991858887375,
          455.88235294117646,
          434.7732181425486,
          391.66666666666663,
          383.1134564643799,
          354.6938775510204,
          350.4761904761905,
          348.8479262672811,
          343.4666666666667,
          338.36633663366337,
          338.2838283828383,
          335.1824817518248,
          332,
          331.0810810810811,
          317.6470588235294,
          308.9430894308943,
          296.9298245614035,
          290.5084745762712,
          268.0821917808219,
          255.73770491803282,
          253.84615384615384,
          223.0769230769231,
          210.3448275862069,
          198.21428571428572,
          195.65217391304347,
          190.59633027522935,
          189.937106918239,
          185,
          179.88165680473372,
          173.70689655172413,
          163.12849162011173,
          156.64739884393063,
          147.61904761904762,
          145.41984732824426,
          136.0655737704918,
          121.27659574468086,
          117.07317073170731,
          95.19999999999999,
          90.84967320261438
         ]
        }
       ],
       "layout": {
        "legend": {
         "title": {
          "text": "Año"
         }
        },
        "template": {
         "data": {
          "bar": [
           {
            "error_x": {
             "color": "#2a3f5f"
            },
            "error_y": {
             "color": "#2a3f5f"
            },
            "marker": {
             "line": {
              "color": "#E5ECF6",
              "width": 0.5
             }
            },
            "type": "bar"
           }
          ],
          "barpolar": [
           {
            "marker": {
             "line": {
              "color": "#E5ECF6",
              "width": 0.5
             }
            },
            "type": "barpolar"
           }
          ],
          "carpet": [
           {
            "aaxis": {
             "endlinecolor": "#2a3f5f",
             "gridcolor": "white",
             "linecolor": "white",
             "minorgridcolor": "white",
             "startlinecolor": "#2a3f5f"
            },
            "baxis": {
             "endlinecolor": "#2a3f5f",
             "gridcolor": "white",
             "linecolor": "white",
             "minorgridcolor": "white",
             "startlinecolor": "#2a3f5f"
            },
            "type": "carpet"
           }
          ],
          "choropleth": [
           {
            "colorbar": {
             "outlinewidth": 0,
             "ticks": ""
            },
            "type": "choropleth"
           }
          ],
          "contour": [
           {
            "colorbar": {
             "outlinewidth": 0,
             "ticks": ""
            },
            "colorscale": [
             [
              0,
              "#0d0887"
             ],
             [
              0.1111111111111111,
              "#46039f"
             ],
             [
              0.2222222222222222,
              "#7201a8"
             ],
             [
              0.3333333333333333,
              "#9c179e"
             ],
             [
              0.4444444444444444,
              "#bd3786"
             ],
             [
              0.5555555555555556,
              "#d8576b"
             ],
             [
              0.6666666666666666,
              "#ed7953"
             ],
             [
              0.7777777777777778,
              "#fb9f3a"
             ],
             [
              0.8888888888888888,
              "#fdca26"
             ],
             [
              1,
              "#f0f921"
             ]
            ],
            "type": "contour"
           }
          ],
          "contourcarpet": [
           {
            "colorbar": {
             "outlinewidth": 0,
             "ticks": ""
            },
            "type": "contourcarpet"
           }
          ],
          "heatmap": [
           {
            "colorbar": {
             "outlinewidth": 0,
             "ticks": ""
            },
            "colorscale": [
             [
              0,
              "#0d0887"
             ],
             [
              0.1111111111111111,
              "#46039f"
             ],
             [
              0.2222222222222222,
              "#7201a8"
             ],
             [
              0.3333333333333333,
              "#9c179e"
             ],
             [
              0.4444444444444444,
              "#bd3786"
             ],
             [
              0.5555555555555556,
              "#d8576b"
             ],
             [
              0.6666666666666666,
              "#ed7953"
             ],
             [
              0.7777777777777778,
              "#fb9f3a"
             ],
             [
              0.8888888888888888,
              "#fdca26"
             ],
             [
              1,
              "#f0f921"
             ]
            ],
            "type": "heatmap"
           }
          ],
          "heatmapgl": [
           {
            "colorbar": {
             "outlinewidth": 0,
             "ticks": ""
            },
            "colorscale": [
             [
              0,
              "#0d0887"
             ],
             [
              0.1111111111111111,
              "#46039f"
             ],
             [
              0.2222222222222222,
              "#7201a8"
             ],
             [
              0.3333333333333333,
              "#9c179e"
             ],
             [
              0.4444444444444444,
              "#bd3786"
             ],
             [
              0.5555555555555556,
              "#d8576b"
             ],
             [
              0.6666666666666666,
              "#ed7953"
             ],
             [
              0.7777777777777778,
              "#fb9f3a"
             ],
             [
              0.8888888888888888,
              "#fdca26"
             ],
             [
              1,
              "#f0f921"
             ]
            ],
            "type": "heatmapgl"
           }
          ],
          "histogram": [
           {
            "marker": {
             "colorbar": {
              "outlinewidth": 0,
              "ticks": ""
             }
            },
            "type": "histogram"
           }
          ],
          "histogram2d": [
           {
            "colorbar": {
             "outlinewidth": 0,
             "ticks": ""
            },
            "colorscale": [
             [
              0,
              "#0d0887"
             ],
             [
              0.1111111111111111,
              "#46039f"
             ],
             [
              0.2222222222222222,
              "#7201a8"
             ],
             [
              0.3333333333333333,
              "#9c179e"
             ],
             [
              0.4444444444444444,
              "#bd3786"
             ],
             [
              0.5555555555555556,
              "#d8576b"
             ],
             [
              0.6666666666666666,
              "#ed7953"
             ],
             [
              0.7777777777777778,
              "#fb9f3a"
             ],
             [
              0.8888888888888888,
              "#fdca26"
             ],
             [
              1,
              "#f0f921"
             ]
            ],
            "type": "histogram2d"
           }
          ],
          "histogram2dcontour": [
           {
            "colorbar": {
             "outlinewidth": 0,
             "ticks": ""
            },
            "colorscale": [
             [
              0,
              "#0d0887"
             ],
             [
              0.1111111111111111,
              "#46039f"
             ],
             [
              0.2222222222222222,
              "#7201a8"
             ],
             [
              0.3333333333333333,
              "#9c179e"
             ],
             [
              0.4444444444444444,
              "#bd3786"
             ],
             [
              0.5555555555555556,
              "#d8576b"
             ],
             [
              0.6666666666666666,
              "#ed7953"
             ],
             [
              0.7777777777777778,
              "#fb9f3a"
             ],
             [
              0.8888888888888888,
              "#fdca26"
             ],
             [
              1,
              "#f0f921"
             ]
            ],
            "type": "histogram2dcontour"
           }
          ],
          "mesh3d": [
           {
            "colorbar": {
             "outlinewidth": 0,
             "ticks": ""
            },
            "type": "mesh3d"
           }
          ],
          "parcoords": [
           {
            "line": {
             "colorbar": {
              "outlinewidth": 0,
              "ticks": ""
             }
            },
            "type": "parcoords"
           }
          ],
          "pie": [
           {
            "automargin": true,
            "type": "pie"
           }
          ],
          "scatter": [
           {
            "marker": {
             "colorbar": {
              "outlinewidth": 0,
              "ticks": ""
             }
            },
            "type": "scatter"
           }
          ],
          "scatter3d": [
           {
            "line": {
             "colorbar": {
              "outlinewidth": 0,
              "ticks": ""
             }
            },
            "marker": {
             "colorbar": {
              "outlinewidth": 0,
              "ticks": ""
             }
            },
            "type": "scatter3d"
           }
          ],
          "scattercarpet": [
           {
            "marker": {
             "colorbar": {
              "outlinewidth": 0,
              "ticks": ""
             }
            },
            "type": "scattercarpet"
           }
          ],
          "scattergeo": [
           {
            "marker": {
             "colorbar": {
              "outlinewidth": 0,
              "ticks": ""
             }
            },
            "type": "scattergeo"
           }
          ],
          "scattergl": [
           {
            "marker": {
             "colorbar": {
              "outlinewidth": 0,
              "ticks": ""
             }
            },
            "type": "scattergl"
           }
          ],
          "scattermapbox": [
           {
            "marker": {
             "colorbar": {
              "outlinewidth": 0,
              "ticks": ""
             }
            },
            "type": "scattermapbox"
           }
          ],
          "scatterpolar": [
           {
            "marker": {
             "colorbar": {
              "outlinewidth": 0,
              "ticks": ""
             }
            },
            "type": "scatterpolar"
           }
          ],
          "scatterpolargl": [
           {
            "marker": {
             "colorbar": {
              "outlinewidth": 0,
              "ticks": ""
             }
            },
            "type": "scatterpolargl"
           }
          ],
          "scatterternary": [
           {
            "marker": {
             "colorbar": {
              "outlinewidth": 0,
              "ticks": ""
             }
            },
            "type": "scatterternary"
           }
          ],
          "surface": [
           {
            "colorbar": {
             "outlinewidth": 0,
             "ticks": ""
            },
            "colorscale": [
             [
              0,
              "#0d0887"
             ],
             [
              0.1111111111111111,
              "#46039f"
             ],
             [
              0.2222222222222222,
              "#7201a8"
             ],
             [
              0.3333333333333333,
              "#9c179e"
             ],
             [
              0.4444444444444444,
              "#bd3786"
             ],
             [
              0.5555555555555556,
              "#d8576b"
             ],
             [
              0.6666666666666666,
              "#ed7953"
             ],
             [
              0.7777777777777778,
              "#fb9f3a"
             ],
             [
              0.8888888888888888,
              "#fdca26"
             ],
             [
              1,
              "#f0f921"
             ]
            ],
            "type": "surface"
           }
          ],
          "table": [
           {
            "cells": {
             "fill": {
              "color": "#EBF0F8"
             },
             "line": {
              "color": "white"
             }
            },
            "header": {
             "fill": {
              "color": "#C8D4E3"
             },
             "line": {
              "color": "white"
             }
            },
            "type": "table"
           }
          ]
         },
         "layout": {
          "annotationdefaults": {
           "arrowcolor": "#2a3f5f",
           "arrowhead": 0,
           "arrowwidth": 1
          },
          "coloraxis": {
           "colorbar": {
            "outlinewidth": 0,
            "ticks": ""
           }
          },
          "colorscale": {
           "diverging": [
            [
             0,
             "#8e0152"
            ],
            [
             0.1,
             "#c51b7d"
            ],
            [
             0.2,
             "#de77ae"
            ],
            [
             0.3,
             "#f1b6da"
            ],
            [
             0.4,
             "#fde0ef"
            ],
            [
             0.5,
             "#f7f7f7"
            ],
            [
             0.6,
             "#e6f5d0"
            ],
            [
             0.7,
             "#b8e186"
            ],
            [
             0.8,
             "#7fbc41"
            ],
            [
             0.9,
             "#4d9221"
            ],
            [
             1,
             "#276419"
            ]
           ],
           "sequential": [
            [
             0,
             "#0d0887"
            ],
            [
             0.1111111111111111,
             "#46039f"
            ],
            [
             0.2222222222222222,
             "#7201a8"
            ],
            [
             0.3333333333333333,
             "#9c179e"
            ],
            [
             0.4444444444444444,
             "#bd3786"
            ],
            [
             0.5555555555555556,
             "#d8576b"
            ],
            [
             0.6666666666666666,
             "#ed7953"
            ],
            [
             0.7777777777777778,
             "#fb9f3a"
            ],
            [
             0.8888888888888888,
             "#fdca26"
            ],
            [
             1,
             "#f0f921"
            ]
           ],
           "sequentialminus": [
            [
             0,
             "#0d0887"
            ],
            [
             0.1111111111111111,
             "#46039f"
            ],
            [
             0.2222222222222222,
             "#7201a8"
            ],
            [
             0.3333333333333333,
             "#9c179e"
            ],
            [
             0.4444444444444444,
             "#bd3786"
            ],
            [
             0.5555555555555556,
             "#d8576b"
            ],
            [
             0.6666666666666666,
             "#ed7953"
            ],
            [
             0.7777777777777778,
             "#fb9f3a"
            ],
            [
             0.8888888888888888,
             "#fdca26"
            ],
            [
             1,
             "#f0f921"
            ]
           ]
          },
          "colorway": [
           "#636efa",
           "#EF553B",
           "#00cc96",
           "#ab63fa",
           "#FFA15A",
           "#19d3f3",
           "#FF6692",
           "#B6E880",
           "#FF97FF",
           "#FECB52"
          ],
          "font": {
           "color": "#2a3f5f"
          },
          "geo": {
           "bgcolor": "white",
           "lakecolor": "white",
           "landcolor": "#E5ECF6",
           "showlakes": true,
           "showland": true,
           "subunitcolor": "white"
          },
          "hoverlabel": {
           "align": "left"
          },
          "hovermode": "closest",
          "mapbox": {
           "style": "light"
          },
          "paper_bgcolor": "white",
          "plot_bgcolor": "#E5ECF6",
          "polar": {
           "angularaxis": {
            "gridcolor": "white",
            "linecolor": "white",
            "ticks": ""
           },
           "bgcolor": "#E5ECF6",
           "radialaxis": {
            "gridcolor": "white",
            "linecolor": "white",
            "ticks": ""
           }
          },
          "scene": {
           "xaxis": {
            "backgroundcolor": "#E5ECF6",
            "gridcolor": "white",
            "gridwidth": 2,
            "linecolor": "white",
            "showbackground": true,
            "ticks": "",
            "zerolinecolor": "white"
           },
           "yaxis": {
            "backgroundcolor": "#E5ECF6",
            "gridcolor": "white",
            "gridwidth": 2,
            "linecolor": "white",
            "showbackground": true,
            "ticks": "",
            "zerolinecolor": "white"
           },
           "zaxis": {
            "backgroundcolor": "#E5ECF6",
            "gridcolor": "white",
            "gridwidth": 2,
            "linecolor": "white",
            "showbackground": true,
            "ticks": "",
            "zerolinecolor": "white"
           }
          },
          "shapedefaults": {
           "line": {
            "color": "#2a3f5f"
           }
          },
          "ternary": {
           "aaxis": {
            "gridcolor": "white",
            "linecolor": "white",
            "ticks": ""
           },
           "baxis": {
            "gridcolor": "white",
            "linecolor": "white",
            "ticks": ""
           },
           "bgcolor": "#E5ECF6",
           "caxis": {
            "gridcolor": "white",
            "linecolor": "white",
            "ticks": ""
           }
          },
          "title": {
           "x": 0.05
          },
          "xaxis": {
           "automargin": true,
           "gridcolor": "white",
           "linecolor": "white",
           "ticks": "",
           "title": {
            "standoff": 15
           },
           "zerolinecolor": "white",
           "zerolinewidth": 2
          },
          "yaxis": {
           "automargin": true,
           "gridcolor": "white",
           "linecolor": "white",
           "ticks": "",
           "title": {
            "standoff": 15
           },
           "zerolinecolor": "white",
           "zerolinewidth": 2
          }
         }
        },
        "title": {
         "text": "Fallecimientos - Distritos Perú"
        },
        "xaxis": {
         "title": {
          "text": "Indice Desarrollo Humano"
         }
        },
        "yaxis": {
         "title": {
          "text": "Incremento Relativo de Fallecimientos (2020-2019) (%)"
         }
        }
       }
      },
      "text/html": [
       "<div>\n",
       "        \n",
       "        \n",
       "            <div id=\"3b297b9a-281b-4b5b-8e96-9f867b1e7878\" class=\"plotly-graph-div\" style=\"height:525px; width:100%;\"></div>\n",
       "            <script type=\"text/javascript\">\n",
       "                require([\"plotly\"], function(Plotly) {\n",
       "                    window.PLOTLYENV=window.PLOTLYENV || {};\n",
       "                    \n",
       "                if (document.getElementById(\"3b297b9a-281b-4b5b-8e96-9f867b1e7878\")) {\n",
       "                    Plotly.newPlot(\n",
       "                        '3b297b9a-281b-4b5b-8e96-9f867b1e7878',\n",
       "                        [{\"mode\": \"markers+text\", \"text\": [\"SAN JUAN DE LURIGANCHO\", \"ANCON\", \"COMAS\", \"LURIN\", \"VILLA EL SALVADOR\", \"EL AGUSTINO\", \"ATE\", \"SANTA ANITA\", \"VILLA MARIA DEL TRIUNFO\", \"SAN JUAN DE MIRAFLORES\", \"LOS OLIVOS\", \"SAN MARTIN DE PORRES\", \"INDEPENDENCIA\", \"CHORRILLOS\", \"CARABAYLLO\", \"LA VICTORIA\", \"PUENTE PIEDRA\", \"RIMAC\", \"LIMA\", \"PACHACAMAC\", \"PUCUSANA\", \"SANTA ROSA\", \"CHACLACAYO\", \"LURIGANCHO\", \"BARRANCO\", \"SANTIAGO DE SURCO\", \"SURQUILLO\", \"SAN LUIS\", \"LA MOLINA\", \"BRE\\u00d1A\", \"PUEBLO LIBRE\", \"LINCE\", \"CIENEGUILLA\", \"SAN MIGUEL\", \"JESUS MARIA\", \"MAGDALENA DEL MAR\", \"SAN BORJA\", \"MIRAFLORES\", \"SAN ISIDRO\"], \"textfont\": {\"color\": \"black\", \"size\": 10}, \"textposition\": \"top center\", \"type\": \"scatter\", \"x\": [0.7011, 0.6689, 0.7219, 0.6909, 0.699, 0.6971, 0.6869, 0.7347, 0.6898, 0.729, 0.7585, 0.742, 0.6853, 0.7584, 0.6499, 0.7142, 0.6633, 0.73, 0.7647, 0.6463, 0.5989, 0.6606, 0.7411, 0.6832, 0.8206, 0.8018, 0.8171, 0.7933, 0.8452, 0.8121, 0.8337, 0.8424, 0.6372, 0.8224, 0.8372, 0.8339, 0.8236, 0.8326, 0.7888], \"y\": [460.37991858887375, 455.88235294117646, 434.7732181425486, 391.66666666666663, 383.1134564643799, 354.6938775510204, 350.4761904761905, 348.8479262672811, 343.4666666666667, 338.36633663366337, 338.2838283828383, 335.1824817518248, 332.0, 331.0810810810811, 317.6470588235294, 308.9430894308943, 296.9298245614035, 290.5084745762712, 268.0821917808219, 255.73770491803282, 253.84615384615384, 223.0769230769231, 210.3448275862069, 198.21428571428572, 195.65217391304347, 190.59633027522935, 189.937106918239, 185.0, 179.88165680473372, 173.70689655172413, 163.12849162011173, 156.64739884393063, 147.61904761904762, 145.41984732824426, 136.0655737704918, 121.27659574468086, 117.07317073170731, 95.19999999999999, 90.84967320261438]}],\n",
       "                        {\"legend\": {\"title\": {\"text\": \"A\\u00f1o\"}}, \"template\": {\"data\": {\"bar\": [{\"error_x\": {\"color\": \"#2a3f5f\"}, \"error_y\": {\"color\": \"#2a3f5f\"}, \"marker\": {\"line\": {\"color\": \"#E5ECF6\", \"width\": 0.5}}, \"type\": \"bar\"}], \"barpolar\": [{\"marker\": {\"line\": {\"color\": \"#E5ECF6\", \"width\": 0.5}}, \"type\": \"barpolar\"}], \"carpet\": [{\"aaxis\": {\"endlinecolor\": \"#2a3f5f\", \"gridcolor\": \"white\", \"linecolor\": \"white\", \"minorgridcolor\": \"white\", \"startlinecolor\": \"#2a3f5f\"}, \"baxis\": {\"endlinecolor\": \"#2a3f5f\", \"gridcolor\": \"white\", \"linecolor\": \"white\", \"minorgridcolor\": \"white\", \"startlinecolor\": \"#2a3f5f\"}, \"type\": \"carpet\"}], \"choropleth\": [{\"colorbar\": {\"outlinewidth\": 0, \"ticks\": \"\"}, \"type\": \"choropleth\"}], \"contour\": [{\"colorbar\": {\"outlinewidth\": 0, \"ticks\": \"\"}, \"colorscale\": [[0.0, \"#0d0887\"], [0.1111111111111111, \"#46039f\"], [0.2222222222222222, \"#7201a8\"], [0.3333333333333333, \"#9c179e\"], [0.4444444444444444, \"#bd3786\"], [0.5555555555555556, \"#d8576b\"], [0.6666666666666666, \"#ed7953\"], [0.7777777777777778, \"#fb9f3a\"], [0.8888888888888888, \"#fdca26\"], [1.0, \"#f0f921\"]], \"type\": \"contour\"}], \"contourcarpet\": [{\"colorbar\": {\"outlinewidth\": 0, \"ticks\": \"\"}, \"type\": \"contourcarpet\"}], \"heatmap\": [{\"colorbar\": {\"outlinewidth\": 0, \"ticks\": \"\"}, \"colorscale\": [[0.0, \"#0d0887\"], [0.1111111111111111, \"#46039f\"], [0.2222222222222222, \"#7201a8\"], [0.3333333333333333, \"#9c179e\"], [0.4444444444444444, \"#bd3786\"], [0.5555555555555556, \"#d8576b\"], [0.6666666666666666, \"#ed7953\"], [0.7777777777777778, \"#fb9f3a\"], [0.8888888888888888, \"#fdca26\"], [1.0, \"#f0f921\"]], \"type\": \"heatmap\"}], \"heatmapgl\": [{\"colorbar\": {\"outlinewidth\": 0, \"ticks\": \"\"}, \"colorscale\": [[0.0, \"#0d0887\"], [0.1111111111111111, \"#46039f\"], [0.2222222222222222, \"#7201a8\"], [0.3333333333333333, \"#9c179e\"], [0.4444444444444444, \"#bd3786\"], [0.5555555555555556, \"#d8576b\"], [0.6666666666666666, \"#ed7953\"], [0.7777777777777778, \"#fb9f3a\"], [0.8888888888888888, \"#fdca26\"], [1.0, \"#f0f921\"]], \"type\": \"heatmapgl\"}], \"histogram\": [{\"marker\": {\"colorbar\": {\"outlinewidth\": 0, \"ticks\": \"\"}}, \"type\": \"histogram\"}], \"histogram2d\": [{\"colorbar\": {\"outlinewidth\": 0, \"ticks\": \"\"}, \"colorscale\": [[0.0, \"#0d0887\"], [0.1111111111111111, \"#46039f\"], [0.2222222222222222, \"#7201a8\"], [0.3333333333333333, \"#9c179e\"], [0.4444444444444444, \"#bd3786\"], [0.5555555555555556, \"#d8576b\"], [0.6666666666666666, \"#ed7953\"], [0.7777777777777778, \"#fb9f3a\"], [0.8888888888888888, \"#fdca26\"], [1.0, \"#f0f921\"]], \"type\": \"histogram2d\"}], \"histogram2dcontour\": [{\"colorbar\": {\"outlinewidth\": 0, \"ticks\": \"\"}, \"colorscale\": [[0.0, \"#0d0887\"], [0.1111111111111111, \"#46039f\"], [0.2222222222222222, \"#7201a8\"], [0.3333333333333333, \"#9c179e\"], [0.4444444444444444, \"#bd3786\"], [0.5555555555555556, \"#d8576b\"], [0.6666666666666666, \"#ed7953\"], [0.7777777777777778, \"#fb9f3a\"], [0.8888888888888888, \"#fdca26\"], [1.0, \"#f0f921\"]], \"type\": \"histogram2dcontour\"}], \"mesh3d\": [{\"colorbar\": {\"outlinewidth\": 0, \"ticks\": \"\"}, \"type\": \"mesh3d\"}], \"parcoords\": [{\"line\": {\"colorbar\": {\"outlinewidth\": 0, \"ticks\": \"\"}}, \"type\": \"parcoords\"}], \"pie\": [{\"automargin\": true, \"type\": \"pie\"}], \"scatter\": [{\"marker\": {\"colorbar\": {\"outlinewidth\": 0, \"ticks\": \"\"}}, \"type\": \"scatter\"}], \"scatter3d\": [{\"line\": {\"colorbar\": {\"outlinewidth\": 0, \"ticks\": \"\"}}, \"marker\": {\"colorbar\": {\"outlinewidth\": 0, \"ticks\": \"\"}}, \"type\": \"scatter3d\"}], \"scattercarpet\": [{\"marker\": {\"colorbar\": {\"outlinewidth\": 0, \"ticks\": \"\"}}, \"type\": \"scattercarpet\"}], \"scattergeo\": [{\"marker\": {\"colorbar\": {\"outlinewidth\": 0, \"ticks\": \"\"}}, \"type\": \"scattergeo\"}], \"scattergl\": [{\"marker\": {\"colorbar\": {\"outlinewidth\": 0, \"ticks\": \"\"}}, \"type\": \"scattergl\"}], \"scattermapbox\": [{\"marker\": {\"colorbar\": {\"outlinewidth\": 0, \"ticks\": \"\"}}, \"type\": \"scattermapbox\"}], \"scatterpolar\": [{\"marker\": {\"colorbar\": {\"outlinewidth\": 0, \"ticks\": \"\"}}, \"type\": \"scatterpolar\"}], \"scatterpolargl\": [{\"marker\": {\"colorbar\": {\"outlinewidth\": 0, \"ticks\": \"\"}}, \"type\": \"scatterpolargl\"}], \"scatterternary\": [{\"marker\": {\"colorbar\": {\"outlinewidth\": 0, \"ticks\": \"\"}}, \"type\": \"scatterternary\"}], \"surface\": [{\"colorbar\": {\"outlinewidth\": 0, \"ticks\": \"\"}, \"colorscale\": [[0.0, \"#0d0887\"], [0.1111111111111111, \"#46039f\"], [0.2222222222222222, \"#7201a8\"], [0.3333333333333333, \"#9c179e\"], [0.4444444444444444, \"#bd3786\"], [0.5555555555555556, \"#d8576b\"], [0.6666666666666666, \"#ed7953\"], [0.7777777777777778, \"#fb9f3a\"], [0.8888888888888888, \"#fdca26\"], [1.0, \"#f0f921\"]], \"type\": \"surface\"}], \"table\": [{\"cells\": {\"fill\": {\"color\": \"#EBF0F8\"}, \"line\": {\"color\": \"white\"}}, \"header\": {\"fill\": {\"color\": \"#C8D4E3\"}, \"line\": {\"color\": \"white\"}}, \"type\": \"table\"}]}, \"layout\": {\"annotationdefaults\": {\"arrowcolor\": \"#2a3f5f\", \"arrowhead\": 0, \"arrowwidth\": 1}, \"coloraxis\": {\"colorbar\": {\"outlinewidth\": 0, \"ticks\": \"\"}}, \"colorscale\": {\"diverging\": [[0, \"#8e0152\"], [0.1, \"#c51b7d\"], [0.2, \"#de77ae\"], [0.3, \"#f1b6da\"], [0.4, \"#fde0ef\"], [0.5, \"#f7f7f7\"], [0.6, \"#e6f5d0\"], [0.7, \"#b8e186\"], [0.8, \"#7fbc41\"], [0.9, \"#4d9221\"], [1, \"#276419\"]], \"sequential\": [[0.0, \"#0d0887\"], [0.1111111111111111, \"#46039f\"], [0.2222222222222222, \"#7201a8\"], [0.3333333333333333, \"#9c179e\"], [0.4444444444444444, \"#bd3786\"], [0.5555555555555556, \"#d8576b\"], [0.6666666666666666, \"#ed7953\"], [0.7777777777777778, \"#fb9f3a\"], [0.8888888888888888, \"#fdca26\"], [1.0, \"#f0f921\"]], \"sequentialminus\": [[0.0, \"#0d0887\"], [0.1111111111111111, \"#46039f\"], [0.2222222222222222, \"#7201a8\"], [0.3333333333333333, \"#9c179e\"], [0.4444444444444444, \"#bd3786\"], [0.5555555555555556, \"#d8576b\"], [0.6666666666666666, \"#ed7953\"], [0.7777777777777778, \"#fb9f3a\"], [0.8888888888888888, \"#fdca26\"], [1.0, \"#f0f921\"]]}, \"colorway\": [\"#636efa\", \"#EF553B\", \"#00cc96\", \"#ab63fa\", \"#FFA15A\", \"#19d3f3\", \"#FF6692\", \"#B6E880\", \"#FF97FF\", \"#FECB52\"], \"font\": {\"color\": \"#2a3f5f\"}, \"geo\": {\"bgcolor\": \"white\", \"lakecolor\": \"white\", \"landcolor\": \"#E5ECF6\", \"showlakes\": true, \"showland\": true, \"subunitcolor\": \"white\"}, \"hoverlabel\": {\"align\": \"left\"}, \"hovermode\": \"closest\", \"mapbox\": {\"style\": \"light\"}, \"paper_bgcolor\": \"white\", \"plot_bgcolor\": \"#E5ECF6\", \"polar\": {\"angularaxis\": {\"gridcolor\": \"white\", \"linecolor\": \"white\", \"ticks\": \"\"}, \"bgcolor\": \"#E5ECF6\", \"radialaxis\": {\"gridcolor\": \"white\", \"linecolor\": \"white\", \"ticks\": \"\"}}, \"scene\": {\"xaxis\": {\"backgroundcolor\": \"#E5ECF6\", \"gridcolor\": \"white\", \"gridwidth\": 2, \"linecolor\": \"white\", \"showbackground\": true, \"ticks\": \"\", \"zerolinecolor\": \"white\"}, \"yaxis\": {\"backgroundcolor\": \"#E5ECF6\", \"gridcolor\": \"white\", \"gridwidth\": 2, \"linecolor\": \"white\", \"showbackground\": true, \"ticks\": \"\", \"zerolinecolor\": \"white\"}, \"zaxis\": {\"backgroundcolor\": \"#E5ECF6\", \"gridcolor\": \"white\", \"gridwidth\": 2, \"linecolor\": \"white\", \"showbackground\": true, \"ticks\": \"\", \"zerolinecolor\": \"white\"}}, \"shapedefaults\": {\"line\": {\"color\": \"#2a3f5f\"}}, \"ternary\": {\"aaxis\": {\"gridcolor\": \"white\", \"linecolor\": \"white\", \"ticks\": \"\"}, \"baxis\": {\"gridcolor\": \"white\", \"linecolor\": \"white\", \"ticks\": \"\"}, \"bgcolor\": \"#E5ECF6\", \"caxis\": {\"gridcolor\": \"white\", \"linecolor\": \"white\", \"ticks\": \"\"}}, \"title\": {\"x\": 0.05}, \"xaxis\": {\"automargin\": true, \"gridcolor\": \"white\", \"linecolor\": \"white\", \"ticks\": \"\", \"title\": {\"standoff\": 15}, \"zerolinecolor\": \"white\", \"zerolinewidth\": 2}, \"yaxis\": {\"automargin\": true, \"gridcolor\": \"white\", \"linecolor\": \"white\", \"ticks\": \"\", \"title\": {\"standoff\": 15}, \"zerolinecolor\": \"white\", \"zerolinewidth\": 2}}}, \"title\": {\"text\": \"Fallecimientos - Distritos Per\\u00fa\"}, \"xaxis\": {\"title\": {\"text\": \"Indice Desarrollo Humano\"}}, \"yaxis\": {\"title\": {\"text\": \"Incremento Relativo de Fallecimientos (2020-2019) (%)\"}}},\n",
       "                        {\"responsive\": true}\n",
       "                    ).then(function(){\n",
       "                            \n",
       "var gd = document.getElementById('3b297b9a-281b-4b5b-8e96-9f867b1e7878');\n",
       "var x = new MutationObserver(function (mutations, observer) {{\n",
       "        var display = window.getComputedStyle(gd).display;\n",
       "        if (!display || display === 'none') {{\n",
       "            console.log([gd, 'removed!']);\n",
       "            Plotly.purge(gd);\n",
       "            observer.disconnect();\n",
       "        }}\n",
       "}});\n",
       "\n",
       "// Listen for the removal of the full notebook cells\n",
       "var notebookContainer = gd.closest('#notebook-container');\n",
       "if (notebookContainer) {{\n",
       "    x.observe(notebookContainer, {childList: true});\n",
       "}}\n",
       "\n",
       "// Listen for the clearing of the current output cell\n",
       "var outputEl = gd.closest('.output');\n",
       "if (outputEl) {{\n",
       "    x.observe(outputEl, {childList: true});\n",
       "}}\n",
       "\n",
       "                        })\n",
       "                };\n",
       "                });\n",
       "            </script>\n",
       "        </div>"
      ]
     },
     "metadata": {},
     "output_type": "display_data"
    }
   ],
   "source": [
    "traza_idh = Scatter(\n",
    "  x=final_distrito_demo[\"IDH\"],\n",
    "  y=final_distrito_demo[\"Incremento Relativo (2020-2019) (%)\"],\n",
    "  text=final_distrito_demo[\"Distrito\"].astype(str),\n",
    "  textposition=\"top center\",\n",
    "  textfont=dict(\n",
    "                color=\"black\",\n",
    "                size=10\n",
    "            ),\n",
    "  mode='markers+text'\n",
    ")\n",
    "\n",
    "fig = go.Figure(data=traza_idh)\n",
    "fig.update_layout(\n",
    "    title=\"Fallecimientos - Distritos Perú\",\n",
    "    xaxis_title=\"Indice Desarrollo Humano\",\n",
    "    yaxis_title=\"Incremento Relativo de Fallecimientos (2020-2019) (%)\",\n",
    "    legend_title=\"Año\"\n",
    ")\n",
    "\n",
    "fig.show()"
   ]
  },
  {
   "cell_type": "markdown",
   "metadata": {},
   "source": [
    "Para realizar un análisis más profundo podríamos utilizar variables que componen el IDH como son: **la esperanza de vida al nacer, ingreso familiar per cápita, % de individuos con educación secundaria completada y los años de educación**.\n",
    "Para no representar todas las variables, realizaremos una selección de estas basadas en el **coeficiente de correlación de Pearson**. <br>"
   ]
  },
  {
   "cell_type": "markdown",
   "metadata": {},
   "source": [
    "### Coeficiente de Correlación de Pearson\n",
    "Este coeficiente toma valores de -1 a 1 y nos permitirá medir el grado de relación lineal entre dos variables:\n",
    "- ρ = -1          Correlación perfecta negativa \n",
    "- ρ = 0           No existe correlación\n",
    "- ρ = 1         Correlación perfecta positiva"
   ]
  },
  {
   "cell_type": "markdown",
   "metadata": {},
   "source": [
    "La matriz de correlaciones inferior podremos seleccionar las variables que más correlan negativamente con el Incremento Relativo (2020-2019) (%) son: \n",
    "- **IDH** (-0.60)\n",
    "- **Ingreso Familiar Per Cápita** (-0.60)\n",
    "- **Años Educación**  (-0.70)\n",
    "\n",
    "Como la primera ya la hemos analizado, revisaremos las dos siguientes (Ingreso Familiar Per Cápita y Años Educación)"
   ]
  },
  {
   "cell_type": "code",
   "execution_count": 108,
   "metadata": {},
   "outputs": [
    {
     "data": {
      "text/html": [
       "<div>\n",
       "<style scoped>\n",
       "    .dataframe tbody tr th:only-of-type {\n",
       "        vertical-align: middle;\n",
       "    }\n",
       "\n",
       "    .dataframe tbody tr th {\n",
       "        vertical-align: top;\n",
       "    }\n",
       "\n",
       "    .dataframe thead th {\n",
       "        text-align: right;\n",
       "    }\n",
       "</style>\n",
       "<table border=\"1\" class=\"dataframe\">\n",
       "  <thead>\n",
       "    <tr style=\"text-align: right;\">\n",
       "      <th></th>\n",
       "      <th>Incremento Relativo (2020-2019) (%)</th>\n",
       "      <th>IDH</th>\n",
       "      <th>Esperanza de Vida</th>\n",
       "      <th>Porcentaje Secundaria Completa</th>\n",
       "      <th>Años Educación</th>\n",
       "      <th>Ingreso Familiar Per Cápita</th>\n",
       "    </tr>\n",
       "  </thead>\n",
       "  <tbody>\n",
       "    <tr>\n",
       "      <th>Incremento Relativo (2020-2019) (%)</th>\n",
       "      <td>1.000000</td>\n",
       "      <td>-0.603682</td>\n",
       "      <td>-0.165562</td>\n",
       "      <td>-0.388452</td>\n",
       "      <td>-0.696191</td>\n",
       "      <td>-0.595787</td>\n",
       "    </tr>\n",
       "    <tr>\n",
       "      <th>IDH</th>\n",
       "      <td>-0.603682</td>\n",
       "      <td>1.000000</td>\n",
       "      <td>0.714813</td>\n",
       "      <td>0.866026</td>\n",
       "      <td>0.939274</td>\n",
       "      <td>0.984573</td>\n",
       "    </tr>\n",
       "    <tr>\n",
       "      <th>Esperanza de Vida</th>\n",
       "      <td>-0.165562</td>\n",
       "      <td>0.714813</td>\n",
       "      <td>1.000000</td>\n",
       "      <td>0.822537</td>\n",
       "      <td>0.574881</td>\n",
       "      <td>0.651860</td>\n",
       "    </tr>\n",
       "    <tr>\n",
       "      <th>Porcentaje Secundaria Completa</th>\n",
       "      <td>-0.388452</td>\n",
       "      <td>0.866026</td>\n",
       "      <td>0.822537</td>\n",
       "      <td>1.000000</td>\n",
       "      <td>0.735810</td>\n",
       "      <td>0.824740</td>\n",
       "    </tr>\n",
       "    <tr>\n",
       "      <th>Años Educación</th>\n",
       "      <td>-0.696191</td>\n",
       "      <td>0.939274</td>\n",
       "      <td>0.574881</td>\n",
       "      <td>0.735810</td>\n",
       "      <td>1.000000</td>\n",
       "      <td>0.890448</td>\n",
       "    </tr>\n",
       "    <tr>\n",
       "      <th>Ingreso Familiar Per Cápita</th>\n",
       "      <td>-0.595787</td>\n",
       "      <td>0.984573</td>\n",
       "      <td>0.651860</td>\n",
       "      <td>0.824740</td>\n",
       "      <td>0.890448</td>\n",
       "      <td>1.000000</td>\n",
       "    </tr>\n",
       "  </tbody>\n",
       "</table>\n",
       "</div>"
      ],
      "text/plain": [
       "                                     Incremento Relativo (2020-2019) (%)  \\\n",
       "Incremento Relativo (2020-2019) (%)                             1.000000   \n",
       "IDH                                                            -0.603682   \n",
       "Esperanza de Vida                                              -0.165562   \n",
       "Porcentaje Secundaria Completa                                 -0.388452   \n",
       "Años Educación                                                 -0.696191   \n",
       "Ingreso Familiar Per Cápita                                    -0.595787   \n",
       "\n",
       "                                          IDH  Esperanza de Vida  \\\n",
       "Incremento Relativo (2020-2019) (%) -0.603682          -0.165562   \n",
       "IDH                                  1.000000           0.714813   \n",
       "Esperanza de Vida                    0.714813           1.000000   \n",
       "Porcentaje Secundaria Completa       0.866026           0.822537   \n",
       "Años Educación                       0.939274           0.574881   \n",
       "Ingreso Familiar Per Cápita          0.984573           0.651860   \n",
       "\n",
       "                                     Porcentaje Secundaria Completa  \\\n",
       "Incremento Relativo (2020-2019) (%)                       -0.388452   \n",
       "IDH                                                        0.866026   \n",
       "Esperanza de Vida                                          0.822537   \n",
       "Porcentaje Secundaria Completa                             1.000000   \n",
       "Años Educación                                             0.735810   \n",
       "Ingreso Familiar Per Cápita                                0.824740   \n",
       "\n",
       "                                     Años Educación  \\\n",
       "Incremento Relativo (2020-2019) (%)       -0.696191   \n",
       "IDH                                        0.939274   \n",
       "Esperanza de Vida                          0.574881   \n",
       "Porcentaje Secundaria Completa             0.735810   \n",
       "Años Educación                             1.000000   \n",
       "Ingreso Familiar Per Cápita                0.890448   \n",
       "\n",
       "                                     Ingreso Familiar Per Cápita  \n",
       "Incremento Relativo (2020-2019) (%)                    -0.595787  \n",
       "IDH                                                     0.984573  \n",
       "Esperanza de Vida                                       0.651860  \n",
       "Porcentaje Secundaria Completa                          0.824740  \n",
       "Años Educación                                          0.890448  \n",
       "Ingreso Familiar Per Cápita                             1.000000  "
      ]
     },
     "execution_count": 108,
     "metadata": {},
     "output_type": "execute_result"
    }
   ],
   "source": [
    "corr_columns = [\"Incremento Relativo (2020-2019) (%)\", \"IDH\",\"Esperanza de Vida\",\n",
    "                \"Porcentaje Secundaria Completa\",\"Años Educación\", \n",
    "                \"Ingreso Familiar Per Cápita\"]\n",
    "final_distrito_demo[corr_columns].corr(method='pearson')"
   ]
  },
  {
   "cell_type": "markdown",
   "metadata": {},
   "source": [
    "**Si comparamos el ingreso familiar per cápita y el incremento relativo de fallecidos (2020-2019) en el periodo COVID, podemos ver que por lo general a mayor ingreso familiar per cápita, menor incremento relativo de fallecidos en el distrito.\n",
    "Sin embargo, nuevamente, distritos como: Cieneguilla, Pucusana, Pachacamac, Santa Rosa y Lurigancho nos vuelven a llamar la atención ya que teniendo ingresos bastante bajos no tienen un incremento tan alto.** <br>\n",
    "Un dato curioso que encontramos en el informe es que el ingreso per cápita de San Isidro es de 1.641 soles mensuales quedando bastante lejos de San Borja, Miraflores, La Molina, Lince..."
   ]
  },
  {
   "cell_type": "code",
   "execution_count": 64,
   "metadata": {},
   "outputs": [
    {
     "data": {
      "application/vnd.plotly.v1+json": {
       "config": {
        "plotlyServerURL": "https://plot.ly"
       },
       "data": [
        {
         "mode": "markers+text",
         "text": [
          "SAN JUAN DE LURIGANCHO",
          "ANCON",
          "COMAS",
          "LURIN",
          "VILLA EL SALVADOR",
          "EL AGUSTINO",
          "ATE",
          "SANTA ANITA",
          "VILLA MARIA DEL TRIUNFO",
          "SAN JUAN DE MIRAFLORES",
          "LOS OLIVOS",
          "SAN MARTIN DE PORRES",
          "INDEPENDENCIA",
          "CHORRILLOS",
          "CARABAYLLO",
          "LA VICTORIA",
          "PUENTE PIEDRA",
          "RIMAC",
          "LIMA",
          "PACHACAMAC",
          "PUCUSANA",
          "SANTA ROSA",
          "CHACLACAYO",
          "LURIGANCHO",
          "BARRANCO",
          "SANTIAGO DE SURCO",
          "SURQUILLO",
          "SAN LUIS",
          "LA MOLINA",
          "BREÑA",
          "PUEBLO LIBRE",
          "LINCE",
          "CIENEGUILLA",
          "SAN MIGUEL",
          "JESUS MARIA",
          "MAGDALENA DEL MAR",
          "SAN BORJA",
          "MIRAFLORES",
          "SAN ISIDRO"
         ],
         "textfont": {
          "color": "black",
          "size": 10
         },
         "textposition": "top center",
         "type": "scatter",
         "x": [
          1464.7,
          1393,
          1458.3,
          1476.8,
          1432.5,
          1428.9,
          1425.4,
          1571.8,
          1409.8,
          1551.1,
          1628.6,
          1554.7,
          1443.3,
          1662.8,
          1246.5,
          1482.5,
          1289.5,
          1559,
          1633.8,
          1279.2,
          1062.3,
          1349.6,
          1539.8,
          1376,
          1956.6,
          1766.1,
          1940.5,
          1769.7,
          1939.5,
          1868.7,
          1936.2,
          2037.3,
          1265,
          1966.6,
          1989.8,
          1986.3,
          1867.9,
          1925.8,
          1641.7
         ],
         "y": [
          460.37991858887375,
          455.88235294117646,
          434.7732181425486,
          391.66666666666663,
          383.1134564643799,
          354.6938775510204,
          350.4761904761905,
          348.8479262672811,
          343.4666666666667,
          338.36633663366337,
          338.2838283828383,
          335.1824817518248,
          332,
          331.0810810810811,
          317.6470588235294,
          308.9430894308943,
          296.9298245614035,
          290.5084745762712,
          268.0821917808219,
          255.73770491803282,
          253.84615384615384,
          223.0769230769231,
          210.3448275862069,
          198.21428571428572,
          195.65217391304347,
          190.59633027522935,
          189.937106918239,
          185,
          179.88165680473372,
          173.70689655172413,
          163.12849162011173,
          156.64739884393063,
          147.61904761904762,
          145.41984732824426,
          136.0655737704918,
          121.27659574468086,
          117.07317073170731,
          95.19999999999999,
          90.84967320261438
         ]
        }
       ],
       "layout": {
        "legend": {
         "title": {
          "text": "Año"
         }
        },
        "template": {
         "data": {
          "bar": [
           {
            "error_x": {
             "color": "#2a3f5f"
            },
            "error_y": {
             "color": "#2a3f5f"
            },
            "marker": {
             "line": {
              "color": "#E5ECF6",
              "width": 0.5
             }
            },
            "type": "bar"
           }
          ],
          "barpolar": [
           {
            "marker": {
             "line": {
              "color": "#E5ECF6",
              "width": 0.5
             }
            },
            "type": "barpolar"
           }
          ],
          "carpet": [
           {
            "aaxis": {
             "endlinecolor": "#2a3f5f",
             "gridcolor": "white",
             "linecolor": "white",
             "minorgridcolor": "white",
             "startlinecolor": "#2a3f5f"
            },
            "baxis": {
             "endlinecolor": "#2a3f5f",
             "gridcolor": "white",
             "linecolor": "white",
             "minorgridcolor": "white",
             "startlinecolor": "#2a3f5f"
            },
            "type": "carpet"
           }
          ],
          "choropleth": [
           {
            "colorbar": {
             "outlinewidth": 0,
             "ticks": ""
            },
            "type": "choropleth"
           }
          ],
          "contour": [
           {
            "colorbar": {
             "outlinewidth": 0,
             "ticks": ""
            },
            "colorscale": [
             [
              0,
              "#0d0887"
             ],
             [
              0.1111111111111111,
              "#46039f"
             ],
             [
              0.2222222222222222,
              "#7201a8"
             ],
             [
              0.3333333333333333,
              "#9c179e"
             ],
             [
              0.4444444444444444,
              "#bd3786"
             ],
             [
              0.5555555555555556,
              "#d8576b"
             ],
             [
              0.6666666666666666,
              "#ed7953"
             ],
             [
              0.7777777777777778,
              "#fb9f3a"
             ],
             [
              0.8888888888888888,
              "#fdca26"
             ],
             [
              1,
              "#f0f921"
             ]
            ],
            "type": "contour"
           }
          ],
          "contourcarpet": [
           {
            "colorbar": {
             "outlinewidth": 0,
             "ticks": ""
            },
            "type": "contourcarpet"
           }
          ],
          "heatmap": [
           {
            "colorbar": {
             "outlinewidth": 0,
             "ticks": ""
            },
            "colorscale": [
             [
              0,
              "#0d0887"
             ],
             [
              0.1111111111111111,
              "#46039f"
             ],
             [
              0.2222222222222222,
              "#7201a8"
             ],
             [
              0.3333333333333333,
              "#9c179e"
             ],
             [
              0.4444444444444444,
              "#bd3786"
             ],
             [
              0.5555555555555556,
              "#d8576b"
             ],
             [
              0.6666666666666666,
              "#ed7953"
             ],
             [
              0.7777777777777778,
              "#fb9f3a"
             ],
             [
              0.8888888888888888,
              "#fdca26"
             ],
             [
              1,
              "#f0f921"
             ]
            ],
            "type": "heatmap"
           }
          ],
          "heatmapgl": [
           {
            "colorbar": {
             "outlinewidth": 0,
             "ticks": ""
            },
            "colorscale": [
             [
              0,
              "#0d0887"
             ],
             [
              0.1111111111111111,
              "#46039f"
             ],
             [
              0.2222222222222222,
              "#7201a8"
             ],
             [
              0.3333333333333333,
              "#9c179e"
             ],
             [
              0.4444444444444444,
              "#bd3786"
             ],
             [
              0.5555555555555556,
              "#d8576b"
             ],
             [
              0.6666666666666666,
              "#ed7953"
             ],
             [
              0.7777777777777778,
              "#fb9f3a"
             ],
             [
              0.8888888888888888,
              "#fdca26"
             ],
             [
              1,
              "#f0f921"
             ]
            ],
            "type": "heatmapgl"
           }
          ],
          "histogram": [
           {
            "marker": {
             "colorbar": {
              "outlinewidth": 0,
              "ticks": ""
             }
            },
            "type": "histogram"
           }
          ],
          "histogram2d": [
           {
            "colorbar": {
             "outlinewidth": 0,
             "ticks": ""
            },
            "colorscale": [
             [
              0,
              "#0d0887"
             ],
             [
              0.1111111111111111,
              "#46039f"
             ],
             [
              0.2222222222222222,
              "#7201a8"
             ],
             [
              0.3333333333333333,
              "#9c179e"
             ],
             [
              0.4444444444444444,
              "#bd3786"
             ],
             [
              0.5555555555555556,
              "#d8576b"
             ],
             [
              0.6666666666666666,
              "#ed7953"
             ],
             [
              0.7777777777777778,
              "#fb9f3a"
             ],
             [
              0.8888888888888888,
              "#fdca26"
             ],
             [
              1,
              "#f0f921"
             ]
            ],
            "type": "histogram2d"
           }
          ],
          "histogram2dcontour": [
           {
            "colorbar": {
             "outlinewidth": 0,
             "ticks": ""
            },
            "colorscale": [
             [
              0,
              "#0d0887"
             ],
             [
              0.1111111111111111,
              "#46039f"
             ],
             [
              0.2222222222222222,
              "#7201a8"
             ],
             [
              0.3333333333333333,
              "#9c179e"
             ],
             [
              0.4444444444444444,
              "#bd3786"
             ],
             [
              0.5555555555555556,
              "#d8576b"
             ],
             [
              0.6666666666666666,
              "#ed7953"
             ],
             [
              0.7777777777777778,
              "#fb9f3a"
             ],
             [
              0.8888888888888888,
              "#fdca26"
             ],
             [
              1,
              "#f0f921"
             ]
            ],
            "type": "histogram2dcontour"
           }
          ],
          "mesh3d": [
           {
            "colorbar": {
             "outlinewidth": 0,
             "ticks": ""
            },
            "type": "mesh3d"
           }
          ],
          "parcoords": [
           {
            "line": {
             "colorbar": {
              "outlinewidth": 0,
              "ticks": ""
             }
            },
            "type": "parcoords"
           }
          ],
          "pie": [
           {
            "automargin": true,
            "type": "pie"
           }
          ],
          "scatter": [
           {
            "marker": {
             "colorbar": {
              "outlinewidth": 0,
              "ticks": ""
             }
            },
            "type": "scatter"
           }
          ],
          "scatter3d": [
           {
            "line": {
             "colorbar": {
              "outlinewidth": 0,
              "ticks": ""
             }
            },
            "marker": {
             "colorbar": {
              "outlinewidth": 0,
              "ticks": ""
             }
            },
            "type": "scatter3d"
           }
          ],
          "scattercarpet": [
           {
            "marker": {
             "colorbar": {
              "outlinewidth": 0,
              "ticks": ""
             }
            },
            "type": "scattercarpet"
           }
          ],
          "scattergeo": [
           {
            "marker": {
             "colorbar": {
              "outlinewidth": 0,
              "ticks": ""
             }
            },
            "type": "scattergeo"
           }
          ],
          "scattergl": [
           {
            "marker": {
             "colorbar": {
              "outlinewidth": 0,
              "ticks": ""
             }
            },
            "type": "scattergl"
           }
          ],
          "scattermapbox": [
           {
            "marker": {
             "colorbar": {
              "outlinewidth": 0,
              "ticks": ""
             }
            },
            "type": "scattermapbox"
           }
          ],
          "scatterpolar": [
           {
            "marker": {
             "colorbar": {
              "outlinewidth": 0,
              "ticks": ""
             }
            },
            "type": "scatterpolar"
           }
          ],
          "scatterpolargl": [
           {
            "marker": {
             "colorbar": {
              "outlinewidth": 0,
              "ticks": ""
             }
            },
            "type": "scatterpolargl"
           }
          ],
          "scatterternary": [
           {
            "marker": {
             "colorbar": {
              "outlinewidth": 0,
              "ticks": ""
             }
            },
            "type": "scatterternary"
           }
          ],
          "surface": [
           {
            "colorbar": {
             "outlinewidth": 0,
             "ticks": ""
            },
            "colorscale": [
             [
              0,
              "#0d0887"
             ],
             [
              0.1111111111111111,
              "#46039f"
             ],
             [
              0.2222222222222222,
              "#7201a8"
             ],
             [
              0.3333333333333333,
              "#9c179e"
             ],
             [
              0.4444444444444444,
              "#bd3786"
             ],
             [
              0.5555555555555556,
              "#d8576b"
             ],
             [
              0.6666666666666666,
              "#ed7953"
             ],
             [
              0.7777777777777778,
              "#fb9f3a"
             ],
             [
              0.8888888888888888,
              "#fdca26"
             ],
             [
              1,
              "#f0f921"
             ]
            ],
            "type": "surface"
           }
          ],
          "table": [
           {
            "cells": {
             "fill": {
              "color": "#EBF0F8"
             },
             "line": {
              "color": "white"
             }
            },
            "header": {
             "fill": {
              "color": "#C8D4E3"
             },
             "line": {
              "color": "white"
             }
            },
            "type": "table"
           }
          ]
         },
         "layout": {
          "annotationdefaults": {
           "arrowcolor": "#2a3f5f",
           "arrowhead": 0,
           "arrowwidth": 1
          },
          "coloraxis": {
           "colorbar": {
            "outlinewidth": 0,
            "ticks": ""
           }
          },
          "colorscale": {
           "diverging": [
            [
             0,
             "#8e0152"
            ],
            [
             0.1,
             "#c51b7d"
            ],
            [
             0.2,
             "#de77ae"
            ],
            [
             0.3,
             "#f1b6da"
            ],
            [
             0.4,
             "#fde0ef"
            ],
            [
             0.5,
             "#f7f7f7"
            ],
            [
             0.6,
             "#e6f5d0"
            ],
            [
             0.7,
             "#b8e186"
            ],
            [
             0.8,
             "#7fbc41"
            ],
            [
             0.9,
             "#4d9221"
            ],
            [
             1,
             "#276419"
            ]
           ],
           "sequential": [
            [
             0,
             "#0d0887"
            ],
            [
             0.1111111111111111,
             "#46039f"
            ],
            [
             0.2222222222222222,
             "#7201a8"
            ],
            [
             0.3333333333333333,
             "#9c179e"
            ],
            [
             0.4444444444444444,
             "#bd3786"
            ],
            [
             0.5555555555555556,
             "#d8576b"
            ],
            [
             0.6666666666666666,
             "#ed7953"
            ],
            [
             0.7777777777777778,
             "#fb9f3a"
            ],
            [
             0.8888888888888888,
             "#fdca26"
            ],
            [
             1,
             "#f0f921"
            ]
           ],
           "sequentialminus": [
            [
             0,
             "#0d0887"
            ],
            [
             0.1111111111111111,
             "#46039f"
            ],
            [
             0.2222222222222222,
             "#7201a8"
            ],
            [
             0.3333333333333333,
             "#9c179e"
            ],
            [
             0.4444444444444444,
             "#bd3786"
            ],
            [
             0.5555555555555556,
             "#d8576b"
            ],
            [
             0.6666666666666666,
             "#ed7953"
            ],
            [
             0.7777777777777778,
             "#fb9f3a"
            ],
            [
             0.8888888888888888,
             "#fdca26"
            ],
            [
             1,
             "#f0f921"
            ]
           ]
          },
          "colorway": [
           "#636efa",
           "#EF553B",
           "#00cc96",
           "#ab63fa",
           "#FFA15A",
           "#19d3f3",
           "#FF6692",
           "#B6E880",
           "#FF97FF",
           "#FECB52"
          ],
          "font": {
           "color": "#2a3f5f"
          },
          "geo": {
           "bgcolor": "white",
           "lakecolor": "white",
           "landcolor": "#E5ECF6",
           "showlakes": true,
           "showland": true,
           "subunitcolor": "white"
          },
          "hoverlabel": {
           "align": "left"
          },
          "hovermode": "closest",
          "mapbox": {
           "style": "light"
          },
          "paper_bgcolor": "white",
          "plot_bgcolor": "#E5ECF6",
          "polar": {
           "angularaxis": {
            "gridcolor": "white",
            "linecolor": "white",
            "ticks": ""
           },
           "bgcolor": "#E5ECF6",
           "radialaxis": {
            "gridcolor": "white",
            "linecolor": "white",
            "ticks": ""
           }
          },
          "scene": {
           "xaxis": {
            "backgroundcolor": "#E5ECF6",
            "gridcolor": "white",
            "gridwidth": 2,
            "linecolor": "white",
            "showbackground": true,
            "ticks": "",
            "zerolinecolor": "white"
           },
           "yaxis": {
            "backgroundcolor": "#E5ECF6",
            "gridcolor": "white",
            "gridwidth": 2,
            "linecolor": "white",
            "showbackground": true,
            "ticks": "",
            "zerolinecolor": "white"
           },
           "zaxis": {
            "backgroundcolor": "#E5ECF6",
            "gridcolor": "white",
            "gridwidth": 2,
            "linecolor": "white",
            "showbackground": true,
            "ticks": "",
            "zerolinecolor": "white"
           }
          },
          "shapedefaults": {
           "line": {
            "color": "#2a3f5f"
           }
          },
          "ternary": {
           "aaxis": {
            "gridcolor": "white",
            "linecolor": "white",
            "ticks": ""
           },
           "baxis": {
            "gridcolor": "white",
            "linecolor": "white",
            "ticks": ""
           },
           "bgcolor": "#E5ECF6",
           "caxis": {
            "gridcolor": "white",
            "linecolor": "white",
            "ticks": ""
           }
          },
          "title": {
           "x": 0.05
          },
          "xaxis": {
           "automargin": true,
           "gridcolor": "white",
           "linecolor": "white",
           "ticks": "",
           "title": {
            "standoff": 15
           },
           "zerolinecolor": "white",
           "zerolinewidth": 2
          },
          "yaxis": {
           "automargin": true,
           "gridcolor": "white",
           "linecolor": "white",
           "ticks": "",
           "title": {
            "standoff": 15
           },
           "zerolinecolor": "white",
           "zerolinewidth": 2
          }
         }
        },
        "title": {
         "text": "Fallecimientos - Distritos Perú"
        },
        "xaxis": {
         "title": {
          "text": "Ingreso Familiar Per Cápita (N.S. mes)"
         }
        },
        "yaxis": {
         "title": {
          "text": "Incremento Relativo de Fallecimientos (2020-2019) (%)"
         }
        }
       }
      },
      "text/html": [
       "<div>\n",
       "        \n",
       "        \n",
       "            <div id=\"99cf155b-7cf7-4dc6-b7d7-3995165eac4c\" class=\"plotly-graph-div\" style=\"height:525px; width:100%;\"></div>\n",
       "            <script type=\"text/javascript\">\n",
       "                require([\"plotly\"], function(Plotly) {\n",
       "                    window.PLOTLYENV=window.PLOTLYENV || {};\n",
       "                    \n",
       "                if (document.getElementById(\"99cf155b-7cf7-4dc6-b7d7-3995165eac4c\")) {\n",
       "                    Plotly.newPlot(\n",
       "                        '99cf155b-7cf7-4dc6-b7d7-3995165eac4c',\n",
       "                        [{\"mode\": \"markers+text\", \"text\": [\"SAN JUAN DE LURIGANCHO\", \"ANCON\", \"COMAS\", \"LURIN\", \"VILLA EL SALVADOR\", \"EL AGUSTINO\", \"ATE\", \"SANTA ANITA\", \"VILLA MARIA DEL TRIUNFO\", \"SAN JUAN DE MIRAFLORES\", \"LOS OLIVOS\", \"SAN MARTIN DE PORRES\", \"INDEPENDENCIA\", \"CHORRILLOS\", \"CARABAYLLO\", \"LA VICTORIA\", \"PUENTE PIEDRA\", \"RIMAC\", \"LIMA\", \"PACHACAMAC\", \"PUCUSANA\", \"SANTA ROSA\", \"CHACLACAYO\", \"LURIGANCHO\", \"BARRANCO\", \"SANTIAGO DE SURCO\", \"SURQUILLO\", \"SAN LUIS\", \"LA MOLINA\", \"BRE\\u00d1A\", \"PUEBLO LIBRE\", \"LINCE\", \"CIENEGUILLA\", \"SAN MIGUEL\", \"JESUS MARIA\", \"MAGDALENA DEL MAR\", \"SAN BORJA\", \"MIRAFLORES\", \"SAN ISIDRO\"], \"textfont\": {\"color\": \"black\", \"size\": 10}, \"textposition\": \"top center\", \"type\": \"scatter\", \"x\": [1464.7, 1393.0, 1458.3, 1476.8, 1432.5, 1428.9, 1425.4, 1571.8, 1409.8, 1551.1, 1628.6, 1554.7, 1443.3, 1662.8, 1246.5, 1482.5, 1289.5, 1559.0, 1633.8, 1279.2, 1062.3, 1349.6, 1539.8, 1376.0, 1956.6, 1766.1, 1940.5, 1769.7, 1939.5, 1868.7, 1936.2, 2037.3, 1265.0, 1966.6, 1989.8, 1986.3, 1867.9, 1925.8, 1641.7], \"y\": [460.37991858887375, 455.88235294117646, 434.7732181425486, 391.66666666666663, 383.1134564643799, 354.6938775510204, 350.4761904761905, 348.8479262672811, 343.4666666666667, 338.36633663366337, 338.2838283828383, 335.1824817518248, 332.0, 331.0810810810811, 317.6470588235294, 308.9430894308943, 296.9298245614035, 290.5084745762712, 268.0821917808219, 255.73770491803282, 253.84615384615384, 223.0769230769231, 210.3448275862069, 198.21428571428572, 195.65217391304347, 190.59633027522935, 189.937106918239, 185.0, 179.88165680473372, 173.70689655172413, 163.12849162011173, 156.64739884393063, 147.61904761904762, 145.41984732824426, 136.0655737704918, 121.27659574468086, 117.07317073170731, 95.19999999999999, 90.84967320261438]}],\n",
       "                        {\"legend\": {\"title\": {\"text\": \"A\\u00f1o\"}}, \"template\": {\"data\": {\"bar\": [{\"error_x\": {\"color\": \"#2a3f5f\"}, \"error_y\": {\"color\": \"#2a3f5f\"}, \"marker\": {\"line\": {\"color\": \"#E5ECF6\", \"width\": 0.5}}, \"type\": \"bar\"}], \"barpolar\": [{\"marker\": {\"line\": {\"color\": \"#E5ECF6\", \"width\": 0.5}}, \"type\": \"barpolar\"}], \"carpet\": [{\"aaxis\": {\"endlinecolor\": \"#2a3f5f\", \"gridcolor\": \"white\", \"linecolor\": \"white\", \"minorgridcolor\": \"white\", \"startlinecolor\": \"#2a3f5f\"}, \"baxis\": {\"endlinecolor\": \"#2a3f5f\", \"gridcolor\": \"white\", \"linecolor\": \"white\", \"minorgridcolor\": \"white\", \"startlinecolor\": \"#2a3f5f\"}, \"type\": \"carpet\"}], \"choropleth\": [{\"colorbar\": {\"outlinewidth\": 0, \"ticks\": \"\"}, \"type\": \"choropleth\"}], \"contour\": [{\"colorbar\": {\"outlinewidth\": 0, \"ticks\": \"\"}, \"colorscale\": [[0.0, \"#0d0887\"], [0.1111111111111111, \"#46039f\"], [0.2222222222222222, \"#7201a8\"], [0.3333333333333333, \"#9c179e\"], [0.4444444444444444, \"#bd3786\"], [0.5555555555555556, \"#d8576b\"], [0.6666666666666666, \"#ed7953\"], [0.7777777777777778, \"#fb9f3a\"], [0.8888888888888888, \"#fdca26\"], [1.0, \"#f0f921\"]], \"type\": \"contour\"}], \"contourcarpet\": [{\"colorbar\": {\"outlinewidth\": 0, \"ticks\": \"\"}, \"type\": \"contourcarpet\"}], \"heatmap\": [{\"colorbar\": {\"outlinewidth\": 0, \"ticks\": \"\"}, \"colorscale\": [[0.0, \"#0d0887\"], [0.1111111111111111, \"#46039f\"], [0.2222222222222222, \"#7201a8\"], [0.3333333333333333, \"#9c179e\"], [0.4444444444444444, \"#bd3786\"], [0.5555555555555556, \"#d8576b\"], [0.6666666666666666, \"#ed7953\"], [0.7777777777777778, \"#fb9f3a\"], [0.8888888888888888, \"#fdca26\"], [1.0, \"#f0f921\"]], \"type\": \"heatmap\"}], \"heatmapgl\": [{\"colorbar\": {\"outlinewidth\": 0, \"ticks\": \"\"}, \"colorscale\": [[0.0, \"#0d0887\"], [0.1111111111111111, \"#46039f\"], [0.2222222222222222, \"#7201a8\"], [0.3333333333333333, \"#9c179e\"], [0.4444444444444444, \"#bd3786\"], [0.5555555555555556, \"#d8576b\"], [0.6666666666666666, \"#ed7953\"], [0.7777777777777778, \"#fb9f3a\"], [0.8888888888888888, \"#fdca26\"], [1.0, \"#f0f921\"]], \"type\": \"heatmapgl\"}], \"histogram\": [{\"marker\": {\"colorbar\": {\"outlinewidth\": 0, \"ticks\": \"\"}}, \"type\": \"histogram\"}], \"histogram2d\": [{\"colorbar\": {\"outlinewidth\": 0, \"ticks\": \"\"}, \"colorscale\": [[0.0, \"#0d0887\"], [0.1111111111111111, \"#46039f\"], [0.2222222222222222, \"#7201a8\"], [0.3333333333333333, \"#9c179e\"], [0.4444444444444444, \"#bd3786\"], [0.5555555555555556, \"#d8576b\"], [0.6666666666666666, \"#ed7953\"], [0.7777777777777778, \"#fb9f3a\"], [0.8888888888888888, \"#fdca26\"], [1.0, \"#f0f921\"]], \"type\": \"histogram2d\"}], \"histogram2dcontour\": [{\"colorbar\": {\"outlinewidth\": 0, \"ticks\": \"\"}, \"colorscale\": [[0.0, \"#0d0887\"], [0.1111111111111111, \"#46039f\"], [0.2222222222222222, \"#7201a8\"], [0.3333333333333333, \"#9c179e\"], [0.4444444444444444, \"#bd3786\"], [0.5555555555555556, \"#d8576b\"], [0.6666666666666666, \"#ed7953\"], [0.7777777777777778, \"#fb9f3a\"], [0.8888888888888888, \"#fdca26\"], [1.0, \"#f0f921\"]], \"type\": \"histogram2dcontour\"}], \"mesh3d\": [{\"colorbar\": {\"outlinewidth\": 0, \"ticks\": \"\"}, \"type\": \"mesh3d\"}], \"parcoords\": [{\"line\": {\"colorbar\": {\"outlinewidth\": 0, \"ticks\": \"\"}}, \"type\": \"parcoords\"}], \"pie\": [{\"automargin\": true, \"type\": \"pie\"}], \"scatter\": [{\"marker\": {\"colorbar\": {\"outlinewidth\": 0, \"ticks\": \"\"}}, \"type\": \"scatter\"}], \"scatter3d\": [{\"line\": {\"colorbar\": {\"outlinewidth\": 0, \"ticks\": \"\"}}, \"marker\": {\"colorbar\": {\"outlinewidth\": 0, \"ticks\": \"\"}}, \"type\": \"scatter3d\"}], \"scattercarpet\": [{\"marker\": {\"colorbar\": {\"outlinewidth\": 0, \"ticks\": \"\"}}, \"type\": \"scattercarpet\"}], \"scattergeo\": [{\"marker\": {\"colorbar\": {\"outlinewidth\": 0, \"ticks\": \"\"}}, \"type\": \"scattergeo\"}], \"scattergl\": [{\"marker\": {\"colorbar\": {\"outlinewidth\": 0, \"ticks\": \"\"}}, \"type\": \"scattergl\"}], \"scattermapbox\": [{\"marker\": {\"colorbar\": {\"outlinewidth\": 0, \"ticks\": \"\"}}, \"type\": \"scattermapbox\"}], \"scatterpolar\": [{\"marker\": {\"colorbar\": {\"outlinewidth\": 0, \"ticks\": \"\"}}, \"type\": \"scatterpolar\"}], \"scatterpolargl\": [{\"marker\": {\"colorbar\": {\"outlinewidth\": 0, \"ticks\": \"\"}}, \"type\": \"scatterpolargl\"}], \"scatterternary\": [{\"marker\": {\"colorbar\": {\"outlinewidth\": 0, \"ticks\": \"\"}}, \"type\": \"scatterternary\"}], \"surface\": [{\"colorbar\": {\"outlinewidth\": 0, \"ticks\": \"\"}, \"colorscale\": [[0.0, \"#0d0887\"], [0.1111111111111111, \"#46039f\"], [0.2222222222222222, \"#7201a8\"], [0.3333333333333333, \"#9c179e\"], [0.4444444444444444, \"#bd3786\"], [0.5555555555555556, \"#d8576b\"], [0.6666666666666666, \"#ed7953\"], [0.7777777777777778, \"#fb9f3a\"], [0.8888888888888888, \"#fdca26\"], [1.0, \"#f0f921\"]], \"type\": \"surface\"}], \"table\": [{\"cells\": {\"fill\": {\"color\": \"#EBF0F8\"}, \"line\": {\"color\": \"white\"}}, \"header\": {\"fill\": {\"color\": \"#C8D4E3\"}, \"line\": {\"color\": \"white\"}}, \"type\": \"table\"}]}, \"layout\": {\"annotationdefaults\": {\"arrowcolor\": \"#2a3f5f\", \"arrowhead\": 0, \"arrowwidth\": 1}, \"coloraxis\": {\"colorbar\": {\"outlinewidth\": 0, \"ticks\": \"\"}}, \"colorscale\": {\"diverging\": [[0, \"#8e0152\"], [0.1, \"#c51b7d\"], [0.2, \"#de77ae\"], [0.3, \"#f1b6da\"], [0.4, \"#fde0ef\"], [0.5, \"#f7f7f7\"], [0.6, \"#e6f5d0\"], [0.7, \"#b8e186\"], [0.8, \"#7fbc41\"], [0.9, \"#4d9221\"], [1, \"#276419\"]], \"sequential\": [[0.0, \"#0d0887\"], [0.1111111111111111, \"#46039f\"], [0.2222222222222222, \"#7201a8\"], [0.3333333333333333, \"#9c179e\"], [0.4444444444444444, \"#bd3786\"], [0.5555555555555556, \"#d8576b\"], [0.6666666666666666, \"#ed7953\"], [0.7777777777777778, \"#fb9f3a\"], [0.8888888888888888, \"#fdca26\"], [1.0, \"#f0f921\"]], \"sequentialminus\": [[0.0, \"#0d0887\"], [0.1111111111111111, \"#46039f\"], [0.2222222222222222, \"#7201a8\"], [0.3333333333333333, \"#9c179e\"], [0.4444444444444444, \"#bd3786\"], [0.5555555555555556, \"#d8576b\"], [0.6666666666666666, \"#ed7953\"], [0.7777777777777778, \"#fb9f3a\"], [0.8888888888888888, \"#fdca26\"], [1.0, \"#f0f921\"]]}, \"colorway\": [\"#636efa\", \"#EF553B\", \"#00cc96\", \"#ab63fa\", \"#FFA15A\", \"#19d3f3\", \"#FF6692\", \"#B6E880\", \"#FF97FF\", \"#FECB52\"], \"font\": {\"color\": \"#2a3f5f\"}, \"geo\": {\"bgcolor\": \"white\", \"lakecolor\": \"white\", \"landcolor\": \"#E5ECF6\", \"showlakes\": true, \"showland\": true, \"subunitcolor\": \"white\"}, \"hoverlabel\": {\"align\": \"left\"}, \"hovermode\": \"closest\", \"mapbox\": {\"style\": \"light\"}, \"paper_bgcolor\": \"white\", \"plot_bgcolor\": \"#E5ECF6\", \"polar\": {\"angularaxis\": {\"gridcolor\": \"white\", \"linecolor\": \"white\", \"ticks\": \"\"}, \"bgcolor\": \"#E5ECF6\", \"radialaxis\": {\"gridcolor\": \"white\", \"linecolor\": \"white\", \"ticks\": \"\"}}, \"scene\": {\"xaxis\": {\"backgroundcolor\": \"#E5ECF6\", \"gridcolor\": \"white\", \"gridwidth\": 2, \"linecolor\": \"white\", \"showbackground\": true, \"ticks\": \"\", \"zerolinecolor\": \"white\"}, \"yaxis\": {\"backgroundcolor\": \"#E5ECF6\", \"gridcolor\": \"white\", \"gridwidth\": 2, \"linecolor\": \"white\", \"showbackground\": true, \"ticks\": \"\", \"zerolinecolor\": \"white\"}, \"zaxis\": {\"backgroundcolor\": \"#E5ECF6\", \"gridcolor\": \"white\", \"gridwidth\": 2, \"linecolor\": \"white\", \"showbackground\": true, \"ticks\": \"\", \"zerolinecolor\": \"white\"}}, \"shapedefaults\": {\"line\": {\"color\": \"#2a3f5f\"}}, \"ternary\": {\"aaxis\": {\"gridcolor\": \"white\", \"linecolor\": \"white\", \"ticks\": \"\"}, \"baxis\": {\"gridcolor\": \"white\", \"linecolor\": \"white\", \"ticks\": \"\"}, \"bgcolor\": \"#E5ECF6\", \"caxis\": {\"gridcolor\": \"white\", \"linecolor\": \"white\", \"ticks\": \"\"}}, \"title\": {\"x\": 0.05}, \"xaxis\": {\"automargin\": true, \"gridcolor\": \"white\", \"linecolor\": \"white\", \"ticks\": \"\", \"title\": {\"standoff\": 15}, \"zerolinecolor\": \"white\", \"zerolinewidth\": 2}, \"yaxis\": {\"automargin\": true, \"gridcolor\": \"white\", \"linecolor\": \"white\", \"ticks\": \"\", \"title\": {\"standoff\": 15}, \"zerolinecolor\": \"white\", \"zerolinewidth\": 2}}}, \"title\": {\"text\": \"Fallecimientos - Distritos Per\\u00fa\"}, \"xaxis\": {\"title\": {\"text\": \"Ingreso Familiar Per C\\u00e1pita (N.S. mes)\"}}, \"yaxis\": {\"title\": {\"text\": \"Incremento Relativo de Fallecimientos (2020-2019) (%)\"}}},\n",
       "                        {\"responsive\": true}\n",
       "                    ).then(function(){\n",
       "                            \n",
       "var gd = document.getElementById('99cf155b-7cf7-4dc6-b7d7-3995165eac4c');\n",
       "var x = new MutationObserver(function (mutations, observer) {{\n",
       "        var display = window.getComputedStyle(gd).display;\n",
       "        if (!display || display === 'none') {{\n",
       "            console.log([gd, 'removed!']);\n",
       "            Plotly.purge(gd);\n",
       "            observer.disconnect();\n",
       "        }}\n",
       "}});\n",
       "\n",
       "// Listen for the removal of the full notebook cells\n",
       "var notebookContainer = gd.closest('#notebook-container');\n",
       "if (notebookContainer) {{\n",
       "    x.observe(notebookContainer, {childList: true});\n",
       "}}\n",
       "\n",
       "// Listen for the clearing of the current output cell\n",
       "var outputEl = gd.closest('.output');\n",
       "if (outputEl) {{\n",
       "    x.observe(outputEl, {childList: true});\n",
       "}}\n",
       "\n",
       "                        })\n",
       "                };\n",
       "                });\n",
       "            </script>\n",
       "        </div>"
      ]
     },
     "metadata": {},
     "output_type": "display_data"
    }
   ],
   "source": [
    "traza_ingreso = Scatter(\n",
    "  x=final_distrito_demo[\"Ingreso Familiar Per Cápita\"],\n",
    "  y=final_distrito_demo[\"Incremento Relativo (2020-2019) (%)\"],\n",
    "  text=final_distrito_demo[\"Distrito\"].astype(str),\n",
    "  textposition=\"top center\",\n",
    "  textfont=dict(\n",
    "                color=\"black\",\n",
    "                size=10\n",
    "            ),\n",
    "  mode='markers+text'\n",
    ")\n",
    "\n",
    "fig = go.Figure(data=traza_ingreso)\n",
    "fig.update_layout(\n",
    "    title=\"Fallecimientos - Distritos Perú\",\n",
    "    xaxis_title=\"Ingreso Familiar Per Cápita (N.S. mes)\",\n",
    "    yaxis_title=\"Incremento Relativo de Fallecimientos (2020-2019) (%)\",\n",
    "    legend_title=\"Año\"\n",
    ")\n",
    "\n",
    "fig.show()"
   ]
  },
  {
   "cell_type": "markdown",
   "metadata": {},
   "source": [
    "**Analizando la última variable con mayor correlación negativa, años educación, podemos observar que cuanto menor son los años de educación, mayor es el incremento relativo de fallecimientos. Nuevamente, nos sorprenden los distritos de: Cieneguilla, Pucusana, Pachacamac, Santa Rosa y Lurigancho, ya que tienen pocos años de educación, pero el incremento relativo de fallecimientos no es tan alto comparado con otros distritos.**"
   ]
  },
  {
   "cell_type": "code",
   "execution_count": 73,
   "metadata": {},
   "outputs": [
    {
     "data": {
      "application/vnd.plotly.v1+json": {
       "config": {
        "plotlyServerURL": "https://plot.ly"
       },
       "data": [
        {
         "mode": "markers+text",
         "text": [
          "SAN JUAN DE LURIGANCHO",
          "ANCON",
          "COMAS",
          "LURIN",
          "VILLA EL SALVADOR",
          "EL AGUSTINO",
          "ATE",
          "SANTA ANITA",
          "VILLA MARIA DEL TRIUNFO",
          "SAN JUAN DE MIRAFLORES",
          "LOS OLIVOS",
          "SAN MARTIN DE PORRES",
          "INDEPENDENCIA",
          "CHORRILLOS",
          "CARABAYLLO",
          "LA VICTORIA",
          "PUENTE PIEDRA",
          "RIMAC",
          "LIMA",
          "PACHACAMAC",
          "PUCUSANA",
          "SANTA ROSA",
          "CHACLACAYO",
          "LURIGANCHO",
          "BARRANCO",
          "SANTIAGO DE SURCO",
          "SURQUILLO",
          "SAN LUIS",
          "LA MOLINA",
          "BREÑA",
          "PUEBLO LIBRE",
          "LINCE",
          "CIENEGUILLA",
          "SAN MIGUEL",
          "JESUS MARIA",
          "MAGDALENA DEL MAR",
          "SAN BORJA",
          "MIRAFLORES",
          "SAN ISIDRO"
         ],
         "textfont": {
          "color": "black",
          "size": 10
         },
         "textposition": "top center",
         "type": "scatter",
         "x": [
          10.06,
          9.34,
          10.97,
          9.83,
          10,
          9.64,
          9.21,
          10.52,
          9.76,
          10.36,
          11.34,
          11.08,
          8.82,
          11.46,
          9.22,
          10.52,
          9.63,
          10.64,
          12.01,
          9.28,
          9.32,
          9.92,
          11.21,
          10,
          12.59,
          13.16,
          12.3,
          11.78,
          14.7,
          12.91,
          13.18,
          12.7,
          9.02,
          12.78,
          13.04,
          13,
          13.64,
          13.97,
          13.86
         ],
         "y": [
          460.37991858887375,
          455.88235294117646,
          434.7732181425486,
          391.66666666666663,
          383.1134564643799,
          354.6938775510204,
          350.4761904761905,
          348.8479262672811,
          343.4666666666667,
          338.36633663366337,
          338.2838283828383,
          335.1824817518248,
          332,
          331.0810810810811,
          317.6470588235294,
          308.9430894308943,
          296.9298245614035,
          290.5084745762712,
          268.0821917808219,
          255.73770491803282,
          253.84615384615384,
          223.0769230769231,
          210.3448275862069,
          198.21428571428572,
          195.65217391304347,
          190.59633027522935,
          189.937106918239,
          185,
          179.88165680473372,
          173.70689655172413,
          163.12849162011173,
          156.64739884393063,
          147.61904761904762,
          145.41984732824426,
          136.0655737704918,
          121.27659574468086,
          117.07317073170731,
          95.19999999999999,
          90.84967320261438
         ]
        }
       ],
       "layout": {
        "legend": {
         "title": {
          "text": "Año"
         }
        },
        "template": {
         "data": {
          "bar": [
           {
            "error_x": {
             "color": "#2a3f5f"
            },
            "error_y": {
             "color": "#2a3f5f"
            },
            "marker": {
             "line": {
              "color": "#E5ECF6",
              "width": 0.5
             }
            },
            "type": "bar"
           }
          ],
          "barpolar": [
           {
            "marker": {
             "line": {
              "color": "#E5ECF6",
              "width": 0.5
             }
            },
            "type": "barpolar"
           }
          ],
          "carpet": [
           {
            "aaxis": {
             "endlinecolor": "#2a3f5f",
             "gridcolor": "white",
             "linecolor": "white",
             "minorgridcolor": "white",
             "startlinecolor": "#2a3f5f"
            },
            "baxis": {
             "endlinecolor": "#2a3f5f",
             "gridcolor": "white",
             "linecolor": "white",
             "minorgridcolor": "white",
             "startlinecolor": "#2a3f5f"
            },
            "type": "carpet"
           }
          ],
          "choropleth": [
           {
            "colorbar": {
             "outlinewidth": 0,
             "ticks": ""
            },
            "type": "choropleth"
           }
          ],
          "contour": [
           {
            "colorbar": {
             "outlinewidth": 0,
             "ticks": ""
            },
            "colorscale": [
             [
              0,
              "#0d0887"
             ],
             [
              0.1111111111111111,
              "#46039f"
             ],
             [
              0.2222222222222222,
              "#7201a8"
             ],
             [
              0.3333333333333333,
              "#9c179e"
             ],
             [
              0.4444444444444444,
              "#bd3786"
             ],
             [
              0.5555555555555556,
              "#d8576b"
             ],
             [
              0.6666666666666666,
              "#ed7953"
             ],
             [
              0.7777777777777778,
              "#fb9f3a"
             ],
             [
              0.8888888888888888,
              "#fdca26"
             ],
             [
              1,
              "#f0f921"
             ]
            ],
            "type": "contour"
           }
          ],
          "contourcarpet": [
           {
            "colorbar": {
             "outlinewidth": 0,
             "ticks": ""
            },
            "type": "contourcarpet"
           }
          ],
          "heatmap": [
           {
            "colorbar": {
             "outlinewidth": 0,
             "ticks": ""
            },
            "colorscale": [
             [
              0,
              "#0d0887"
             ],
             [
              0.1111111111111111,
              "#46039f"
             ],
             [
              0.2222222222222222,
              "#7201a8"
             ],
             [
              0.3333333333333333,
              "#9c179e"
             ],
             [
              0.4444444444444444,
              "#bd3786"
             ],
             [
              0.5555555555555556,
              "#d8576b"
             ],
             [
              0.6666666666666666,
              "#ed7953"
             ],
             [
              0.7777777777777778,
              "#fb9f3a"
             ],
             [
              0.8888888888888888,
              "#fdca26"
             ],
             [
              1,
              "#f0f921"
             ]
            ],
            "type": "heatmap"
           }
          ],
          "heatmapgl": [
           {
            "colorbar": {
             "outlinewidth": 0,
             "ticks": ""
            },
            "colorscale": [
             [
              0,
              "#0d0887"
             ],
             [
              0.1111111111111111,
              "#46039f"
             ],
             [
              0.2222222222222222,
              "#7201a8"
             ],
             [
              0.3333333333333333,
              "#9c179e"
             ],
             [
              0.4444444444444444,
              "#bd3786"
             ],
             [
              0.5555555555555556,
              "#d8576b"
             ],
             [
              0.6666666666666666,
              "#ed7953"
             ],
             [
              0.7777777777777778,
              "#fb9f3a"
             ],
             [
              0.8888888888888888,
              "#fdca26"
             ],
             [
              1,
              "#f0f921"
             ]
            ],
            "type": "heatmapgl"
           }
          ],
          "histogram": [
           {
            "marker": {
             "colorbar": {
              "outlinewidth": 0,
              "ticks": ""
             }
            },
            "type": "histogram"
           }
          ],
          "histogram2d": [
           {
            "colorbar": {
             "outlinewidth": 0,
             "ticks": ""
            },
            "colorscale": [
             [
              0,
              "#0d0887"
             ],
             [
              0.1111111111111111,
              "#46039f"
             ],
             [
              0.2222222222222222,
              "#7201a8"
             ],
             [
              0.3333333333333333,
              "#9c179e"
             ],
             [
              0.4444444444444444,
              "#bd3786"
             ],
             [
              0.5555555555555556,
              "#d8576b"
             ],
             [
              0.6666666666666666,
              "#ed7953"
             ],
             [
              0.7777777777777778,
              "#fb9f3a"
             ],
             [
              0.8888888888888888,
              "#fdca26"
             ],
             [
              1,
              "#f0f921"
             ]
            ],
            "type": "histogram2d"
           }
          ],
          "histogram2dcontour": [
           {
            "colorbar": {
             "outlinewidth": 0,
             "ticks": ""
            },
            "colorscale": [
             [
              0,
              "#0d0887"
             ],
             [
              0.1111111111111111,
              "#46039f"
             ],
             [
              0.2222222222222222,
              "#7201a8"
             ],
             [
              0.3333333333333333,
              "#9c179e"
             ],
             [
              0.4444444444444444,
              "#bd3786"
             ],
             [
              0.5555555555555556,
              "#d8576b"
             ],
             [
              0.6666666666666666,
              "#ed7953"
             ],
             [
              0.7777777777777778,
              "#fb9f3a"
             ],
             [
              0.8888888888888888,
              "#fdca26"
             ],
             [
              1,
              "#f0f921"
             ]
            ],
            "type": "histogram2dcontour"
           }
          ],
          "mesh3d": [
           {
            "colorbar": {
             "outlinewidth": 0,
             "ticks": ""
            },
            "type": "mesh3d"
           }
          ],
          "parcoords": [
           {
            "line": {
             "colorbar": {
              "outlinewidth": 0,
              "ticks": ""
             }
            },
            "type": "parcoords"
           }
          ],
          "pie": [
           {
            "automargin": true,
            "type": "pie"
           }
          ],
          "scatter": [
           {
            "marker": {
             "colorbar": {
              "outlinewidth": 0,
              "ticks": ""
             }
            },
            "type": "scatter"
           }
          ],
          "scatter3d": [
           {
            "line": {
             "colorbar": {
              "outlinewidth": 0,
              "ticks": ""
             }
            },
            "marker": {
             "colorbar": {
              "outlinewidth": 0,
              "ticks": ""
             }
            },
            "type": "scatter3d"
           }
          ],
          "scattercarpet": [
           {
            "marker": {
             "colorbar": {
              "outlinewidth": 0,
              "ticks": ""
             }
            },
            "type": "scattercarpet"
           }
          ],
          "scattergeo": [
           {
            "marker": {
             "colorbar": {
              "outlinewidth": 0,
              "ticks": ""
             }
            },
            "type": "scattergeo"
           }
          ],
          "scattergl": [
           {
            "marker": {
             "colorbar": {
              "outlinewidth": 0,
              "ticks": ""
             }
            },
            "type": "scattergl"
           }
          ],
          "scattermapbox": [
           {
            "marker": {
             "colorbar": {
              "outlinewidth": 0,
              "ticks": ""
             }
            },
            "type": "scattermapbox"
           }
          ],
          "scatterpolar": [
           {
            "marker": {
             "colorbar": {
              "outlinewidth": 0,
              "ticks": ""
             }
            },
            "type": "scatterpolar"
           }
          ],
          "scatterpolargl": [
           {
            "marker": {
             "colorbar": {
              "outlinewidth": 0,
              "ticks": ""
             }
            },
            "type": "scatterpolargl"
           }
          ],
          "scatterternary": [
           {
            "marker": {
             "colorbar": {
              "outlinewidth": 0,
              "ticks": ""
             }
            },
            "type": "scatterternary"
           }
          ],
          "surface": [
           {
            "colorbar": {
             "outlinewidth": 0,
             "ticks": ""
            },
            "colorscale": [
             [
              0,
              "#0d0887"
             ],
             [
              0.1111111111111111,
              "#46039f"
             ],
             [
              0.2222222222222222,
              "#7201a8"
             ],
             [
              0.3333333333333333,
              "#9c179e"
             ],
             [
              0.4444444444444444,
              "#bd3786"
             ],
             [
              0.5555555555555556,
              "#d8576b"
             ],
             [
              0.6666666666666666,
              "#ed7953"
             ],
             [
              0.7777777777777778,
              "#fb9f3a"
             ],
             [
              0.8888888888888888,
              "#fdca26"
             ],
             [
              1,
              "#f0f921"
             ]
            ],
            "type": "surface"
           }
          ],
          "table": [
           {
            "cells": {
             "fill": {
              "color": "#EBF0F8"
             },
             "line": {
              "color": "white"
             }
            },
            "header": {
             "fill": {
              "color": "#C8D4E3"
             },
             "line": {
              "color": "white"
             }
            },
            "type": "table"
           }
          ]
         },
         "layout": {
          "annotationdefaults": {
           "arrowcolor": "#2a3f5f",
           "arrowhead": 0,
           "arrowwidth": 1
          },
          "coloraxis": {
           "colorbar": {
            "outlinewidth": 0,
            "ticks": ""
           }
          },
          "colorscale": {
           "diverging": [
            [
             0,
             "#8e0152"
            ],
            [
             0.1,
             "#c51b7d"
            ],
            [
             0.2,
             "#de77ae"
            ],
            [
             0.3,
             "#f1b6da"
            ],
            [
             0.4,
             "#fde0ef"
            ],
            [
             0.5,
             "#f7f7f7"
            ],
            [
             0.6,
             "#e6f5d0"
            ],
            [
             0.7,
             "#b8e186"
            ],
            [
             0.8,
             "#7fbc41"
            ],
            [
             0.9,
             "#4d9221"
            ],
            [
             1,
             "#276419"
            ]
           ],
           "sequential": [
            [
             0,
             "#0d0887"
            ],
            [
             0.1111111111111111,
             "#46039f"
            ],
            [
             0.2222222222222222,
             "#7201a8"
            ],
            [
             0.3333333333333333,
             "#9c179e"
            ],
            [
             0.4444444444444444,
             "#bd3786"
            ],
            [
             0.5555555555555556,
             "#d8576b"
            ],
            [
             0.6666666666666666,
             "#ed7953"
            ],
            [
             0.7777777777777778,
             "#fb9f3a"
            ],
            [
             0.8888888888888888,
             "#fdca26"
            ],
            [
             1,
             "#f0f921"
            ]
           ],
           "sequentialminus": [
            [
             0,
             "#0d0887"
            ],
            [
             0.1111111111111111,
             "#46039f"
            ],
            [
             0.2222222222222222,
             "#7201a8"
            ],
            [
             0.3333333333333333,
             "#9c179e"
            ],
            [
             0.4444444444444444,
             "#bd3786"
            ],
            [
             0.5555555555555556,
             "#d8576b"
            ],
            [
             0.6666666666666666,
             "#ed7953"
            ],
            [
             0.7777777777777778,
             "#fb9f3a"
            ],
            [
             0.8888888888888888,
             "#fdca26"
            ],
            [
             1,
             "#f0f921"
            ]
           ]
          },
          "colorway": [
           "#636efa",
           "#EF553B",
           "#00cc96",
           "#ab63fa",
           "#FFA15A",
           "#19d3f3",
           "#FF6692",
           "#B6E880",
           "#FF97FF",
           "#FECB52"
          ],
          "font": {
           "color": "#2a3f5f"
          },
          "geo": {
           "bgcolor": "white",
           "lakecolor": "white",
           "landcolor": "#E5ECF6",
           "showlakes": true,
           "showland": true,
           "subunitcolor": "white"
          },
          "hoverlabel": {
           "align": "left"
          },
          "hovermode": "closest",
          "mapbox": {
           "style": "light"
          },
          "paper_bgcolor": "white",
          "plot_bgcolor": "#E5ECF6",
          "polar": {
           "angularaxis": {
            "gridcolor": "white",
            "linecolor": "white",
            "ticks": ""
           },
           "bgcolor": "#E5ECF6",
           "radialaxis": {
            "gridcolor": "white",
            "linecolor": "white",
            "ticks": ""
           }
          },
          "scene": {
           "xaxis": {
            "backgroundcolor": "#E5ECF6",
            "gridcolor": "white",
            "gridwidth": 2,
            "linecolor": "white",
            "showbackground": true,
            "ticks": "",
            "zerolinecolor": "white"
           },
           "yaxis": {
            "backgroundcolor": "#E5ECF6",
            "gridcolor": "white",
            "gridwidth": 2,
            "linecolor": "white",
            "showbackground": true,
            "ticks": "",
            "zerolinecolor": "white"
           },
           "zaxis": {
            "backgroundcolor": "#E5ECF6",
            "gridcolor": "white",
            "gridwidth": 2,
            "linecolor": "white",
            "showbackground": true,
            "ticks": "",
            "zerolinecolor": "white"
           }
          },
          "shapedefaults": {
           "line": {
            "color": "#2a3f5f"
           }
          },
          "ternary": {
           "aaxis": {
            "gridcolor": "white",
            "linecolor": "white",
            "ticks": ""
           },
           "baxis": {
            "gridcolor": "white",
            "linecolor": "white",
            "ticks": ""
           },
           "bgcolor": "#E5ECF6",
           "caxis": {
            "gridcolor": "white",
            "linecolor": "white",
            "ticks": ""
           }
          },
          "title": {
           "x": 0.05
          },
          "xaxis": {
           "automargin": true,
           "gridcolor": "white",
           "linecolor": "white",
           "ticks": "",
           "title": {
            "standoff": 15
           },
           "zerolinecolor": "white",
           "zerolinewidth": 2
          },
          "yaxis": {
           "automargin": true,
           "gridcolor": "white",
           "linecolor": "white",
           "ticks": "",
           "title": {
            "standoff": 15
           },
           "zerolinecolor": "white",
           "zerolinewidth": 2
          }
         }
        },
        "title": {
         "text": "Fallecimientos - Distritos Perú"
        },
        "xaxis": {
         "title": {
          "text": "Años de Educación (Población 25 y más)"
         }
        },
        "yaxis": {
         "title": {
          "text": "Incremento Relativo de Fallecimientos (2020-2019) (%)"
         }
        }
       }
      },
      "text/html": [
       "<div>\n",
       "        \n",
       "        \n",
       "            <div id=\"fbe7eeac-9818-4181-b166-eda78af73422\" class=\"plotly-graph-div\" style=\"height:525px; width:100%;\"></div>\n",
       "            <script type=\"text/javascript\">\n",
       "                require([\"plotly\"], function(Plotly) {\n",
       "                    window.PLOTLYENV=window.PLOTLYENV || {};\n",
       "                    \n",
       "                if (document.getElementById(\"fbe7eeac-9818-4181-b166-eda78af73422\")) {\n",
       "                    Plotly.newPlot(\n",
       "                        'fbe7eeac-9818-4181-b166-eda78af73422',\n",
       "                        [{\"mode\": \"markers+text\", \"text\": [\"SAN JUAN DE LURIGANCHO\", \"ANCON\", \"COMAS\", \"LURIN\", \"VILLA EL SALVADOR\", \"EL AGUSTINO\", \"ATE\", \"SANTA ANITA\", \"VILLA MARIA DEL TRIUNFO\", \"SAN JUAN DE MIRAFLORES\", \"LOS OLIVOS\", \"SAN MARTIN DE PORRES\", \"INDEPENDENCIA\", \"CHORRILLOS\", \"CARABAYLLO\", \"LA VICTORIA\", \"PUENTE PIEDRA\", \"RIMAC\", \"LIMA\", \"PACHACAMAC\", \"PUCUSANA\", \"SANTA ROSA\", \"CHACLACAYO\", \"LURIGANCHO\", \"BARRANCO\", \"SANTIAGO DE SURCO\", \"SURQUILLO\", \"SAN LUIS\", \"LA MOLINA\", \"BRE\\u00d1A\", \"PUEBLO LIBRE\", \"LINCE\", \"CIENEGUILLA\", \"SAN MIGUEL\", \"JESUS MARIA\", \"MAGDALENA DEL MAR\", \"SAN BORJA\", \"MIRAFLORES\", \"SAN ISIDRO\"], \"textfont\": {\"color\": \"black\", \"size\": 10}, \"textposition\": \"top center\", \"type\": \"scatter\", \"x\": [10.06, 9.34, 10.97, 9.83, 10.0, 9.64, 9.21, 10.52, 9.76, 10.36, 11.34, 11.08, 8.82, 11.46, 9.22, 10.52, 9.63, 10.64, 12.01, 9.28, 9.32, 9.92, 11.21, 10.0, 12.59, 13.16, 12.3, 11.78, 14.7, 12.91, 13.18, 12.7, 9.02, 12.78, 13.04, 13.0, 13.64, 13.97, 13.86], \"y\": [460.37991858887375, 455.88235294117646, 434.7732181425486, 391.66666666666663, 383.1134564643799, 354.6938775510204, 350.4761904761905, 348.8479262672811, 343.4666666666667, 338.36633663366337, 338.2838283828383, 335.1824817518248, 332.0, 331.0810810810811, 317.6470588235294, 308.9430894308943, 296.9298245614035, 290.5084745762712, 268.0821917808219, 255.73770491803282, 253.84615384615384, 223.0769230769231, 210.3448275862069, 198.21428571428572, 195.65217391304347, 190.59633027522935, 189.937106918239, 185.0, 179.88165680473372, 173.70689655172413, 163.12849162011173, 156.64739884393063, 147.61904761904762, 145.41984732824426, 136.0655737704918, 121.27659574468086, 117.07317073170731, 95.19999999999999, 90.84967320261438]}],\n",
       "                        {\"legend\": {\"title\": {\"text\": \"A\\u00f1o\"}}, \"template\": {\"data\": {\"bar\": [{\"error_x\": {\"color\": \"#2a3f5f\"}, \"error_y\": {\"color\": \"#2a3f5f\"}, \"marker\": {\"line\": {\"color\": \"#E5ECF6\", \"width\": 0.5}}, \"type\": \"bar\"}], \"barpolar\": [{\"marker\": {\"line\": {\"color\": \"#E5ECF6\", \"width\": 0.5}}, \"type\": \"barpolar\"}], \"carpet\": [{\"aaxis\": {\"endlinecolor\": \"#2a3f5f\", \"gridcolor\": \"white\", \"linecolor\": \"white\", \"minorgridcolor\": \"white\", \"startlinecolor\": \"#2a3f5f\"}, \"baxis\": {\"endlinecolor\": \"#2a3f5f\", \"gridcolor\": \"white\", \"linecolor\": \"white\", \"minorgridcolor\": \"white\", \"startlinecolor\": \"#2a3f5f\"}, \"type\": \"carpet\"}], \"choropleth\": [{\"colorbar\": {\"outlinewidth\": 0, \"ticks\": \"\"}, \"type\": \"choropleth\"}], \"contour\": [{\"colorbar\": {\"outlinewidth\": 0, \"ticks\": \"\"}, \"colorscale\": [[0.0, \"#0d0887\"], [0.1111111111111111, \"#46039f\"], [0.2222222222222222, \"#7201a8\"], [0.3333333333333333, \"#9c179e\"], [0.4444444444444444, \"#bd3786\"], [0.5555555555555556, \"#d8576b\"], [0.6666666666666666, \"#ed7953\"], [0.7777777777777778, \"#fb9f3a\"], [0.8888888888888888, \"#fdca26\"], [1.0, \"#f0f921\"]], \"type\": \"contour\"}], \"contourcarpet\": [{\"colorbar\": {\"outlinewidth\": 0, \"ticks\": \"\"}, \"type\": \"contourcarpet\"}], \"heatmap\": [{\"colorbar\": {\"outlinewidth\": 0, \"ticks\": \"\"}, \"colorscale\": [[0.0, \"#0d0887\"], [0.1111111111111111, \"#46039f\"], [0.2222222222222222, \"#7201a8\"], [0.3333333333333333, \"#9c179e\"], [0.4444444444444444, \"#bd3786\"], [0.5555555555555556, \"#d8576b\"], [0.6666666666666666, \"#ed7953\"], [0.7777777777777778, \"#fb9f3a\"], [0.8888888888888888, \"#fdca26\"], [1.0, \"#f0f921\"]], \"type\": \"heatmap\"}], \"heatmapgl\": [{\"colorbar\": {\"outlinewidth\": 0, \"ticks\": \"\"}, \"colorscale\": [[0.0, \"#0d0887\"], [0.1111111111111111, \"#46039f\"], [0.2222222222222222, \"#7201a8\"], [0.3333333333333333, \"#9c179e\"], [0.4444444444444444, \"#bd3786\"], [0.5555555555555556, \"#d8576b\"], [0.6666666666666666, \"#ed7953\"], [0.7777777777777778, \"#fb9f3a\"], [0.8888888888888888, \"#fdca26\"], [1.0, \"#f0f921\"]], \"type\": \"heatmapgl\"}], \"histogram\": [{\"marker\": {\"colorbar\": {\"outlinewidth\": 0, \"ticks\": \"\"}}, \"type\": \"histogram\"}], \"histogram2d\": [{\"colorbar\": {\"outlinewidth\": 0, \"ticks\": \"\"}, \"colorscale\": [[0.0, \"#0d0887\"], [0.1111111111111111, \"#46039f\"], [0.2222222222222222, \"#7201a8\"], [0.3333333333333333, \"#9c179e\"], [0.4444444444444444, \"#bd3786\"], [0.5555555555555556, \"#d8576b\"], [0.6666666666666666, \"#ed7953\"], [0.7777777777777778, \"#fb9f3a\"], [0.8888888888888888, \"#fdca26\"], [1.0, \"#f0f921\"]], \"type\": \"histogram2d\"}], \"histogram2dcontour\": [{\"colorbar\": {\"outlinewidth\": 0, \"ticks\": \"\"}, \"colorscale\": [[0.0, \"#0d0887\"], [0.1111111111111111, \"#46039f\"], [0.2222222222222222, \"#7201a8\"], [0.3333333333333333, \"#9c179e\"], [0.4444444444444444, \"#bd3786\"], [0.5555555555555556, \"#d8576b\"], [0.6666666666666666, \"#ed7953\"], [0.7777777777777778, \"#fb9f3a\"], [0.8888888888888888, \"#fdca26\"], [1.0, \"#f0f921\"]], \"type\": \"histogram2dcontour\"}], \"mesh3d\": [{\"colorbar\": {\"outlinewidth\": 0, \"ticks\": \"\"}, \"type\": \"mesh3d\"}], \"parcoords\": [{\"line\": {\"colorbar\": {\"outlinewidth\": 0, \"ticks\": \"\"}}, \"type\": \"parcoords\"}], \"pie\": [{\"automargin\": true, \"type\": \"pie\"}], \"scatter\": [{\"marker\": {\"colorbar\": {\"outlinewidth\": 0, \"ticks\": \"\"}}, \"type\": \"scatter\"}], \"scatter3d\": [{\"line\": {\"colorbar\": {\"outlinewidth\": 0, \"ticks\": \"\"}}, \"marker\": {\"colorbar\": {\"outlinewidth\": 0, \"ticks\": \"\"}}, \"type\": \"scatter3d\"}], \"scattercarpet\": [{\"marker\": {\"colorbar\": {\"outlinewidth\": 0, \"ticks\": \"\"}}, \"type\": \"scattercarpet\"}], \"scattergeo\": [{\"marker\": {\"colorbar\": {\"outlinewidth\": 0, \"ticks\": \"\"}}, \"type\": \"scattergeo\"}], \"scattergl\": [{\"marker\": {\"colorbar\": {\"outlinewidth\": 0, \"ticks\": \"\"}}, \"type\": \"scattergl\"}], \"scattermapbox\": [{\"marker\": {\"colorbar\": {\"outlinewidth\": 0, \"ticks\": \"\"}}, \"type\": \"scattermapbox\"}], \"scatterpolar\": [{\"marker\": {\"colorbar\": {\"outlinewidth\": 0, \"ticks\": \"\"}}, \"type\": \"scatterpolar\"}], \"scatterpolargl\": [{\"marker\": {\"colorbar\": {\"outlinewidth\": 0, \"ticks\": \"\"}}, \"type\": \"scatterpolargl\"}], \"scatterternary\": [{\"marker\": {\"colorbar\": {\"outlinewidth\": 0, \"ticks\": \"\"}}, \"type\": \"scatterternary\"}], \"surface\": [{\"colorbar\": {\"outlinewidth\": 0, \"ticks\": \"\"}, \"colorscale\": [[0.0, \"#0d0887\"], [0.1111111111111111, \"#46039f\"], [0.2222222222222222, \"#7201a8\"], [0.3333333333333333, \"#9c179e\"], [0.4444444444444444, \"#bd3786\"], [0.5555555555555556, \"#d8576b\"], [0.6666666666666666, \"#ed7953\"], [0.7777777777777778, \"#fb9f3a\"], [0.8888888888888888, \"#fdca26\"], [1.0, \"#f0f921\"]], \"type\": \"surface\"}], \"table\": [{\"cells\": {\"fill\": {\"color\": \"#EBF0F8\"}, \"line\": {\"color\": \"white\"}}, \"header\": {\"fill\": {\"color\": \"#C8D4E3\"}, \"line\": {\"color\": \"white\"}}, \"type\": \"table\"}]}, \"layout\": {\"annotationdefaults\": {\"arrowcolor\": \"#2a3f5f\", \"arrowhead\": 0, \"arrowwidth\": 1}, \"coloraxis\": {\"colorbar\": {\"outlinewidth\": 0, \"ticks\": \"\"}}, \"colorscale\": {\"diverging\": [[0, \"#8e0152\"], [0.1, \"#c51b7d\"], [0.2, \"#de77ae\"], [0.3, \"#f1b6da\"], [0.4, \"#fde0ef\"], [0.5, \"#f7f7f7\"], [0.6, \"#e6f5d0\"], [0.7, \"#b8e186\"], [0.8, \"#7fbc41\"], [0.9, \"#4d9221\"], [1, \"#276419\"]], \"sequential\": [[0.0, \"#0d0887\"], [0.1111111111111111, \"#46039f\"], [0.2222222222222222, \"#7201a8\"], [0.3333333333333333, \"#9c179e\"], [0.4444444444444444, \"#bd3786\"], [0.5555555555555556, \"#d8576b\"], [0.6666666666666666, \"#ed7953\"], [0.7777777777777778, \"#fb9f3a\"], [0.8888888888888888, \"#fdca26\"], [1.0, \"#f0f921\"]], \"sequentialminus\": [[0.0, \"#0d0887\"], [0.1111111111111111, \"#46039f\"], [0.2222222222222222, \"#7201a8\"], [0.3333333333333333, \"#9c179e\"], [0.4444444444444444, \"#bd3786\"], [0.5555555555555556, \"#d8576b\"], [0.6666666666666666, \"#ed7953\"], [0.7777777777777778, \"#fb9f3a\"], [0.8888888888888888, \"#fdca26\"], [1.0, \"#f0f921\"]]}, \"colorway\": [\"#636efa\", \"#EF553B\", \"#00cc96\", \"#ab63fa\", \"#FFA15A\", \"#19d3f3\", \"#FF6692\", \"#B6E880\", \"#FF97FF\", \"#FECB52\"], \"font\": {\"color\": \"#2a3f5f\"}, \"geo\": {\"bgcolor\": \"white\", \"lakecolor\": \"white\", \"landcolor\": \"#E5ECF6\", \"showlakes\": true, \"showland\": true, \"subunitcolor\": \"white\"}, \"hoverlabel\": {\"align\": \"left\"}, \"hovermode\": \"closest\", \"mapbox\": {\"style\": \"light\"}, \"paper_bgcolor\": \"white\", \"plot_bgcolor\": \"#E5ECF6\", \"polar\": {\"angularaxis\": {\"gridcolor\": \"white\", \"linecolor\": \"white\", \"ticks\": \"\"}, \"bgcolor\": \"#E5ECF6\", \"radialaxis\": {\"gridcolor\": \"white\", \"linecolor\": \"white\", \"ticks\": \"\"}}, \"scene\": {\"xaxis\": {\"backgroundcolor\": \"#E5ECF6\", \"gridcolor\": \"white\", \"gridwidth\": 2, \"linecolor\": \"white\", \"showbackground\": true, \"ticks\": \"\", \"zerolinecolor\": \"white\"}, \"yaxis\": {\"backgroundcolor\": \"#E5ECF6\", \"gridcolor\": \"white\", \"gridwidth\": 2, \"linecolor\": \"white\", \"showbackground\": true, \"ticks\": \"\", \"zerolinecolor\": \"white\"}, \"zaxis\": {\"backgroundcolor\": \"#E5ECF6\", \"gridcolor\": \"white\", \"gridwidth\": 2, \"linecolor\": \"white\", \"showbackground\": true, \"ticks\": \"\", \"zerolinecolor\": \"white\"}}, \"shapedefaults\": {\"line\": {\"color\": \"#2a3f5f\"}}, \"ternary\": {\"aaxis\": {\"gridcolor\": \"white\", \"linecolor\": \"white\", \"ticks\": \"\"}, \"baxis\": {\"gridcolor\": \"white\", \"linecolor\": \"white\", \"ticks\": \"\"}, \"bgcolor\": \"#E5ECF6\", \"caxis\": {\"gridcolor\": \"white\", \"linecolor\": \"white\", \"ticks\": \"\"}}, \"title\": {\"x\": 0.05}, \"xaxis\": {\"automargin\": true, \"gridcolor\": \"white\", \"linecolor\": \"white\", \"ticks\": \"\", \"title\": {\"standoff\": 15}, \"zerolinecolor\": \"white\", \"zerolinewidth\": 2}, \"yaxis\": {\"automargin\": true, \"gridcolor\": \"white\", \"linecolor\": \"white\", \"ticks\": \"\", \"title\": {\"standoff\": 15}, \"zerolinecolor\": \"white\", \"zerolinewidth\": 2}}}, \"title\": {\"text\": \"Fallecimientos - Distritos Per\\u00fa\"}, \"xaxis\": {\"title\": {\"text\": \"A\\u00f1os de Educaci\\u00f3n (Poblaci\\u00f3n 25 y m\\u00e1s)\"}}, \"yaxis\": {\"title\": {\"text\": \"Incremento Relativo de Fallecimientos (2020-2019) (%)\"}}},\n",
       "                        {\"responsive\": true}\n",
       "                    ).then(function(){\n",
       "                            \n",
       "var gd = document.getElementById('fbe7eeac-9818-4181-b166-eda78af73422');\n",
       "var x = new MutationObserver(function (mutations, observer) {{\n",
       "        var display = window.getComputedStyle(gd).display;\n",
       "        if (!display || display === 'none') {{\n",
       "            console.log([gd, 'removed!']);\n",
       "            Plotly.purge(gd);\n",
       "            observer.disconnect();\n",
       "        }}\n",
       "}});\n",
       "\n",
       "// Listen for the removal of the full notebook cells\n",
       "var notebookContainer = gd.closest('#notebook-container');\n",
       "if (notebookContainer) {{\n",
       "    x.observe(notebookContainer, {childList: true});\n",
       "}}\n",
       "\n",
       "// Listen for the clearing of the current output cell\n",
       "var outputEl = gd.closest('.output');\n",
       "if (outputEl) {{\n",
       "    x.observe(outputEl, {childList: true});\n",
       "}}\n",
       "\n",
       "                        })\n",
       "                };\n",
       "                });\n",
       "            </script>\n",
       "        </div>"
      ]
     },
     "metadata": {},
     "output_type": "display_data"
    }
   ],
   "source": [
    "traza_secundaria = Scatter(\n",
    "  x=final_distrito_demo[\"Años Educación\"],\n",
    "  y=final_distrito_demo[\"Incremento Relativo (2020-2019) (%)\"],\n",
    "  text=final_distrito_demo[\"Distrito\"].astype(str),\n",
    "  textposition=\"top center\",\n",
    "  textfont=dict(\n",
    "                color=\"black\",\n",
    "                size=10\n",
    "            ),\n",
    "  mode='markers+text'\n",
    ")\n",
    "\n",
    "fig = go.Figure(data=traza_secundaria)\n",
    "fig.update_layout(\n",
    "    title=\"Fallecimientos - Distritos Perú\",\n",
    "    xaxis_title=\"Años de Educación (Población 25 y más)\",\n",
    "    yaxis_title=\"Incremento Relativo de Fallecimientos (2020-2019) (%)\",\n",
    "    legend_title=\"Año\"\n",
    ")\n",
    "\n",
    "fig.show()"
   ]
  },
  {
   "cell_type": "markdown",
   "metadata": {},
   "source": [
    "El la siguiente matriz podemos observar que si quitaramos los distritos de: Cieneguilla, Pucusana, Pachacamac, Santa Rosa y Lurigancho, obtendríamos correlaciones aún más negativas:\n",
    "\n",
    "| Correlación respecto al Incremento Relativo de Fallecidos | Original | Eliminando: Cieneguilla, Pucusana, Pachacamac, Santa Rosa y Lurigancho  |\n",
    "|-----------------------------------------------------------|----------|-------------------------------------------------------------------------|\n",
    "| IDH                                                       | -0.60    | -0.85                                                                   |\n",
    "| Ingreso Familiar Per Cápita                               | -0.60    | -0.81                                                                   |\n",
    "| Años de Educación                                         | -0.70    | -0.85                                                                   |"
   ]
  },
  {
   "cell_type": "markdown",
   "metadata": {},
   "source": [
    "Nos podríamos realizar la siguiente pregunta: <br><br>\n",
    "&nbsp;&nbsp;&nbsp;&nbsp;&nbsp;&nbsp;&nbsp;&nbsp;&nbsp;&nbsp;&nbsp;&nbsp;&nbsp;&nbsp;&nbsp;&nbsp;&nbsp;&nbsp;&nbsp;&nbsp;&nbsp;&nbsp;**¿Qué ocurre con Cieneguilla, Pucusana, Pachacamac, Santa Rosa y Lurigancho?** <br><br>\n",
    "Añadiendo una nueva variable, el área de los distritos, a los datos del informe de PNUD se podría obtener la **densidad de población** ($habitantes/km^2$).<br>\n",
    "Si utilizamos esta variable como **dimensión de tamaño** (el punto tomará un tamaño menor o mayor dependiendo de la densidad de población) sobre la gráfica de **años de educación e incremento relativo de fallecimientos** se puede observar lo siguiente:"
   ]
  },
  {
   "cell_type": "code",
   "execution_count": 109,
   "metadata": {},
   "outputs": [
    {
     "data": {
      "application/vnd.plotly.v1+json": {
       "config": {
        "plotlyServerURL": "https://plot.ly"
       },
       "data": [
        {
         "hovertext": [
          "8764.08 hab/km2",
          "183.66 hab/km2",
          "10871.79 hab/km2",
          "529.53 hab/km2",
          "12948.7 hab/km2",
          "16218.5 hab/km2",
          "8812.69 hab/km2",
          "21500.0 hab/km2",
          "6414.34 hab/km2",
          "16043.74 hab/km2",
          "19944.55 hab/km2",
          "20032.95 hab/km2",
          "14916.0 hab/km2",
          "8568.44 hab/km2",
          "1028.75 hab/km2",
          "17950.57 hab/km2",
          "5390.55 hab/km2",
          "13206.4 hab/km2",
          "11462.8 hab/km2",
          "879.85 hab/km2",
          "504.47 hab/km2",
          "1237.35 hab/km2",
          "1107.75 hab/km2",
          "1078.97 hab/km2",
          "8252.85 hab/km2",
          "10353.29 hab/km2",
          "25654.91 hab/km2",
          "15379.08 hab/km2",
          "2446.22 hab/km2",
          "23477.64 hab/km2",
          "17975.11 hab/km2",
          "15280.2 hab/km2",
          "200.81 hab/km2",
          "13702.05 hab/km2",
          "16383.59 hab/km2",
          "16032.96 hab/km2",
          "10701.31 hab/km2",
          "9137.11 hab/km2",
          "4793.87 hab/km2"
         ],
         "marker": {
          "size": [
           8764.076190476191,
           183.6641935699485,
           10871.794871794871,
           529.532906360424,
           12948.702763677382,
           16218.500797448167,
           8812.686567164179,
           21500,
           6414.340371262577,
           16043.744787322768,
           19944.54794520548,
           20032.94500135465,
           14916.002747252747,
           8568.43862352337,
           1028.7534594095941,
           17950.572082379862,
           5390.545096937341,
           13206.402695871948,
           11462.797074954296,
           879.8477189040755,
           504.46735395189006,
           1237.3488372093022,
           1107.746835443038,
           1078.969848183702,
           8252.852852852853,
           10353.294964028777,
           25654.913294797687,
           15379.083094555874,
           2446.2205323193916,
           23477.639751552793,
           17975.114155251144,
           15280.198019801981,
           200.8113843465235,
           13702.052238805969,
           16383.5886214442,
           16032.963988919668,
           10701.305220883532,
           9137.110187110187,
           4793.873873873874
          ],
          "sizemin": 4,
          "sizemode": "area",
          "sizeref": 32.06864161849711
         },
         "mode": "markers+text",
         "text": [
          "SAN JUAN DE LURIGANCHO",
          "ANCON",
          "COMAS",
          "LURIN",
          "VILLA EL SALVADOR",
          "EL AGUSTINO",
          "ATE",
          "SANTA ANITA",
          "VILLA MARIA DEL TRIUNFO",
          "SAN JUAN DE MIRAFLORES",
          "LOS OLIVOS",
          "SAN MARTIN DE PORRES",
          "INDEPENDENCIA",
          "CHORRILLOS",
          "CARABAYLLO",
          "LA VICTORIA",
          "PUENTE PIEDRA",
          "RIMAC",
          "LIMA",
          "PACHACAMAC",
          "PUCUSANA",
          "SANTA ROSA",
          "CHACLACAYO",
          "LURIGANCHO",
          "BARRANCO",
          "SANTIAGO DE SURCO",
          "SURQUILLO",
          "SAN LUIS",
          "LA MOLINA",
          "BREÑA",
          "PUEBLO LIBRE",
          "LINCE",
          "CIENEGUILLA",
          "SAN MIGUEL",
          "JESUS MARIA",
          "MAGDALENA DEL MAR",
          "SAN BORJA",
          "MIRAFLORES",
          "SAN ISIDRO"
         ],
         "textfont": {
          "color": "black",
          "size": 10
         },
         "textposition": "top center",
         "type": "scatter",
         "x": [
          10.06,
          9.34,
          10.97,
          9.83,
          10,
          9.64,
          9.21,
          10.52,
          9.76,
          10.36,
          11.34,
          11.08,
          8.82,
          11.46,
          9.22,
          10.52,
          9.63,
          10.64,
          12.01,
          9.28,
          9.32,
          9.92,
          11.21,
          10,
          12.59,
          13.16,
          12.3,
          11.78,
          14.7,
          12.91,
          13.18,
          12.7,
          9.02,
          12.78,
          13.04,
          13,
          13.64,
          13.97,
          13.86
         ],
         "y": [
          460.37991858887375,
          455.88235294117646,
          434.7732181425486,
          391.66666666666663,
          383.1134564643799,
          354.6938775510204,
          350.4761904761905,
          348.8479262672811,
          343.4666666666667,
          338.36633663366337,
          338.2838283828383,
          335.1824817518248,
          332,
          331.0810810810811,
          317.6470588235294,
          308.9430894308943,
          296.9298245614035,
          290.5084745762712,
          268.0821917808219,
          255.73770491803282,
          253.84615384615384,
          223.0769230769231,
          210.3448275862069,
          198.21428571428572,
          195.65217391304347,
          190.59633027522935,
          189.937106918239,
          185,
          179.88165680473372,
          173.70689655172413,
          163.12849162011173,
          156.64739884393063,
          147.61904761904762,
          145.41984732824426,
          136.0655737704918,
          121.27659574468086,
          117.07317073170731,
          95.19999999999999,
          90.84967320261438
         ]
        }
       ],
       "layout": {
        "legend": {
         "title": {
          "text": "Año"
         }
        },
        "template": {
         "data": {
          "bar": [
           {
            "error_x": {
             "color": "#2a3f5f"
            },
            "error_y": {
             "color": "#2a3f5f"
            },
            "marker": {
             "line": {
              "color": "#E5ECF6",
              "width": 0.5
             }
            },
            "type": "bar"
           }
          ],
          "barpolar": [
           {
            "marker": {
             "line": {
              "color": "#E5ECF6",
              "width": 0.5
             }
            },
            "type": "barpolar"
           }
          ],
          "carpet": [
           {
            "aaxis": {
             "endlinecolor": "#2a3f5f",
             "gridcolor": "white",
             "linecolor": "white",
             "minorgridcolor": "white",
             "startlinecolor": "#2a3f5f"
            },
            "baxis": {
             "endlinecolor": "#2a3f5f",
             "gridcolor": "white",
             "linecolor": "white",
             "minorgridcolor": "white",
             "startlinecolor": "#2a3f5f"
            },
            "type": "carpet"
           }
          ],
          "choropleth": [
           {
            "colorbar": {
             "outlinewidth": 0,
             "ticks": ""
            },
            "type": "choropleth"
           }
          ],
          "contour": [
           {
            "colorbar": {
             "outlinewidth": 0,
             "ticks": ""
            },
            "colorscale": [
             [
              0,
              "#0d0887"
             ],
             [
              0.1111111111111111,
              "#46039f"
             ],
             [
              0.2222222222222222,
              "#7201a8"
             ],
             [
              0.3333333333333333,
              "#9c179e"
             ],
             [
              0.4444444444444444,
              "#bd3786"
             ],
             [
              0.5555555555555556,
              "#d8576b"
             ],
             [
              0.6666666666666666,
              "#ed7953"
             ],
             [
              0.7777777777777778,
              "#fb9f3a"
             ],
             [
              0.8888888888888888,
              "#fdca26"
             ],
             [
              1,
              "#f0f921"
             ]
            ],
            "type": "contour"
           }
          ],
          "contourcarpet": [
           {
            "colorbar": {
             "outlinewidth": 0,
             "ticks": ""
            },
            "type": "contourcarpet"
           }
          ],
          "heatmap": [
           {
            "colorbar": {
             "outlinewidth": 0,
             "ticks": ""
            },
            "colorscale": [
             [
              0,
              "#0d0887"
             ],
             [
              0.1111111111111111,
              "#46039f"
             ],
             [
              0.2222222222222222,
              "#7201a8"
             ],
             [
              0.3333333333333333,
              "#9c179e"
             ],
             [
              0.4444444444444444,
              "#bd3786"
             ],
             [
              0.5555555555555556,
              "#d8576b"
             ],
             [
              0.6666666666666666,
              "#ed7953"
             ],
             [
              0.7777777777777778,
              "#fb9f3a"
             ],
             [
              0.8888888888888888,
              "#fdca26"
             ],
             [
              1,
              "#f0f921"
             ]
            ],
            "type": "heatmap"
           }
          ],
          "heatmapgl": [
           {
            "colorbar": {
             "outlinewidth": 0,
             "ticks": ""
            },
            "colorscale": [
             [
              0,
              "#0d0887"
             ],
             [
              0.1111111111111111,
              "#46039f"
             ],
             [
              0.2222222222222222,
              "#7201a8"
             ],
             [
              0.3333333333333333,
              "#9c179e"
             ],
             [
              0.4444444444444444,
              "#bd3786"
             ],
             [
              0.5555555555555556,
              "#d8576b"
             ],
             [
              0.6666666666666666,
              "#ed7953"
             ],
             [
              0.7777777777777778,
              "#fb9f3a"
             ],
             [
              0.8888888888888888,
              "#fdca26"
             ],
             [
              1,
              "#f0f921"
             ]
            ],
            "type": "heatmapgl"
           }
          ],
          "histogram": [
           {
            "marker": {
             "colorbar": {
              "outlinewidth": 0,
              "ticks": ""
             }
            },
            "type": "histogram"
           }
          ],
          "histogram2d": [
           {
            "colorbar": {
             "outlinewidth": 0,
             "ticks": ""
            },
            "colorscale": [
             [
              0,
              "#0d0887"
             ],
             [
              0.1111111111111111,
              "#46039f"
             ],
             [
              0.2222222222222222,
              "#7201a8"
             ],
             [
              0.3333333333333333,
              "#9c179e"
             ],
             [
              0.4444444444444444,
              "#bd3786"
             ],
             [
              0.5555555555555556,
              "#d8576b"
             ],
             [
              0.6666666666666666,
              "#ed7953"
             ],
             [
              0.7777777777777778,
              "#fb9f3a"
             ],
             [
              0.8888888888888888,
              "#fdca26"
             ],
             [
              1,
              "#f0f921"
             ]
            ],
            "type": "histogram2d"
           }
          ],
          "histogram2dcontour": [
           {
            "colorbar": {
             "outlinewidth": 0,
             "ticks": ""
            },
            "colorscale": [
             [
              0,
              "#0d0887"
             ],
             [
              0.1111111111111111,
              "#46039f"
             ],
             [
              0.2222222222222222,
              "#7201a8"
             ],
             [
              0.3333333333333333,
              "#9c179e"
             ],
             [
              0.4444444444444444,
              "#bd3786"
             ],
             [
              0.5555555555555556,
              "#d8576b"
             ],
             [
              0.6666666666666666,
              "#ed7953"
             ],
             [
              0.7777777777777778,
              "#fb9f3a"
             ],
             [
              0.8888888888888888,
              "#fdca26"
             ],
             [
              1,
              "#f0f921"
             ]
            ],
            "type": "histogram2dcontour"
           }
          ],
          "mesh3d": [
           {
            "colorbar": {
             "outlinewidth": 0,
             "ticks": ""
            },
            "type": "mesh3d"
           }
          ],
          "parcoords": [
           {
            "line": {
             "colorbar": {
              "outlinewidth": 0,
              "ticks": ""
             }
            },
            "type": "parcoords"
           }
          ],
          "pie": [
           {
            "automargin": true,
            "type": "pie"
           }
          ],
          "scatter": [
           {
            "marker": {
             "colorbar": {
              "outlinewidth": 0,
              "ticks": ""
             }
            },
            "type": "scatter"
           }
          ],
          "scatter3d": [
           {
            "line": {
             "colorbar": {
              "outlinewidth": 0,
              "ticks": ""
             }
            },
            "marker": {
             "colorbar": {
              "outlinewidth": 0,
              "ticks": ""
             }
            },
            "type": "scatter3d"
           }
          ],
          "scattercarpet": [
           {
            "marker": {
             "colorbar": {
              "outlinewidth": 0,
              "ticks": ""
             }
            },
            "type": "scattercarpet"
           }
          ],
          "scattergeo": [
           {
            "marker": {
             "colorbar": {
              "outlinewidth": 0,
              "ticks": ""
             }
            },
            "type": "scattergeo"
           }
          ],
          "scattergl": [
           {
            "marker": {
             "colorbar": {
              "outlinewidth": 0,
              "ticks": ""
             }
            },
            "type": "scattergl"
           }
          ],
          "scattermapbox": [
           {
            "marker": {
             "colorbar": {
              "outlinewidth": 0,
              "ticks": ""
             }
            },
            "type": "scattermapbox"
           }
          ],
          "scatterpolar": [
           {
            "marker": {
             "colorbar": {
              "outlinewidth": 0,
              "ticks": ""
             }
            },
            "type": "scatterpolar"
           }
          ],
          "scatterpolargl": [
           {
            "marker": {
             "colorbar": {
              "outlinewidth": 0,
              "ticks": ""
             }
            },
            "type": "scatterpolargl"
           }
          ],
          "scatterternary": [
           {
            "marker": {
             "colorbar": {
              "outlinewidth": 0,
              "ticks": ""
             }
            },
            "type": "scatterternary"
           }
          ],
          "surface": [
           {
            "colorbar": {
             "outlinewidth": 0,
             "ticks": ""
            },
            "colorscale": [
             [
              0,
              "#0d0887"
             ],
             [
              0.1111111111111111,
              "#46039f"
             ],
             [
              0.2222222222222222,
              "#7201a8"
             ],
             [
              0.3333333333333333,
              "#9c179e"
             ],
             [
              0.4444444444444444,
              "#bd3786"
             ],
             [
              0.5555555555555556,
              "#d8576b"
             ],
             [
              0.6666666666666666,
              "#ed7953"
             ],
             [
              0.7777777777777778,
              "#fb9f3a"
             ],
             [
              0.8888888888888888,
              "#fdca26"
             ],
             [
              1,
              "#f0f921"
             ]
            ],
            "type": "surface"
           }
          ],
          "table": [
           {
            "cells": {
             "fill": {
              "color": "#EBF0F8"
             },
             "line": {
              "color": "white"
             }
            },
            "header": {
             "fill": {
              "color": "#C8D4E3"
             },
             "line": {
              "color": "white"
             }
            },
            "type": "table"
           }
          ]
         },
         "layout": {
          "annotationdefaults": {
           "arrowcolor": "#2a3f5f",
           "arrowhead": 0,
           "arrowwidth": 1
          },
          "coloraxis": {
           "colorbar": {
            "outlinewidth": 0,
            "ticks": ""
           }
          },
          "colorscale": {
           "diverging": [
            [
             0,
             "#8e0152"
            ],
            [
             0.1,
             "#c51b7d"
            ],
            [
             0.2,
             "#de77ae"
            ],
            [
             0.3,
             "#f1b6da"
            ],
            [
             0.4,
             "#fde0ef"
            ],
            [
             0.5,
             "#f7f7f7"
            ],
            [
             0.6,
             "#e6f5d0"
            ],
            [
             0.7,
             "#b8e186"
            ],
            [
             0.8,
             "#7fbc41"
            ],
            [
             0.9,
             "#4d9221"
            ],
            [
             1,
             "#276419"
            ]
           ],
           "sequential": [
            [
             0,
             "#0d0887"
            ],
            [
             0.1111111111111111,
             "#46039f"
            ],
            [
             0.2222222222222222,
             "#7201a8"
            ],
            [
             0.3333333333333333,
             "#9c179e"
            ],
            [
             0.4444444444444444,
             "#bd3786"
            ],
            [
             0.5555555555555556,
             "#d8576b"
            ],
            [
             0.6666666666666666,
             "#ed7953"
            ],
            [
             0.7777777777777778,
             "#fb9f3a"
            ],
            [
             0.8888888888888888,
             "#fdca26"
            ],
            [
             1,
             "#f0f921"
            ]
           ],
           "sequentialminus": [
            [
             0,
             "#0d0887"
            ],
            [
             0.1111111111111111,
             "#46039f"
            ],
            [
             0.2222222222222222,
             "#7201a8"
            ],
            [
             0.3333333333333333,
             "#9c179e"
            ],
            [
             0.4444444444444444,
             "#bd3786"
            ],
            [
             0.5555555555555556,
             "#d8576b"
            ],
            [
             0.6666666666666666,
             "#ed7953"
            ],
            [
             0.7777777777777778,
             "#fb9f3a"
            ],
            [
             0.8888888888888888,
             "#fdca26"
            ],
            [
             1,
             "#f0f921"
            ]
           ]
          },
          "colorway": [
           "#636efa",
           "#EF553B",
           "#00cc96",
           "#ab63fa",
           "#FFA15A",
           "#19d3f3",
           "#FF6692",
           "#B6E880",
           "#FF97FF",
           "#FECB52"
          ],
          "font": {
           "color": "#2a3f5f"
          },
          "geo": {
           "bgcolor": "white",
           "lakecolor": "white",
           "landcolor": "#E5ECF6",
           "showlakes": true,
           "showland": true,
           "subunitcolor": "white"
          },
          "hoverlabel": {
           "align": "left"
          },
          "hovermode": "closest",
          "mapbox": {
           "style": "light"
          },
          "paper_bgcolor": "white",
          "plot_bgcolor": "#E5ECF6",
          "polar": {
           "angularaxis": {
            "gridcolor": "white",
            "linecolor": "white",
            "ticks": ""
           },
           "bgcolor": "#E5ECF6",
           "radialaxis": {
            "gridcolor": "white",
            "linecolor": "white",
            "ticks": ""
           }
          },
          "scene": {
           "xaxis": {
            "backgroundcolor": "#E5ECF6",
            "gridcolor": "white",
            "gridwidth": 2,
            "linecolor": "white",
            "showbackground": true,
            "ticks": "",
            "zerolinecolor": "white"
           },
           "yaxis": {
            "backgroundcolor": "#E5ECF6",
            "gridcolor": "white",
            "gridwidth": 2,
            "linecolor": "white",
            "showbackground": true,
            "ticks": "",
            "zerolinecolor": "white"
           },
           "zaxis": {
            "backgroundcolor": "#E5ECF6",
            "gridcolor": "white",
            "gridwidth": 2,
            "linecolor": "white",
            "showbackground": true,
            "ticks": "",
            "zerolinecolor": "white"
           }
          },
          "shapedefaults": {
           "line": {
            "color": "#2a3f5f"
           }
          },
          "ternary": {
           "aaxis": {
            "gridcolor": "white",
            "linecolor": "white",
            "ticks": ""
           },
           "baxis": {
            "gridcolor": "white",
            "linecolor": "white",
            "ticks": ""
           },
           "bgcolor": "#E5ECF6",
           "caxis": {
            "gridcolor": "white",
            "linecolor": "white",
            "ticks": ""
           }
          },
          "title": {
           "x": 0.05
          },
          "xaxis": {
           "automargin": true,
           "gridcolor": "white",
           "linecolor": "white",
           "ticks": "",
           "title": {
            "standoff": 15
           },
           "zerolinecolor": "white",
           "zerolinewidth": 2
          },
          "yaxis": {
           "automargin": true,
           "gridcolor": "white",
           "linecolor": "white",
           "ticks": "",
           "title": {
            "standoff": 15
           },
           "zerolinecolor": "white",
           "zerolinewidth": 2
          }
         }
        },
        "title": {
         "text": "Fallecimientos - Distritos Perú"
        },
        "xaxis": {
         "title": {
          "text": "Años de Educación (Población 25 y más)"
         }
        },
        "yaxis": {
         "title": {
          "text": "Incremento Relativo de Fallecimientos (2020-2019) (%)"
         }
        }
       }
      },
      "text/html": [
       "<div>\n",
       "        \n",
       "        \n",
       "            <div id=\"268473be-d7e7-4e4f-ba9b-36d64c495b90\" class=\"plotly-graph-div\" style=\"height:525px; width:100%;\"></div>\n",
       "            <script type=\"text/javascript\">\n",
       "                require([\"plotly\"], function(Plotly) {\n",
       "                    window.PLOTLYENV=window.PLOTLYENV || {};\n",
       "                    \n",
       "                if (document.getElementById(\"268473be-d7e7-4e4f-ba9b-36d64c495b90\")) {\n",
       "                    Plotly.newPlot(\n",
       "                        '268473be-d7e7-4e4f-ba9b-36d64c495b90',\n",
       "                        [{\"hovertext\": [\"8764.08 hab/km2\", \"183.66 hab/km2\", \"10871.79 hab/km2\", \"529.53 hab/km2\", \"12948.7 hab/km2\", \"16218.5 hab/km2\", \"8812.69 hab/km2\", \"21500.0 hab/km2\", \"6414.34 hab/km2\", \"16043.74 hab/km2\", \"19944.55 hab/km2\", \"20032.95 hab/km2\", \"14916.0 hab/km2\", \"8568.44 hab/km2\", \"1028.75 hab/km2\", \"17950.57 hab/km2\", \"5390.55 hab/km2\", \"13206.4 hab/km2\", \"11462.8 hab/km2\", \"879.85 hab/km2\", \"504.47 hab/km2\", \"1237.35 hab/km2\", \"1107.75 hab/km2\", \"1078.97 hab/km2\", \"8252.85 hab/km2\", \"10353.29 hab/km2\", \"25654.91 hab/km2\", \"15379.08 hab/km2\", \"2446.22 hab/km2\", \"23477.64 hab/km2\", \"17975.11 hab/km2\", \"15280.2 hab/km2\", \"200.81 hab/km2\", \"13702.05 hab/km2\", \"16383.59 hab/km2\", \"16032.96 hab/km2\", \"10701.31 hab/km2\", \"9137.11 hab/km2\", \"4793.87 hab/km2\"], \"marker\": {\"size\": [8764.076190476191, 183.6641935699485, 10871.794871794871, 529.532906360424, 12948.702763677382, 16218.500797448167, 8812.686567164179, 21500.0, 6414.340371262577, 16043.744787322768, 19944.54794520548, 20032.94500135465, 14916.002747252747, 8568.43862352337, 1028.7534594095941, 17950.572082379862, 5390.545096937341, 13206.402695871948, 11462.797074954296, 879.8477189040755, 504.46735395189006, 1237.3488372093022, 1107.746835443038, 1078.969848183702, 8252.852852852853, 10353.294964028777, 25654.913294797687, 15379.083094555874, 2446.2205323193916, 23477.639751552793, 17975.114155251144, 15280.198019801981, 200.8113843465235, 13702.052238805969, 16383.5886214442, 16032.963988919668, 10701.305220883532, 9137.110187110187, 4793.873873873874], \"sizemin\": 4, \"sizemode\": \"area\", \"sizeref\": 32.06864161849711}, \"mode\": \"markers+text\", \"text\": [\"SAN JUAN DE LURIGANCHO\", \"ANCON\", \"COMAS\", \"LURIN\", \"VILLA EL SALVADOR\", \"EL AGUSTINO\", \"ATE\", \"SANTA ANITA\", \"VILLA MARIA DEL TRIUNFO\", \"SAN JUAN DE MIRAFLORES\", \"LOS OLIVOS\", \"SAN MARTIN DE PORRES\", \"INDEPENDENCIA\", \"CHORRILLOS\", \"CARABAYLLO\", \"LA VICTORIA\", \"PUENTE PIEDRA\", \"RIMAC\", \"LIMA\", \"PACHACAMAC\", \"PUCUSANA\", \"SANTA ROSA\", \"CHACLACAYO\", \"LURIGANCHO\", \"BARRANCO\", \"SANTIAGO DE SURCO\", \"SURQUILLO\", \"SAN LUIS\", \"LA MOLINA\", \"BRE\\u00d1A\", \"PUEBLO LIBRE\", \"LINCE\", \"CIENEGUILLA\", \"SAN MIGUEL\", \"JESUS MARIA\", \"MAGDALENA DEL MAR\", \"SAN BORJA\", \"MIRAFLORES\", \"SAN ISIDRO\"], \"textfont\": {\"color\": \"black\", \"size\": 10}, \"textposition\": \"top center\", \"type\": \"scatter\", \"x\": [10.06, 9.34, 10.97, 9.83, 10.0, 9.64, 9.21, 10.52, 9.76, 10.36, 11.34, 11.08, 8.82, 11.46, 9.22, 10.52, 9.63, 10.64, 12.01, 9.28, 9.32, 9.92, 11.21, 10.0, 12.59, 13.16, 12.3, 11.78, 14.7, 12.91, 13.18, 12.7, 9.02, 12.78, 13.04, 13.0, 13.64, 13.97, 13.86], \"y\": [460.37991858887375, 455.88235294117646, 434.7732181425486, 391.66666666666663, 383.1134564643799, 354.6938775510204, 350.4761904761905, 348.8479262672811, 343.4666666666667, 338.36633663366337, 338.2838283828383, 335.1824817518248, 332.0, 331.0810810810811, 317.6470588235294, 308.9430894308943, 296.9298245614035, 290.5084745762712, 268.0821917808219, 255.73770491803282, 253.84615384615384, 223.0769230769231, 210.3448275862069, 198.21428571428572, 195.65217391304347, 190.59633027522935, 189.937106918239, 185.0, 179.88165680473372, 173.70689655172413, 163.12849162011173, 156.64739884393063, 147.61904761904762, 145.41984732824426, 136.0655737704918, 121.27659574468086, 117.07317073170731, 95.19999999999999, 90.84967320261438]}],\n",
       "                        {\"legend\": {\"title\": {\"text\": \"A\\u00f1o\"}}, \"template\": {\"data\": {\"bar\": [{\"error_x\": {\"color\": \"#2a3f5f\"}, \"error_y\": {\"color\": \"#2a3f5f\"}, \"marker\": {\"line\": {\"color\": \"#E5ECF6\", \"width\": 0.5}}, \"type\": \"bar\"}], \"barpolar\": [{\"marker\": {\"line\": {\"color\": \"#E5ECF6\", \"width\": 0.5}}, \"type\": \"barpolar\"}], \"carpet\": [{\"aaxis\": {\"endlinecolor\": \"#2a3f5f\", \"gridcolor\": \"white\", \"linecolor\": \"white\", \"minorgridcolor\": \"white\", \"startlinecolor\": \"#2a3f5f\"}, \"baxis\": {\"endlinecolor\": \"#2a3f5f\", \"gridcolor\": \"white\", \"linecolor\": \"white\", \"minorgridcolor\": \"white\", \"startlinecolor\": \"#2a3f5f\"}, \"type\": \"carpet\"}], \"choropleth\": [{\"colorbar\": {\"outlinewidth\": 0, \"ticks\": \"\"}, \"type\": \"choropleth\"}], \"contour\": [{\"colorbar\": {\"outlinewidth\": 0, \"ticks\": \"\"}, \"colorscale\": [[0.0, \"#0d0887\"], [0.1111111111111111, \"#46039f\"], [0.2222222222222222, \"#7201a8\"], [0.3333333333333333, \"#9c179e\"], [0.4444444444444444, \"#bd3786\"], [0.5555555555555556, \"#d8576b\"], [0.6666666666666666, \"#ed7953\"], [0.7777777777777778, \"#fb9f3a\"], [0.8888888888888888, \"#fdca26\"], [1.0, \"#f0f921\"]], \"type\": \"contour\"}], \"contourcarpet\": [{\"colorbar\": {\"outlinewidth\": 0, \"ticks\": \"\"}, \"type\": \"contourcarpet\"}], \"heatmap\": [{\"colorbar\": {\"outlinewidth\": 0, \"ticks\": \"\"}, \"colorscale\": [[0.0, \"#0d0887\"], [0.1111111111111111, \"#46039f\"], [0.2222222222222222, \"#7201a8\"], [0.3333333333333333, \"#9c179e\"], [0.4444444444444444, \"#bd3786\"], [0.5555555555555556, \"#d8576b\"], [0.6666666666666666, \"#ed7953\"], [0.7777777777777778, \"#fb9f3a\"], [0.8888888888888888, \"#fdca26\"], [1.0, \"#f0f921\"]], \"type\": \"heatmap\"}], \"heatmapgl\": [{\"colorbar\": {\"outlinewidth\": 0, \"ticks\": \"\"}, \"colorscale\": [[0.0, \"#0d0887\"], [0.1111111111111111, \"#46039f\"], [0.2222222222222222, \"#7201a8\"], [0.3333333333333333, \"#9c179e\"], [0.4444444444444444, \"#bd3786\"], [0.5555555555555556, \"#d8576b\"], [0.6666666666666666, \"#ed7953\"], [0.7777777777777778, \"#fb9f3a\"], [0.8888888888888888, \"#fdca26\"], [1.0, \"#f0f921\"]], \"type\": \"heatmapgl\"}], \"histogram\": [{\"marker\": {\"colorbar\": {\"outlinewidth\": 0, \"ticks\": \"\"}}, \"type\": \"histogram\"}], \"histogram2d\": [{\"colorbar\": {\"outlinewidth\": 0, \"ticks\": \"\"}, \"colorscale\": [[0.0, \"#0d0887\"], [0.1111111111111111, \"#46039f\"], [0.2222222222222222, \"#7201a8\"], [0.3333333333333333, \"#9c179e\"], [0.4444444444444444, \"#bd3786\"], [0.5555555555555556, \"#d8576b\"], [0.6666666666666666, \"#ed7953\"], [0.7777777777777778, \"#fb9f3a\"], [0.8888888888888888, \"#fdca26\"], [1.0, \"#f0f921\"]], \"type\": \"histogram2d\"}], \"histogram2dcontour\": [{\"colorbar\": {\"outlinewidth\": 0, \"ticks\": \"\"}, \"colorscale\": [[0.0, \"#0d0887\"], [0.1111111111111111, \"#46039f\"], [0.2222222222222222, \"#7201a8\"], [0.3333333333333333, \"#9c179e\"], [0.4444444444444444, \"#bd3786\"], [0.5555555555555556, \"#d8576b\"], [0.6666666666666666, \"#ed7953\"], [0.7777777777777778, \"#fb9f3a\"], [0.8888888888888888, \"#fdca26\"], [1.0, \"#f0f921\"]], \"type\": \"histogram2dcontour\"}], \"mesh3d\": [{\"colorbar\": {\"outlinewidth\": 0, \"ticks\": \"\"}, \"type\": \"mesh3d\"}], \"parcoords\": [{\"line\": {\"colorbar\": {\"outlinewidth\": 0, \"ticks\": \"\"}}, \"type\": \"parcoords\"}], \"pie\": [{\"automargin\": true, \"type\": \"pie\"}], \"scatter\": [{\"marker\": {\"colorbar\": {\"outlinewidth\": 0, \"ticks\": \"\"}}, \"type\": \"scatter\"}], \"scatter3d\": [{\"line\": {\"colorbar\": {\"outlinewidth\": 0, \"ticks\": \"\"}}, \"marker\": {\"colorbar\": {\"outlinewidth\": 0, \"ticks\": \"\"}}, \"type\": \"scatter3d\"}], \"scattercarpet\": [{\"marker\": {\"colorbar\": {\"outlinewidth\": 0, \"ticks\": \"\"}}, \"type\": \"scattercarpet\"}], \"scattergeo\": [{\"marker\": {\"colorbar\": {\"outlinewidth\": 0, \"ticks\": \"\"}}, \"type\": \"scattergeo\"}], \"scattergl\": [{\"marker\": {\"colorbar\": {\"outlinewidth\": 0, \"ticks\": \"\"}}, \"type\": \"scattergl\"}], \"scattermapbox\": [{\"marker\": {\"colorbar\": {\"outlinewidth\": 0, \"ticks\": \"\"}}, \"type\": \"scattermapbox\"}], \"scatterpolar\": [{\"marker\": {\"colorbar\": {\"outlinewidth\": 0, \"ticks\": \"\"}}, \"type\": \"scatterpolar\"}], \"scatterpolargl\": [{\"marker\": {\"colorbar\": {\"outlinewidth\": 0, \"ticks\": \"\"}}, \"type\": \"scatterpolargl\"}], \"scatterternary\": [{\"marker\": {\"colorbar\": {\"outlinewidth\": 0, \"ticks\": \"\"}}, \"type\": \"scatterternary\"}], \"surface\": [{\"colorbar\": {\"outlinewidth\": 0, \"ticks\": \"\"}, \"colorscale\": [[0.0, \"#0d0887\"], [0.1111111111111111, \"#46039f\"], [0.2222222222222222, \"#7201a8\"], [0.3333333333333333, \"#9c179e\"], [0.4444444444444444, \"#bd3786\"], [0.5555555555555556, \"#d8576b\"], [0.6666666666666666, \"#ed7953\"], [0.7777777777777778, \"#fb9f3a\"], [0.8888888888888888, \"#fdca26\"], [1.0, \"#f0f921\"]], \"type\": \"surface\"}], \"table\": [{\"cells\": {\"fill\": {\"color\": \"#EBF0F8\"}, \"line\": {\"color\": \"white\"}}, \"header\": {\"fill\": {\"color\": \"#C8D4E3\"}, \"line\": {\"color\": \"white\"}}, \"type\": \"table\"}]}, \"layout\": {\"annotationdefaults\": {\"arrowcolor\": \"#2a3f5f\", \"arrowhead\": 0, \"arrowwidth\": 1}, \"coloraxis\": {\"colorbar\": {\"outlinewidth\": 0, \"ticks\": \"\"}}, \"colorscale\": {\"diverging\": [[0, \"#8e0152\"], [0.1, \"#c51b7d\"], [0.2, \"#de77ae\"], [0.3, \"#f1b6da\"], [0.4, \"#fde0ef\"], [0.5, \"#f7f7f7\"], [0.6, \"#e6f5d0\"], [0.7, \"#b8e186\"], [0.8, \"#7fbc41\"], [0.9, \"#4d9221\"], [1, \"#276419\"]], \"sequential\": [[0.0, \"#0d0887\"], [0.1111111111111111, \"#46039f\"], [0.2222222222222222, \"#7201a8\"], [0.3333333333333333, \"#9c179e\"], [0.4444444444444444, \"#bd3786\"], [0.5555555555555556, \"#d8576b\"], [0.6666666666666666, \"#ed7953\"], [0.7777777777777778, \"#fb9f3a\"], [0.8888888888888888, \"#fdca26\"], [1.0, \"#f0f921\"]], \"sequentialminus\": [[0.0, \"#0d0887\"], [0.1111111111111111, \"#46039f\"], [0.2222222222222222, \"#7201a8\"], [0.3333333333333333, \"#9c179e\"], [0.4444444444444444, \"#bd3786\"], [0.5555555555555556, \"#d8576b\"], [0.6666666666666666, \"#ed7953\"], [0.7777777777777778, \"#fb9f3a\"], [0.8888888888888888, \"#fdca26\"], [1.0, \"#f0f921\"]]}, \"colorway\": [\"#636efa\", \"#EF553B\", \"#00cc96\", \"#ab63fa\", \"#FFA15A\", \"#19d3f3\", \"#FF6692\", \"#B6E880\", \"#FF97FF\", \"#FECB52\"], \"font\": {\"color\": \"#2a3f5f\"}, \"geo\": {\"bgcolor\": \"white\", \"lakecolor\": \"white\", \"landcolor\": \"#E5ECF6\", \"showlakes\": true, \"showland\": true, \"subunitcolor\": \"white\"}, \"hoverlabel\": {\"align\": \"left\"}, \"hovermode\": \"closest\", \"mapbox\": {\"style\": \"light\"}, \"paper_bgcolor\": \"white\", \"plot_bgcolor\": \"#E5ECF6\", \"polar\": {\"angularaxis\": {\"gridcolor\": \"white\", \"linecolor\": \"white\", \"ticks\": \"\"}, \"bgcolor\": \"#E5ECF6\", \"radialaxis\": {\"gridcolor\": \"white\", \"linecolor\": \"white\", \"ticks\": \"\"}}, \"scene\": {\"xaxis\": {\"backgroundcolor\": \"#E5ECF6\", \"gridcolor\": \"white\", \"gridwidth\": 2, \"linecolor\": \"white\", \"showbackground\": true, \"ticks\": \"\", \"zerolinecolor\": \"white\"}, \"yaxis\": {\"backgroundcolor\": \"#E5ECF6\", \"gridcolor\": \"white\", \"gridwidth\": 2, \"linecolor\": \"white\", \"showbackground\": true, \"ticks\": \"\", \"zerolinecolor\": \"white\"}, \"zaxis\": {\"backgroundcolor\": \"#E5ECF6\", \"gridcolor\": \"white\", \"gridwidth\": 2, \"linecolor\": \"white\", \"showbackground\": true, \"ticks\": \"\", \"zerolinecolor\": \"white\"}}, \"shapedefaults\": {\"line\": {\"color\": \"#2a3f5f\"}}, \"ternary\": {\"aaxis\": {\"gridcolor\": \"white\", \"linecolor\": \"white\", \"ticks\": \"\"}, \"baxis\": {\"gridcolor\": \"white\", \"linecolor\": \"white\", \"ticks\": \"\"}, \"bgcolor\": \"#E5ECF6\", \"caxis\": {\"gridcolor\": \"white\", \"linecolor\": \"white\", \"ticks\": \"\"}}, \"title\": {\"x\": 0.05}, \"xaxis\": {\"automargin\": true, \"gridcolor\": \"white\", \"linecolor\": \"white\", \"ticks\": \"\", \"title\": {\"standoff\": 15}, \"zerolinecolor\": \"white\", \"zerolinewidth\": 2}, \"yaxis\": {\"automargin\": true, \"gridcolor\": \"white\", \"linecolor\": \"white\", \"ticks\": \"\", \"title\": {\"standoff\": 15}, \"zerolinecolor\": \"white\", \"zerolinewidth\": 2}}}, \"title\": {\"text\": \"Fallecimientos - Distritos Per\\u00fa\"}, \"xaxis\": {\"title\": {\"text\": \"A\\u00f1os de Educaci\\u00f3n (Poblaci\\u00f3n 25 y m\\u00e1s)\"}}, \"yaxis\": {\"title\": {\"text\": \"Incremento Relativo de Fallecimientos (2020-2019) (%)\"}}},\n",
       "                        {\"responsive\": true}\n",
       "                    ).then(function(){\n",
       "                            \n",
       "var gd = document.getElementById('268473be-d7e7-4e4f-ba9b-36d64c495b90');\n",
       "var x = new MutationObserver(function (mutations, observer) {{\n",
       "        var display = window.getComputedStyle(gd).display;\n",
       "        if (!display || display === 'none') {{\n",
       "            console.log([gd, 'removed!']);\n",
       "            Plotly.purge(gd);\n",
       "            observer.disconnect();\n",
       "        }}\n",
       "}});\n",
       "\n",
       "// Listen for the removal of the full notebook cells\n",
       "var notebookContainer = gd.closest('#notebook-container');\n",
       "if (notebookContainer) {{\n",
       "    x.observe(notebookContainer, {childList: true});\n",
       "}}\n",
       "\n",
       "// Listen for the clearing of the current output cell\n",
       "var outputEl = gd.closest('.output');\n",
       "if (outputEl) {{\n",
       "    x.observe(outputEl, {childList: true});\n",
       "}}\n",
       "\n",
       "                        })\n",
       "                };\n",
       "                });\n",
       "            </script>\n",
       "        </div>"
      ]
     },
     "metadata": {},
     "output_type": "display_data"
    }
   ],
   "source": [
    "traza_densidad = Scatter(\n",
    "  x=final_distrito_demo[\"Años Educación\"],\n",
    "  y=final_distrito_demo[\"Incremento Relativo (2020-2019) (%)\"],\n",
    "  text=final_distrito_demo[\"Distrito\"].astype(str),\n",
    "  hovertext= (final_distrito_demo[\"Densidad\"]).round(2).astype(str)+\" hab/km2\",\n",
    "  textposition=\"top center\",\n",
    "  textfont=dict(\n",
    "                color=\"black\",\n",
    "                size=10\n",
    "            ),\n",
    "  mode='markers+text',\n",
    "  marker=dict(\n",
    "        size=final_distrito_demo[\"Densidad\"],\n",
    "        sizemode='area',\n",
    "        sizeref=2.*max(final_distrito_demo[\"Densidad\"])/(40.**2),\n",
    "        sizemin=4\n",
    "    )\n",
    ")\n",
    "\n",
    "fig = go.Figure(data=traza_densidad)\n",
    "fig.update_layout(\n",
    "    title=\"Fallecimientos - Distritos Perú\",\n",
    "    xaxis_title=\"Años de Educación (Población 25 y más)\",\n",
    "    yaxis_title=\"Incremento Relativo de Fallecimientos (2020-2019) (%)\",\n",
    "    legend_title=\"Año\"\n",
    ")\n",
    "\n",
    "fig.show()"
   ]
  },
  {
   "cell_type": "markdown",
   "metadata": {},
   "source": [
    "**Puede que los distritos de Cieneguilla, Pucusana, Pachacamac, Santa Rosa y Lurigancho no tengan un incremento relativo de fallecimientos tan alto debido a la baja densidad de población que encontramos en dichos distritos, a pesar de tener menos años de educación. Sin embargo, hay lugares que teniendo una densidad de población bastante baja se ven claramente perjudicados igualmente, por ejemplo, Ancon y Lurín. ¿gente que necesita desplazarse mucho a otros distritos para trabajar? o ¿demasiada concentración de población en un solo punto (a pesar de que haya más área)?**"
   ]
  },
  {
   "cell_type": "code",
   "execution_count": 110,
   "metadata": {},
   "outputs": [],
   "source": [
    "_ = \"\"\"\n",
    "traza_3d = Scatter3d(\n",
    "  x=final_distrito_demo[\"IDH\"],\n",
    "  z=final_distrito_demo[\"Incremento Relativo (2020-2019) (%)\"],\n",
    "  y = final_distrito_demo[\"Densidad\"],\n",
    "  text=final_distrito_demo[\"Distrito\"].astype(str),\n",
    "  textposition=\"top center\",\n",
    "  textfont=dict(\n",
    "                color=\"black\",\n",
    "                size=10\n",
    "            ),\n",
    "  mode='markers+text'\n",
    ")\n",
    "\n",
    "\n",
    "fig = go.Figure(data=traza_3d)\n",
    "fig.update_layout(\n",
    "    title=\"Fallecimientos - Distritos Perú\",\n",
    "    xaxis_title=\"Años de Educación (Población 25 y más)\",\n",
    "    yaxis_title=\"Incremento Relativo de Fallecimientos (2020-2019) (%)\",\n",
    "    legend_title=\"Año\"\n",
    ")\n",
    "\n",
    "fig.show()\n",
    "\"\"\""
   ]
  }
 ],
 "metadata": {
  "kernelspec": {
   "display_name": "covid19jcpk",
   "language": "python",
   "name": "covid19jcpk"
  },
  "language_info": {
   "codemirror_mode": {
    "name": "ipython",
    "version": 3
   },
   "file_extension": ".py",
   "mimetype": "text/x-python",
   "name": "python",
   "nbconvert_exporter": "python",
   "pygments_lexer": "ipython3",
   "version": "3.7.6"
  }
 },
 "nbformat": 4,
 "nbformat_minor": 4
}
